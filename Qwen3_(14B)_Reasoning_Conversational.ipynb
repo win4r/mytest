{
  "cells": [
    {
      "cell_type": "markdown",
      "metadata": {
        "id": "_2G22pVlpjyI"
      },
      "source": [
        "### 🚀🚀🚀\n",
        "### [AI超元域频道原创视频](https://www.youtube.com/@AIsuperdomain)\n",
        "\n",
        "### [🔥本篇笔记所对应的视频](https://youtu.be/opk1f-XtIsw)\n",
        "\n",
        "### [本地部署Qwen3模型 - 通过哔哩哔哩观看](https://www.bilibili.com/video/BV1XmG1zcEUd/)\n",
        "### [本地部署Qwen3模型 - 通过YouTube观看](https://youtu.be/zbjwo97F4kQ)\n",
        "\n",
        "**微调后的模型获得的能力:**\n",
        "\n",
        "1. 双模式操作能力:\n",
        "\n",
        " - 普通对话模式: 适用于日常聊天场景\n",
        " - 思考模式(Thinking Mode): 用于解决需要推理的问题\n",
        "\n",
        "\n",
        "2. 数学推理能力: 能够解决数学问题并展示详细的推理过程，如示例中的\"解方程(x + 2)^2 = 0\"\n",
        "3. 对话能力保持: 同时保持了自然对话的能力，能够进行流畅的多轮对话\n",
        "\n",
        "微调使模型成为一个\"双重人格\"的助手，既能进行普通闲聊，又能在需要时切换到更严谨的思考模式来解决复杂问题，特别是数学问题。"
      ]
    },
    {
      "cell_type": "markdown",
      "metadata": {
        "id": "sPuoxRX8pjyJ"
      },
      "source": [
        "### 安装"
      ]
    },
    {
      "cell_type": "code",
      "execution_count": 1,
      "metadata": {
        "id": "qYfd24KzpjyK"
      },
      "outputs": [],
      "source": [
        "%%capture\n",
        "import os\n",
        "if \"COLAB_\" not in \"\".join(os.environ.keys()):\n",
        "    # 如果不是在Google Colab环境中运行，则简单安装unsloth库\n",
        "    !pip install unsloth\n",
        "else:\n",
        "    # 在Google Colab环境中运行时的特殊安装流程\n",
        "    # 首先安装所有依赖库，但不处理它们的依赖关系(--no-deps参数)\n",
        "    !pip install --no-deps bitsandbytes accelerate xformers==0.0.29.post3 peft trl==0.15.2 triton cut_cross_entropy unsloth_zoo\n",
        "    # 安装常用的自然语言处理和模型托管工具\n",
        "    !pip install sentencepiece protobuf datasets huggingface_hub hf_transfer\n",
        "    # 最后安装unsloth库本身，不处理依赖(避免版本冲突)\n",
        "    !pip install --no-deps unsloth\n"
      ]
    },
    {
      "cell_type": "markdown",
      "metadata": {
        "id": "iajq1W8ipjyK"
      },
      "source": [
        "### Unsloth"
      ]
    },
    {
      "cell_type": "code",
      "execution_count": 3,
      "metadata": {
        "colab": {
          "base_uri": "https://localhost:8080/",
          "height": 156,
          "referenced_widgets": [
            "22ff87da9aac4979891531f7770f4c8a",
            "2228a548bb9848aea0e0dfbbca781c6b",
            "4a3880398ed84345a8f736b15958a4f3",
            "8bb7dd33a77d4f958c8a2ee31f4f5b7c",
            "ac1c4772a2a24df387177f510dac47b9",
            "329f023fb793409cbf9a75c138d62b4c",
            "7c52fd22752c421693997a6e89b5357c",
            "3f93e56ab8f34ae8a3066f354c9b01ec",
            "c4fe9b9a705b4d9cae866fcfcc50e44c",
            "f1e51e20ccc947f99c730400df68ff6e",
            "4e96179a8f3847f2922417ea37b3eb04"
          ]
        },
        "id": "QmUBVEnvCDJv",
        "outputId": "fd1703e8-fb64-4136-99d7-2fde3f50eff9"
      },
      "outputs": [
        {
          "output_type": "stream",
          "name": "stdout",
          "text": [
            "==((====))==  Unsloth 2025.4.7: Fast Qwen3 patching. Transformers: 4.51.3.\n",
            "   \\\\   /|    NVIDIA A100-SXM4-40GB. Num GPUs = 1. Max memory: 39.557 GB. Platform: Linux.\n",
            "O^O/ \\_/ \\    Torch: 2.6.0+cu124. CUDA: 8.0. CUDA Toolkit: 12.4. Triton: 3.2.0\n",
            "\\        /    Bfloat16 = TRUE. FA [Xformers = 0.0.29.post3. FA2 = False]\n",
            " \"-____-\"     Free license: http://github.com/unslothai/unsloth\n",
            "Unsloth: Fast downloading is enabled - ignore downloading bars which are red colored!\n"
          ]
        },
        {
          "output_type": "display_data",
          "data": {
            "text/plain": [
              "Loading checkpoint shards:   0%|          | 0/3 [00:00<?, ?it/s]"
            ],
            "application/vnd.jupyter.widget-view+json": {
              "version_major": 2,
              "version_minor": 0,
              "model_id": "22ff87da9aac4979891531f7770f4c8a"
            }
          },
          "metadata": {}
        }
      ],
      "source": [
        "from unsloth import FastLanguageModel\n",
        "import torch\n",
        "\n",
        "fourbit_models = [\n",
        "    \"unsloth/Qwen3-1.7B-unsloth-bnb-4bit\", # Qwen 14B 2x faster\n",
        "    \"unsloth/Qwen3-4B-unsloth-bnb-4bit\",\n",
        "    \"unsloth/Qwen3-8B-unsloth-bnb-4bit\",\n",
        "    \"unsloth/Qwen3-14B-unsloth-bnb-4bit\",\n",
        "    \"unsloth/Qwen3-32B-unsloth-bnb-4bit\",\n",
        "\n",
        "    # 4bit dynamic quants for superior accuracy and low memory use\n",
        "    \"unsloth/gemma-3-12b-it-unsloth-bnb-4bit\",\n",
        "    \"unsloth/Phi-4\",\n",
        "    \"unsloth/Llama-3.1-8B\",\n",
        "    \"unsloth/Llama-3.2-3B\",\n",
        "    \"unsloth/orpheus-3b-0.1-ft-unsloth-bnb-4bit\" # [NEW] We support TTS models!\n",
        "] # More models at https://huggingface.co/unsloth\n",
        "\n",
        "model, tokenizer = FastLanguageModel.from_pretrained(\n",
        "    model_name = \"unsloth/Qwen3-14B\",\n",
        "    max_seq_length = 2048,   # Context length - can be longer, but uses more memory\n",
        "    load_in_4bit = True,     # 4bit uses much less memory\n",
        "    load_in_8bit = False,    # A bit more accurate, uses 2x memory\n",
        "    full_finetuning = False, # We have full finetuning now!\n",
        "    token = \"\",      # use one if using gated models\n",
        ")"
      ]
    },
    {
      "cell_type": "markdown",
      "metadata": {
        "id": "SXd9bTZd1aaL"
      },
      "source": [
        "We now add LoRA adapters so we only need to update 1 to 10% of all parameters!"
      ]
    },
    {
      "cell_type": "code",
      "execution_count": 4,
      "metadata": {
        "colab": {
          "base_uri": "https://localhost:8080/"
        },
        "id": "6bZsfBuZDeCL",
        "outputId": "19ed9c7d-c8b6-465b-e5b5-879a5a952220"
      },
      "outputs": [
        {
          "output_type": "stream",
          "name": "stderr",
          "text": [
            "Unsloth 2025.4.7 patched 40 layers with 40 QKV layers, 40 O layers and 40 MLP layers.\n"
          ]
        }
      ],
      "source": [
        "# 添加LoRA适配器\n",
        "# 通过LoRA技术，只需要更新1-10%的参数即可实现有效微调\n",
        "model = FastLanguageModel.get_peft_model(\n",
        "    model,\n",
        "    r = 32,           # # LoRA秩，建议值为8,16,32,64,128\n",
        "    target_modules = [\"q_proj\", \"k_proj\", \"v_proj\", \"o_proj\",\n",
        "                      \"gate_proj\", \"up_proj\", \"down_proj\",],\n",
        "    lora_alpha = 32,  # LoRA alpha值，建议设为rank或rank*2\n",
        "    lora_dropout = 0, # LoRA dropout，0值经过优化\n",
        "    bias = \"none\",    # 偏置设置，\"none\"已优化\n",
        "    # [新特性] \"unsloth\"模式减少30%显存，可适应2倍大的批次大小\n",
        "    use_gradient_checkpointing = \"unsloth\", #梯度检查点，用于长上下文\n",
        "    random_state = 3407,  # 随机种子\n",
        "    use_rslora = False,   # 是否使用rank stabilized LoRA\n",
        "    loftq_config = None,  # LoftQ配置\n",
        ")"
      ]
    },
    {
      "cell_type": "markdown",
      "metadata": {
        "id": "vITh0KVJ10qX"
      },
      "source": [
        "<a name=\"Data\"></a>\n",
        "### Data Prep\n",
        "Qwen3 has both reasoning and a non reasoning mode. So, we should use 2 datasets:\n",
        "\n",
        "1. We use the [Open Math Reasoning]() dataset which was used to win the [AIMO](https://www.kaggle.com/competitions/ai-mathematical-olympiad-progress-prize-2/leaderboard) (AI Mathematical Olympiad - Progress Prize 2) challenge! We sample 10% of verifiable reasoning traces that used DeepSeek R1, and whicht got > 95% accuracy.\n",
        "\n",
        "2. We also leverage [Maxime Labonne's FineTome-100k](https://huggingface.co/datasets/mlabonne/FineTome-100k) dataset in ShareGPT style. But we need to convert it to HuggingFace's normal multiturn format as well."
      ]
    },
    {
      "cell_type": "code",
      "source": [
        "# 数据准备\n",
        "# Qwen3同时具有推理和非推理模式，因此使用两种数据集：\n",
        "# 1. OpenMathReasoning数据集 - 用于数学推理能力\n",
        "# 2. FineTome-100k数据集 - 用于一般对话能力\n",
        "from datasets import load_dataset\n",
        "# 加载数学推理数据集\n",
        "reasoning_dataset = load_dataset(\"unsloth/OpenMathReasoning-mini\", split = \"cot\",token=\"\")\n",
        "# 加载对话数据集\n",
        "non_reasoning_dataset = load_dataset(\"mlabonne/FineTome-100k\", split = \"train\",token=\"\")"
      ],
      "metadata": {
        "id": "5kyTw2n1edte",
        "colab": {
          "base_uri": "https://localhost:8080/",
          "height": 81,
          "referenced_widgets": [
            "bf6886fe81bd412eb7b4f67c3f9936ac",
            "6ef30a23963d45d2ac52c1fa1d2fd44d",
            "c3eece523a894e08b3517bc28f2d6df4",
            "9fa16fbb4ca84151a419df8318c8ecb6",
            "dfa22d36794248b6abd9c8c17555f610",
            "80ed66652eca41349d1d38346254876b",
            "4c0ad958a658478e9154bd1024d21e5d",
            "8877ae1a77cc4b6db8400d693df8b27e",
            "24eb0faa4d7944aaa89a8a05c05d90ac",
            "3e07d35fdb484b1ba988a1514e899d92",
            "7ff12c2191864cc69ff940051bb4639d",
            "0472637794e04e5aba12e28eb2e00b4a",
            "dfbbe10f1d95473cad120423fdf3afa7",
            "c5e8e30b19504bbca6b5d10bb13b06b2",
            "97f3c1eb4e0049828f603fc7185f2188",
            "432738fd380b42819af935f74f48754a",
            "57d01dcd19cc4f13b79f9a95ef41f88c",
            "16238ab15a8e4665ad8b2f3138cedc7a",
            "0878815037324f039d01e175ebfebf83",
            "ab445c0c1e2744eeac521967c61a286c",
            "bf79ff403d5d4f83a61fb970d3d1c38f",
            "15e0740762ee4e28990f46cabaae3c67"
          ]
        },
        "outputId": "0703783e-ebdf-47a1-bbcf-c6612ca55143"
      },
      "execution_count": 5,
      "outputs": [
        {
          "output_type": "display_data",
          "data": {
            "text/plain": [
              "Generating cot split:   0%|          | 0/19252 [00:00<?, ? examples/s]"
            ],
            "application/vnd.jupyter.widget-view+json": {
              "version_major": 2,
              "version_minor": 0,
              "model_id": "bf6886fe81bd412eb7b4f67c3f9936ac"
            }
          },
          "metadata": {}
        },
        {
          "output_type": "display_data",
          "data": {
            "text/plain": [
              "Generating train split:   0%|          | 0/100000 [00:00<?, ? examples/s]"
            ],
            "application/vnd.jupyter.widget-view+json": {
              "version_major": 2,
              "version_minor": 0,
              "model_id": "0472637794e04e5aba12e28eb2e00b4a"
            }
          },
          "metadata": {}
        }
      ]
    },
    {
      "cell_type": "markdown",
      "source": [
        "Let's see the structure of both datasets:"
      ],
      "metadata": {
        "id": "PTZICZtie3lQ"
      }
    },
    {
      "cell_type": "code",
      "source": [
        "# 查看推理数据集结构\n",
        "reasoning_dataset"
      ],
      "metadata": {
        "colab": {
          "base_uri": "https://localhost:8080/"
        },
        "id": "DjgH3lt0e2Sz",
        "outputId": "d8bf5b3b-1ae3-4db7-f6a7-b846b5d040c7"
      },
      "execution_count": 6,
      "outputs": [
        {
          "output_type": "execute_result",
          "data": {
            "text/plain": [
              "Dataset({\n",
              "    features: ['expected_answer', 'problem_type', 'problem_source', 'generation_model', 'pass_rate_72b_tir', 'problem', 'generated_solution', 'inference_mode'],\n",
              "    num_rows: 19252\n",
              "})"
            ]
          },
          "metadata": {},
          "execution_count": 6
        }
      ]
    },
    {
      "cell_type": "code",
      "source": [
        "# 查看非推理数据集结构\n",
        "non_reasoning_dataset"
      ],
      "metadata": {
        "colab": {
          "base_uri": "https://localhost:8080/"
        },
        "id": "_zoaygOAe3I2",
        "outputId": "d9cf5e89-a0fa-4b88-f17b-bd9fb8f74350"
      },
      "execution_count": 7,
      "outputs": [
        {
          "output_type": "execute_result",
          "data": {
            "text/plain": [
              "Dataset({\n",
              "    features: ['conversations', 'source', 'score'],\n",
              "    num_rows: 100000\n",
              "})"
            ]
          },
          "metadata": {},
          "execution_count": 7
        }
      ]
    },
    {
      "cell_type": "markdown",
      "source": [
        "We now convert the reasoning dataset into conversational format:"
      ],
      "metadata": {
        "id": "YX8H3urDe00l"
      }
    },
    {
      "cell_type": "code",
      "execution_count": 8,
      "metadata": {
        "id": "LjY75GoYUCB8"
      },
      "outputs": [],
      "source": [
        "# 将推理数据集转换为对话格式\n",
        "# 将数学问题和解决方案转换为用户-助手对话格式\n",
        "# 参数:\n",
        "#     examples: 批量样本，包含问题和解决方案\n",
        "# 返回:\n",
        "#     包含对话格式的字典\n",
        "\n",
        "def generate_conversation(examples):\n",
        "    problems  = examples[\"problem\"]\n",
        "    solutions = examples[\"generated_solution\"]\n",
        "    conversations = []\n",
        "    for problem, solution in zip(problems, solutions):\n",
        "        conversations.append([\n",
        "            {\"role\" : \"user\",      \"content\" : problem},\n",
        "            {\"role\" : \"assistant\", \"content\" : solution},\n",
        "        ])\n",
        "    return { \"conversations\": conversations, }"
      ]
    },
    {
      "cell_type": "code",
      "source": [
        "# 将转换后的推理数据集应用对话模板\n",
        "reasoning_conversations = tokenizer.apply_chat_template(\n",
        "    reasoning_dataset.map(generate_conversation, batched = True)[\"conversations\"],\n",
        "    tokenize = False, # 不进行分词，仅应用模板\n",
        ")"
      ],
      "metadata": {
        "id": "gbh19fTOfHDB",
        "colab": {
          "base_uri": "https://localhost:8080/",
          "height": 49,
          "referenced_widgets": [
            "0f743df3cef94251ba70735bfe8e1b8c",
            "6bfdd420212646e49d2ddfc76d018c1f",
            "e6a46f631a2141f0a99195288f911df0",
            "151c98712b0648e5a03a32685ecf31e6",
            "bfe8be91fbd74a039272c85810643a9d",
            "82f51452d0a542428d2a353d87e333bb",
            "425c93c781b54313abcd85ccea943eb7",
            "a0dc3980d1ab44d987e3740b6f1d9152",
            "3ae1fa5dfc43401283150e8353b738f5",
            "97c4e066d59e4945ba90bae0d240a01a",
            "767f22fca3ed43a2932f4b24f4eb5f85"
          ]
        },
        "outputId": "65374938-b0eb-45e4-a248-1a3dc5bd7771"
      },
      "execution_count": 9,
      "outputs": [
        {
          "output_type": "display_data",
          "data": {
            "text/plain": [
              "Map:   0%|          | 0/19252 [00:00<?, ? examples/s]"
            ],
            "application/vnd.jupyter.widget-view+json": {
              "version_major": 2,
              "version_minor": 0,
              "model_id": "0f743df3cef94251ba70735bfe8e1b8c"
            }
          },
          "metadata": {}
        }
      ]
    },
    {
      "cell_type": "markdown",
      "source": [
        "Let's see the first transformed row:"
      ],
      "metadata": {
        "id": "XTexROzQfJn5"
      }
    },
    {
      "cell_type": "code",
      "source": [
        "# 查看转换后的第一个样本\n",
        "reasoning_conversations[0]"
      ],
      "metadata": {
        "colab": {
          "base_uri": "https://localhost:8080/",
          "height": 107
        },
        "id": "mkj4c6NrfIz3",
        "outputId": "29793949-db0b-4c0f-e873-65703c0035ec"
      },
      "execution_count": 10,
      "outputs": [
        {
          "output_type": "execute_result",
          "data": {
            "text/plain": [
              "\"<|im_start|>user\\nGiven $\\\\sqrt{x^2+165}-\\\\sqrt{x^2-52}=7$ and $x$ is positive, find all possible values of $x$.<|im_end|>\\n<|im_start|>assistant\\n<think>\\nOkay, let's see. I need to solve the equation √(x² + 165) - √(x² - 52) = 7, and find all positive values of x. Hmm, radicals can be tricky, but maybe if I can eliminate the square roots by squaring both sides. Let me try that.\\n\\nFirst, let me write down the equation again to make sure I have it right:\\n\\n√(x² + 165) - √(x² - 52) = 7.\\n\\nOkay, so the idea is to isolate one of the radicals and then square both sides. Let me try moving the second radical to the other side:\\n\\n√(x² + 165) = 7 + √(x² - 52).\\n\\nNow, if I square both sides, maybe I can get rid of the square roots. Let's do that:\\n\\n(√(x² + 165))² = (7 + √(x² - 52))².\\n\\nSimplifying the left side:\\n\\nx² + 165 = 49 + 14√(x² - 52) + (√(x² - 52))².\\n\\nThe right side is expanded using the formula (a + b)² = a² + 2ab + b². So the right side becomes 7² + 2*7*√(x² - 52) + (√(x² - 52))², which is 49 + 14√(x² - 52) + (x² - 52).\\n\\nSo putting it all together:\\n\\nx² + 165 = 49 + 14√(x² - 52) + x² - 52.\\n\\nHmm, let's simplify the right side. The x² terms will cancel out, right? Let's subtract x² from both sides:\\n\\n165 = 49 + 14√(x² - 52) - 52.\\n\\nSimplify the constants on the right:\\n\\n49 - 52 is -3, so:\\n\\n165 = -3 + 14√(x² - 52).\\n\\nNow, add 3 to both sides to isolate the radical term:\\n\\n165 + 3 = 14√(x² - 52).\\n\\nSo 168 = 14√(x² - 52).\\n\\nDivide both sides by 14:\\n\\n168 / 14 = √(x² - 52).\\n\\n12 = √(x² - 52).\\n\\nNow, square both sides again to eliminate the square root:\\n\\n12² = x² - 52.\\n\\n144 = x² - 52.\\n\\nAdd 52 to both sides:\\n\\n144 + 52 = x².\\n\\n196 = x².\\n\\nSo x = √196 = 14.\\n\\nBut wait, since the problem states that x is positive, we only take the positive root. So x = 14.\\n\\nBut hold on, when dealing with squaring equations, sometimes extraneous solutions can come up. I should check if this solution actually satisfies the original equation.\\n\\nLet's plug x = 14 back into the original equation:\\n\\n√(14² + 165) - √(14² - 52) = ?\\n\\nCalculate each term:\\n\\n14² is 196.\\n\\nSo first radical: √(196 + 165) = √361 = 19.\\n\\nSecond radical: √(196 - 52) = √144 = 12.\\n\\nSo 19 - 12 = 7, which is exactly the right-hand side. So yes, it checks out.\\n\\nTherefore, the only solution is x = 14. Since the problem says x is positive, we don't have to consider negative roots. So I think that's the answer.\\n</think>\\n\\nTo solve the equation \\\\(\\\\sqrt{x^2 + 165} - \\\\sqrt{x^2 - 52} = 7\\\\) for positive \\\\(x\\\\), we proceed as follows:\\n\\n1. Start with the given equation:\\n   \\\\[\\n   \\\\sqrt{x^2 + 165} - \\\\sqrt{x^2 - 52} = 7\\n   \\\\]\\n\\n2. Isolate one of the square roots by moving \\\\(\\\\sqrt{x^2 - 52}\\\\) to the right side:\\n   \\\\[\\n   \\\\sqrt{x^2 + 165} = 7 + \\\\sqrt{x^2 - 52}\\n   \\\\]\\n\\n3. Square both sides to eliminate the square root on the left:\\n   \\\\[\\n   (\\\\sqrt{x^2 + 165})^2 = (7 + \\\\sqrt{x^2 - 52})^2\\n   \\\\]\\n   Simplifying both sides, we get:\\n   \\\\[\\n   x^2 + 165 = 49 + 14\\\\sqrt{x^2 - 52} + (x^2 - 52)\\n   \\\\]\\n\\n4. Combine like terms on the right side:\\n   \\\\[\\n   x^2 + 165 = x^2 - 52 + 49 + 14\\\\sqrt{x^2 - 52}\\n   \\\\]\\n   Simplifying further:\\n   \\\\[\\n   x^2 + 165 = x^2 - 3 + 14\\\\sqrt{x^2 - 52}\\n   \\\\]\\n\\n5. Subtract \\\\(x^2\\\\) from both sides:\\n   \\\\[\\n   165 = -3 + 14\\\\sqrt{x^2 - 52}\\n   \\\\]\\n\\n6. Add 3 to both sides to isolate the term with the square root:\\n   \\\\[\\n   168 = 14\\\\sqrt{x^2 - 52}\\n   \\\\]\\n\\n7. Divide both sides by 14:\\n   \\\\[\\n   12 = \\\\sqrt{x^2 - 52}\\n   \\\\]\\n\\n8. Square both sides again to eliminate the square root:\\n   \\\\[\\n   12^2 = x^2 - 52\\n   \\\\]\\n   Simplifying:\\n   \\\\[\\n   144 = x^2 - 52\\n   \\\\]\\n\\n9. Add 52 to both sides to solve for \\\\(x^2\\\\):\\n   \\\\[\\n   196 = x^2\\n   \\\\]\\n\\n10. Take the positive square root (since \\\\(x\\\\) is positive):\\n    \\\\[\\n    x = \\\\sqrt{196} = 14\\n    \\\\]\\n\\n11. Verify the solution by substituting \\\\(x = 14\\\\) back into the original equation:\\n    \\\\[\\n    \\\\sqrt{14^2 + 165} - \\\\sqrt{14^2 - 52} = \\\\sqrt{196 + 165} - \\\\sqrt{196 - 52} = \\\\sqrt{361} - \\\\sqrt{144} = 19 - 12 = 7\\n    \\\\]\\n    The solution checks out.\\n\\nThus, the only positive solution is:\\n\\\\[\\n\\\\boxed{14}\\n\\\\]<|im_end|>\\n\""
            ],
            "application/vnd.google.colaboratory.intrinsic+json": {
              "type": "string"
            }
          },
          "metadata": {},
          "execution_count": 10
        }
      ]
    },
    {
      "cell_type": "markdown",
      "source": [
        "Next we take the non reasoning dataset and convert it to conversational format as well.\n",
        "\n",
        "We have to use Unsloth's `standardize_sharegpt` function to fix up the format of the dataset first."
      ],
      "metadata": {
        "id": "5OMhyEXkfM5e"
      }
    },
    {
      "cell_type": "code",
      "source": [
        "# 处理非推理数据集，转换为标准对话格式\n",
        "from unsloth.chat_templates import standardize_sharegpt\n",
        "dataset = standardize_sharegpt(non_reasoning_dataset)\n",
        "\n",
        "# 将标准化后的非推理数据集应用对话模板\n",
        "non_reasoning_conversations = tokenizer.apply_chat_template(\n",
        "    dataset[\"conversations\"],\n",
        "    tokenize = False,\n",
        ")"
      ],
      "metadata": {
        "colab": {
          "base_uri": "https://localhost:8080/",
          "height": 49,
          "referenced_widgets": [
            "e288da716130428ca3d2e3b81157fa2f",
            "ab43f6201e07447ea5d923b0f0c1d60b",
            "923e57eb73b04278a9d6d22dfac571da",
            "92d4e7ca3b994253a8ca0bf87de4984e",
            "08910361067540918f4cb82181108918",
            "6eb62ad360204d6081c4122920a2eafc",
            "7d42c76653c248f09a62af23790b575e",
            "d5efc463a8bd4f1e828fd77ba2e5f5b0",
            "bf459f31d8324480a3e6b4c921773d72",
            "ab084f3da10b461697cebe6d6561b91f",
            "977b86014b0241f5b0bebbf6cfcebdb3"
          ]
        },
        "id": "nXBFaeQHfSxp",
        "outputId": "80cbaaca-c87e-4c29-bc09-cc6b10550659"
      },
      "execution_count": 11,
      "outputs": [
        {
          "output_type": "display_data",
          "data": {
            "text/plain": [
              "Unsloth: Standardizing formats (num_proc=12):   0%|          | 0/100000 [00:00<?, ? examples/s]"
            ],
            "application/vnd.jupyter.widget-view+json": {
              "version_major": 2,
              "version_minor": 0,
              "model_id": "e288da716130428ca3d2e3b81157fa2f"
            }
          },
          "metadata": {}
        }
      ]
    },
    {
      "cell_type": "markdown",
      "source": [
        "Let's see the first row"
      ],
      "metadata": {
        "id": "Q9FcosGvfdNr"
      }
    },
    {
      "cell_type": "code",
      "source": [
        "# 查看转换后的第一个非推理样本\n",
        "non_reasoning_conversations[0]"
      ],
      "metadata": {
        "colab": {
          "base_uri": "https://localhost:8080/",
          "height": 107
        },
        "id": "pb0hbEekfeqf",
        "outputId": "89e2fbfe-9765-47e1-d291-ab78af256b2f"
      },
      "execution_count": 12,
      "outputs": [
        {
          "output_type": "execute_result",
          "data": {
            "text/plain": [
              "'<|im_start|>user\\nExplain what boolean operators are, what they do, and provide examples of how they can be used in programming. Additionally, describe the concept of operator precedence and provide examples of how it affects the evaluation of boolean expressions. Discuss the difference between short-circuit evaluation and normal evaluation in boolean expressions and demonstrate their usage in code. \\n\\nFurthermore, add the requirement that the code must be written in a language that does not support short-circuit evaluation natively, forcing the test taker to implement their own logic for short-circuit evaluation.\\n\\nFinally, delve into the concept of truthiness and falsiness in programming languages, explaining how it affects the evaluation of boolean expressions. Add the constraint that the test taker must write code that handles cases where truthiness and falsiness are implemented differently across different programming languages.<|im_end|>\\n<|im_start|>assistant\\n<think>\\n\\n</think>\\n\\nBoolean operators are logical operators used in programming to manipulate boolean values. They operate on one or more boolean operands and return a boolean result. The three main boolean operators are \"AND\" (&&), \"OR\" (||), and \"NOT\" (!).\\n\\nThe \"AND\" operator returns true if both of its operands are true, and false otherwise. For example:\\n\\n```python\\nx = 5\\ny = 10\\nresult = (x > 0) and (y < 20)  # This expression evaluates to True\\n```\\n\\nThe \"OR\" operator returns true if at least one of its operands is true, and false otherwise. For example:\\n\\n```python\\nx = 5\\ny = 10\\nresult = (x > 0) or (y < 20)  # This expression evaluates to True\\n```\\n\\nThe \"NOT\" operator negates the boolean value of its operand. It returns true if the operand is false, and false if the operand is true. For example:\\n\\n```python\\nx = 5\\nresult = not (x > 10)  # This expression evaluates to True\\n```\\n\\nOperator precedence refers to the order in which operators are evaluated in an expression. It ensures that expressions are evaluated correctly. In most programming languages, logical AND has higher precedence than logical OR. For example:\\n\\n```python\\nresult = True or False and False  # This expression is evaluated as (True or (False and False)), which is True\\n```\\n\\nShort-circuit evaluation is a behavior where the second operand of a logical operator is not evaluated if the result can be determined based on the value of the first operand. In short-circuit evaluation, if the first operand of an \"AND\" operator is false, the second operand is not evaluated because the result will always be false. Similarly, if the first operand of an \"OR\" operator is true, the second operand is not evaluated because the result will always be true.\\n\\nIn programming languages that support short-circuit evaluation natively, you can use it to improve performance or avoid errors. For example:\\n\\n```python\\nif x != 0 and (y / x) > 10:\\n    # Perform some operation\\n```\\n\\nIn languages without native short-circuit evaluation, you can implement your own logic to achieve the same behavior. Here\\'s an example in pseudocode:\\n\\n```\\nif x != 0 {\\n    if (y / x) > 10 {\\n        // Perform some operation\\n    }\\n}\\n```\\n\\nTruthiness and falsiness refer to how non-boolean values are evaluated in boolean contexts. In many programming languages, non-zero numbers and non-empty strings are considered truthy, while zero, empty strings, and null/None values are considered falsy.\\n\\nWhen evaluating boolean expressions, truthiness and falsiness come into play. For example:\\n\\n```python\\nx = 5\\nresult = x  # The value of x is truthy, so result is also truthy\\n```\\n\\nTo handle cases where truthiness and falsiness are implemented differently across programming languages, you can explicitly check the desired condition. For example:\\n\\n```python\\nx = 5\\nresult = bool(x)  # Explicitly converting x to a boolean value\\n```\\n\\nThis ensures that the result is always a boolean value, regardless of the language\\'s truthiness and falsiness rules.<|im_end|>\\n'"
            ],
            "application/vnd.google.colaboratory.intrinsic+json": {
              "type": "string"
            }
          },
          "metadata": {},
          "execution_count": 12
        }
      ]
    },
    {
      "cell_type": "markdown",
      "source": [
        "Now let's see how long both datasets are:"
      ],
      "metadata": {
        "id": "c_0L18QMfot4"
      }
    },
    {
      "cell_type": "code",
      "source": [
        "# 查看两个数据集的大小\n",
        "print(len(reasoning_conversations))\n",
        "print(len(non_reasoning_conversations))"
      ],
      "metadata": {
        "colab": {
          "base_uri": "https://localhost:8080/"
        },
        "id": "unDFuUq1foWj",
        "outputId": "e650aeac-3c07-47e9-e538-6b06df2d5e23"
      },
      "execution_count": 13,
      "outputs": [
        {
          "output_type": "stream",
          "name": "stdout",
          "text": [
            "19252\n",
            "100000\n"
          ]
        }
      ]
    },
    {
      "cell_type": "markdown",
      "source": [
        "The non reasoning dataset is much longer. Let's assume we want the model to retain some reasoning capabilities, but we specifically want a chat model.\n",
        "\n",
        "Let's define a ratio of chat only data. The goal is to define some mixture of both sets of data.\n",
        "\n",
        "Let's select 25% reasoning and 75% chat based:"
      ],
      "metadata": {
        "id": "dgknnOf7fn3e"
      }
    },
    {
      "cell_type": "code",
      "source": [
        "# 设置聊天数据比例\n",
        "# 让模型保持25%的推理能力和75%的聊天能力\n",
        "chat_percentage = 0.75"
      ],
      "metadata": {
        "id": "_szfriCBgCkU"
      },
      "execution_count": 14,
      "outputs": []
    },
    {
      "cell_type": "markdown",
      "source": [
        "Let's sample the reasoning dataset by 25% (or whatever is 100% - chat_percentage)"
      ],
      "metadata": {
        "id": "DANuEJA7gL58"
      }
    },
    {
      "cell_type": "code",
      "source": [
        "# 从非推理数据集中抽样，抽取数量为推理数据集的25%\n",
        "import pandas as pd\n",
        "non_reasoning_subset = pd.Series(non_reasoning_conversations)\n",
        "non_reasoning_subset = non_reasoning_subset.sample(\n",
        "    int(len(reasoning_conversations) * (1.0 - chat_percentage)),# 采样大小：推理数据集大小的25%\n",
        "    random_state = 2407,\n",
        ")"
      ],
      "metadata": {
        "id": "7-e0KO9GgFy3"
      },
      "execution_count": 15,
      "outputs": []
    },
    {
      "cell_type": "markdown",
      "source": [
        "Finally combine both datasets:"
      ],
      "metadata": {
        "id": "qR-4prS_gVel"
      }
    },
    {
      "cell_type": "code",
      "source": [
        "# 合并两个数据集\n",
        "data = pd.concat([\n",
        "    pd.Series(reasoning_conversations),    # 推理对话数据\n",
        "    pd.Series(non_reasoning_subset)        # 采样后的非推理对话数据\n",
        "])\n",
        "data.name = \"text\"  # 设置数据列名为\"text\"\n",
        "\n",
        "# 将合并的数据转换为HuggingFace Dataset格式\n",
        "from datasets import Dataset\n",
        "combined_dataset = Dataset.from_pandas(pd.DataFrame(data))\n",
        "# 随机打乱数据集\n",
        "combined_dataset = combined_dataset.shuffle(seed = 3407)"
      ],
      "metadata": {
        "id": "jfV47_SXgXH4"
      },
      "execution_count": 16,
      "outputs": []
    },
    {
      "cell_type": "code",
      "source": [
        "# 查看数据集的基本信息\n",
        "print(combined_dataset)\n",
        "\n",
        "# 使用DataFrame展示前10条记录\n",
        "import pandas as pd\n",
        "\n",
        "# 转换为pandas DataFrame以便更好地显示\n",
        "df = pd.DataFrame(combined_dataset[:10])\n",
        "display(df)"
      ],
      "metadata": {
        "colab": {
          "base_uri": "https://localhost:8080/",
          "height": 434
        },
        "id": "goRJZrkvIkWg",
        "outputId": "af733a85-832f-403e-9b24-891c470f16c4"
      },
      "execution_count": 17,
      "outputs": [
        {
          "output_type": "stream",
          "name": "stdout",
          "text": [
            "Dataset({\n",
            "    features: ['text', '__index_level_0__'],\n",
            "    num_rows: 24065\n",
            "})\n"
          ]
        },
        {
          "output_type": "display_data",
          "data": {
            "text/plain": [
              "                                                text  __index_level_0__\n",
              "0  <|im_start|>user\\nCalculate the pH during a ti...              49038\n",
              "1  <|im_start|>user\\nFind the remainder when \\(9 ...              17982\n",
              "2  <|im_start|>user\\nDetermine the surface area o...              18456\n",
              "3  <|im_start|>user\\nAn isosceles right triangle ...              57138\n",
              "4  <|im_start|>user\\nUse the Residue theorem to e...              10703\n",
              "5  <|im_start|>user\\nFind the minimum value of \\(...              16248\n",
              "6  <|im_start|>user\\nFind \\(\\lim_{n\\to+\\infty}\\in...               1475\n",
              "7  <|im_start|>user\\nWhat is the most formal defi...              57551\n",
              "8  <|im_start|>user\\nWhat is the greatest integer...               1226\n",
              "9  <|im_start|>user\\nLet $f(n)$ denote the n-th i...              16692"
            ],
            "text/html": [
              "\n",
              "  <div id=\"df-afe92d51-d78e-472c-8292-b6ef026194bf\" class=\"colab-df-container\">\n",
              "    <div>\n",
              "<style scoped>\n",
              "    .dataframe tbody tr th:only-of-type {\n",
              "        vertical-align: middle;\n",
              "    }\n",
              "\n",
              "    .dataframe tbody tr th {\n",
              "        vertical-align: top;\n",
              "    }\n",
              "\n",
              "    .dataframe thead th {\n",
              "        text-align: right;\n",
              "    }\n",
              "</style>\n",
              "<table border=\"1\" class=\"dataframe\">\n",
              "  <thead>\n",
              "    <tr style=\"text-align: right;\">\n",
              "      <th></th>\n",
              "      <th>text</th>\n",
              "      <th>__index_level_0__</th>\n",
              "    </tr>\n",
              "  </thead>\n",
              "  <tbody>\n",
              "    <tr>\n",
              "      <th>0</th>\n",
              "      <td>&lt;|im_start|&gt;user\\nCalculate the pH during a ti...</td>\n",
              "      <td>49038</td>\n",
              "    </tr>\n",
              "    <tr>\n",
              "      <th>1</th>\n",
              "      <td>&lt;|im_start|&gt;user\\nFind the remainder when \\(9 ...</td>\n",
              "      <td>17982</td>\n",
              "    </tr>\n",
              "    <tr>\n",
              "      <th>2</th>\n",
              "      <td>&lt;|im_start|&gt;user\\nDetermine the surface area o...</td>\n",
              "      <td>18456</td>\n",
              "    </tr>\n",
              "    <tr>\n",
              "      <th>3</th>\n",
              "      <td>&lt;|im_start|&gt;user\\nAn isosceles right triangle ...</td>\n",
              "      <td>57138</td>\n",
              "    </tr>\n",
              "    <tr>\n",
              "      <th>4</th>\n",
              "      <td>&lt;|im_start|&gt;user\\nUse the Residue theorem to e...</td>\n",
              "      <td>10703</td>\n",
              "    </tr>\n",
              "    <tr>\n",
              "      <th>5</th>\n",
              "      <td>&lt;|im_start|&gt;user\\nFind the minimum value of \\(...</td>\n",
              "      <td>16248</td>\n",
              "    </tr>\n",
              "    <tr>\n",
              "      <th>6</th>\n",
              "      <td>&lt;|im_start|&gt;user\\nFind \\(\\lim_{n\\to+\\infty}\\in...</td>\n",
              "      <td>1475</td>\n",
              "    </tr>\n",
              "    <tr>\n",
              "      <th>7</th>\n",
              "      <td>&lt;|im_start|&gt;user\\nWhat is the most formal defi...</td>\n",
              "      <td>57551</td>\n",
              "    </tr>\n",
              "    <tr>\n",
              "      <th>8</th>\n",
              "      <td>&lt;|im_start|&gt;user\\nWhat is the greatest integer...</td>\n",
              "      <td>1226</td>\n",
              "    </tr>\n",
              "    <tr>\n",
              "      <th>9</th>\n",
              "      <td>&lt;|im_start|&gt;user\\nLet $f(n)$ denote the n-th i...</td>\n",
              "      <td>16692</td>\n",
              "    </tr>\n",
              "  </tbody>\n",
              "</table>\n",
              "</div>\n",
              "    <div class=\"colab-df-buttons\">\n",
              "\n",
              "  <div class=\"colab-df-container\">\n",
              "    <button class=\"colab-df-convert\" onclick=\"convertToInteractive('df-afe92d51-d78e-472c-8292-b6ef026194bf')\"\n",
              "            title=\"Convert this dataframe to an interactive table.\"\n",
              "            style=\"display:none;\">\n",
              "\n",
              "  <svg xmlns=\"http://www.w3.org/2000/svg\" height=\"24px\" viewBox=\"0 -960 960 960\">\n",
              "    <path d=\"M120-120v-720h720v720H120Zm60-500h600v-160H180v160Zm220 220h160v-160H400v160Zm0 220h160v-160H400v160ZM180-400h160v-160H180v160Zm440 0h160v-160H620v160ZM180-180h160v-160H180v160Zm440 0h160v-160H620v160Z\"/>\n",
              "  </svg>\n",
              "    </button>\n",
              "\n",
              "  <style>\n",
              "    .colab-df-container {\n",
              "      display:flex;\n",
              "      gap: 12px;\n",
              "    }\n",
              "\n",
              "    .colab-df-convert {\n",
              "      background-color: #E8F0FE;\n",
              "      border: none;\n",
              "      border-radius: 50%;\n",
              "      cursor: pointer;\n",
              "      display: none;\n",
              "      fill: #1967D2;\n",
              "      height: 32px;\n",
              "      padding: 0 0 0 0;\n",
              "      width: 32px;\n",
              "    }\n",
              "\n",
              "    .colab-df-convert:hover {\n",
              "      background-color: #E2EBFA;\n",
              "      box-shadow: 0px 1px 2px rgba(60, 64, 67, 0.3), 0px 1px 3px 1px rgba(60, 64, 67, 0.15);\n",
              "      fill: #174EA6;\n",
              "    }\n",
              "\n",
              "    .colab-df-buttons div {\n",
              "      margin-bottom: 4px;\n",
              "    }\n",
              "\n",
              "    [theme=dark] .colab-df-convert {\n",
              "      background-color: #3B4455;\n",
              "      fill: #D2E3FC;\n",
              "    }\n",
              "\n",
              "    [theme=dark] .colab-df-convert:hover {\n",
              "      background-color: #434B5C;\n",
              "      box-shadow: 0px 1px 3px 1px rgba(0, 0, 0, 0.15);\n",
              "      filter: drop-shadow(0px 1px 2px rgba(0, 0, 0, 0.3));\n",
              "      fill: #FFFFFF;\n",
              "    }\n",
              "  </style>\n",
              "\n",
              "    <script>\n",
              "      const buttonEl =\n",
              "        document.querySelector('#df-afe92d51-d78e-472c-8292-b6ef026194bf button.colab-df-convert');\n",
              "      buttonEl.style.display =\n",
              "        google.colab.kernel.accessAllowed ? 'block' : 'none';\n",
              "\n",
              "      async function convertToInteractive(key) {\n",
              "        const element = document.querySelector('#df-afe92d51-d78e-472c-8292-b6ef026194bf');\n",
              "        const dataTable =\n",
              "          await google.colab.kernel.invokeFunction('convertToInteractive',\n",
              "                                                    [key], {});\n",
              "        if (!dataTable) return;\n",
              "\n",
              "        const docLinkHtml = 'Like what you see? Visit the ' +\n",
              "          '<a target=\"_blank\" href=https://colab.research.google.com/notebooks/data_table.ipynb>data table notebook</a>'\n",
              "          + ' to learn more about interactive tables.';\n",
              "        element.innerHTML = '';\n",
              "        dataTable['output_type'] = 'display_data';\n",
              "        await google.colab.output.renderOutput(dataTable, element);\n",
              "        const docLink = document.createElement('div');\n",
              "        docLink.innerHTML = docLinkHtml;\n",
              "        element.appendChild(docLink);\n",
              "      }\n",
              "    </script>\n",
              "  </div>\n",
              "\n",
              "\n",
              "    <div id=\"df-8c5433a3-01f4-4a61-a506-f7c903bca75f\">\n",
              "      <button class=\"colab-df-quickchart\" onclick=\"quickchart('df-8c5433a3-01f4-4a61-a506-f7c903bca75f')\"\n",
              "                title=\"Suggest charts\"\n",
              "                style=\"display:none;\">\n",
              "\n",
              "<svg xmlns=\"http://www.w3.org/2000/svg\" height=\"24px\"viewBox=\"0 0 24 24\"\n",
              "     width=\"24px\">\n",
              "    <g>\n",
              "        <path d=\"M19 3H5c-1.1 0-2 .9-2 2v14c0 1.1.9 2 2 2h14c1.1 0 2-.9 2-2V5c0-1.1-.9-2-2-2zM9 17H7v-7h2v7zm4 0h-2V7h2v10zm4 0h-2v-4h2v4z\"/>\n",
              "    </g>\n",
              "</svg>\n",
              "      </button>\n",
              "\n",
              "<style>\n",
              "  .colab-df-quickchart {\n",
              "      --bg-color: #E8F0FE;\n",
              "      --fill-color: #1967D2;\n",
              "      --hover-bg-color: #E2EBFA;\n",
              "      --hover-fill-color: #174EA6;\n",
              "      --disabled-fill-color: #AAA;\n",
              "      --disabled-bg-color: #DDD;\n",
              "  }\n",
              "\n",
              "  [theme=dark] .colab-df-quickchart {\n",
              "      --bg-color: #3B4455;\n",
              "      --fill-color: #D2E3FC;\n",
              "      --hover-bg-color: #434B5C;\n",
              "      --hover-fill-color: #FFFFFF;\n",
              "      --disabled-bg-color: #3B4455;\n",
              "      --disabled-fill-color: #666;\n",
              "  }\n",
              "\n",
              "  .colab-df-quickchart {\n",
              "    background-color: var(--bg-color);\n",
              "    border: none;\n",
              "    border-radius: 50%;\n",
              "    cursor: pointer;\n",
              "    display: none;\n",
              "    fill: var(--fill-color);\n",
              "    height: 32px;\n",
              "    padding: 0;\n",
              "    width: 32px;\n",
              "  }\n",
              "\n",
              "  .colab-df-quickchart:hover {\n",
              "    background-color: var(--hover-bg-color);\n",
              "    box-shadow: 0 1px 2px rgba(60, 64, 67, 0.3), 0 1px 3px 1px rgba(60, 64, 67, 0.15);\n",
              "    fill: var(--button-hover-fill-color);\n",
              "  }\n",
              "\n",
              "  .colab-df-quickchart-complete:disabled,\n",
              "  .colab-df-quickchart-complete:disabled:hover {\n",
              "    background-color: var(--disabled-bg-color);\n",
              "    fill: var(--disabled-fill-color);\n",
              "    box-shadow: none;\n",
              "  }\n",
              "\n",
              "  .colab-df-spinner {\n",
              "    border: 2px solid var(--fill-color);\n",
              "    border-color: transparent;\n",
              "    border-bottom-color: var(--fill-color);\n",
              "    animation:\n",
              "      spin 1s steps(1) infinite;\n",
              "  }\n",
              "\n",
              "  @keyframes spin {\n",
              "    0% {\n",
              "      border-color: transparent;\n",
              "      border-bottom-color: var(--fill-color);\n",
              "      border-left-color: var(--fill-color);\n",
              "    }\n",
              "    20% {\n",
              "      border-color: transparent;\n",
              "      border-left-color: var(--fill-color);\n",
              "      border-top-color: var(--fill-color);\n",
              "    }\n",
              "    30% {\n",
              "      border-color: transparent;\n",
              "      border-left-color: var(--fill-color);\n",
              "      border-top-color: var(--fill-color);\n",
              "      border-right-color: var(--fill-color);\n",
              "    }\n",
              "    40% {\n",
              "      border-color: transparent;\n",
              "      border-right-color: var(--fill-color);\n",
              "      border-top-color: var(--fill-color);\n",
              "    }\n",
              "    60% {\n",
              "      border-color: transparent;\n",
              "      border-right-color: var(--fill-color);\n",
              "    }\n",
              "    80% {\n",
              "      border-color: transparent;\n",
              "      border-right-color: var(--fill-color);\n",
              "      border-bottom-color: var(--fill-color);\n",
              "    }\n",
              "    90% {\n",
              "      border-color: transparent;\n",
              "      border-bottom-color: var(--fill-color);\n",
              "    }\n",
              "  }\n",
              "</style>\n",
              "\n",
              "      <script>\n",
              "        async function quickchart(key) {\n",
              "          const quickchartButtonEl =\n",
              "            document.querySelector('#' + key + ' button');\n",
              "          quickchartButtonEl.disabled = true;  // To prevent multiple clicks.\n",
              "          quickchartButtonEl.classList.add('colab-df-spinner');\n",
              "          try {\n",
              "            const charts = await google.colab.kernel.invokeFunction(\n",
              "                'suggestCharts', [key], {});\n",
              "          } catch (error) {\n",
              "            console.error('Error during call to suggestCharts:', error);\n",
              "          }\n",
              "          quickchartButtonEl.classList.remove('colab-df-spinner');\n",
              "          quickchartButtonEl.classList.add('colab-df-quickchart-complete');\n",
              "        }\n",
              "        (() => {\n",
              "          let quickchartButtonEl =\n",
              "            document.querySelector('#df-8c5433a3-01f4-4a61-a506-f7c903bca75f button');\n",
              "          quickchartButtonEl.style.display =\n",
              "            google.colab.kernel.accessAllowed ? 'block' : 'none';\n",
              "        })();\n",
              "      </script>\n",
              "    </div>\n",
              "\n",
              "  <div id=\"id_7a875482-4ea1-4d45-b3c2-37935aafb114\">\n",
              "    <style>\n",
              "      .colab-df-generate {\n",
              "        background-color: #E8F0FE;\n",
              "        border: none;\n",
              "        border-radius: 50%;\n",
              "        cursor: pointer;\n",
              "        display: none;\n",
              "        fill: #1967D2;\n",
              "        height: 32px;\n",
              "        padding: 0 0 0 0;\n",
              "        width: 32px;\n",
              "      }\n",
              "\n",
              "      .colab-df-generate:hover {\n",
              "        background-color: #E2EBFA;\n",
              "        box-shadow: 0px 1px 2px rgba(60, 64, 67, 0.3), 0px 1px 3px 1px rgba(60, 64, 67, 0.15);\n",
              "        fill: #174EA6;\n",
              "      }\n",
              "\n",
              "      [theme=dark] .colab-df-generate {\n",
              "        background-color: #3B4455;\n",
              "        fill: #D2E3FC;\n",
              "      }\n",
              "\n",
              "      [theme=dark] .colab-df-generate:hover {\n",
              "        background-color: #434B5C;\n",
              "        box-shadow: 0px 1px 3px 1px rgba(0, 0, 0, 0.15);\n",
              "        filter: drop-shadow(0px 1px 2px rgba(0, 0, 0, 0.3));\n",
              "        fill: #FFFFFF;\n",
              "      }\n",
              "    </style>\n",
              "    <button class=\"colab-df-generate\" onclick=\"generateWithVariable('df')\"\n",
              "            title=\"Generate code using this dataframe.\"\n",
              "            style=\"display:none;\">\n",
              "\n",
              "  <svg xmlns=\"http://www.w3.org/2000/svg\" height=\"24px\"viewBox=\"0 0 24 24\"\n",
              "       width=\"24px\">\n",
              "    <path d=\"M7,19H8.4L18.45,9,17,7.55,7,17.6ZM5,21V16.75L18.45,3.32a2,2,0,0,1,2.83,0l1.4,1.43a1.91,1.91,0,0,1,.58,1.4,1.91,1.91,0,0,1-.58,1.4L9.25,21ZM18.45,9,17,7.55Zm-12,3A5.31,5.31,0,0,0,4.9,8.1,5.31,5.31,0,0,0,1,6.5,5.31,5.31,0,0,0,4.9,4.9,5.31,5.31,0,0,0,6.5,1,5.31,5.31,0,0,0,8.1,4.9,5.31,5.31,0,0,0,12,6.5,5.46,5.46,0,0,0,6.5,12Z\"/>\n",
              "  </svg>\n",
              "    </button>\n",
              "    <script>\n",
              "      (() => {\n",
              "      const buttonEl =\n",
              "        document.querySelector('#id_7a875482-4ea1-4d45-b3c2-37935aafb114 button.colab-df-generate');\n",
              "      buttonEl.style.display =\n",
              "        google.colab.kernel.accessAllowed ? 'block' : 'none';\n",
              "\n",
              "      buttonEl.onclick = () => {\n",
              "        google.colab.notebook.generateWithVariable('df');\n",
              "      }\n",
              "      })();\n",
              "    </script>\n",
              "  </div>\n",
              "\n",
              "    </div>\n",
              "  </div>\n"
            ],
            "application/vnd.google.colaboratory.intrinsic+json": {
              "type": "dataframe",
              "variable_name": "df",
              "summary": "{\n  \"name\": \"df\",\n  \"rows\": 10,\n  \"fields\": [\n    {\n      \"column\": \"text\",\n      \"properties\": {\n        \"dtype\": \"string\",\n        \"num_unique_values\": 10,\n        \"samples\": [\n          \"<|im_start|>user\\nWhat is the greatest integer less than or equal to $ \\\\sqrt{4^{10} + 7}$?<|im_end|>\\n<|im_start|>assistant\\n<think>\\nOkay, so I need to find the greatest integer less than or equal to the square root of (4^10 + 7). That means I need to compute sqrt(4^10 + 7) and then take the floor of that value. Let me think about how to approach this step by step.\\n\\nFirst, let's calculate 4^10. I know that 4 squared is 16, and exponents can sometimes be simplified by breaking them down. 4^10 is the same as (2^2)^10, which is 2^(20). But maybe calculating 4^10 directly is easier here. Let me check:\\n\\n4^1 = 4\\n\\n4^2 = 16\\n\\n4^3 = 64\\n\\n4^4 = 256\\n\\n4^5 = 1024\\n\\n4^6 = 4096\\n\\n4^7 = 16384\\n\\n4^8 = 65536\\n\\n4^9 = 262144\\n\\n4^10 = 1048576\\n\\nWait, so 4^10 is 1,048,576. Let me confirm that. Because 4^5 is 1024, then 4^10 is (4^5)^2 = 1024^2. 1024*1024 is 1,048,576. Yep, that's right.\\n\\nSo the expression inside the square root is 1,048,576 + 7 = 1,048,583. Now, we need the square root of 1,048,583 and find the greatest integer less than or equal to that.\\n\\nHmm, let's think about what numbers squared are around that value. Since 4^10 is 1024^2, sqrt(4^10) is exactly 1024. But here, we have 4^10 +7, so the square root will be slightly more than 1024. So, the floor of sqrt(4^10 +7) should be 1024, unless 1024^2 is less than or equal to 1,048,583 and (1024 +1)^2 is greater than 1,048,583. Let's verify.\\n\\n1024^2 is 1,048,576, which is exactly 4^10. Then adding 7 gives 1,048,583. Now, the next integer after 1024 is 1025. Let's compute 1025^2.\\n\\n1025^2 = (1000 +25)^2 = 1000^2 + 2*1000*25 +25^2 = 1,000,000 + 50,000 + 625 = 1,050,625.\\n\\nWait, 1,050,625 is way larger than 1,048,583. So sqrt(1,048,583) is between 1024 and 1025. Therefore, the floor of that would be 1024. So the answer should be 1024.\\n\\nBut wait, let me check if maybe there's a mistake here. Let me compute 1024.5^2 to see how much it is. 1024.5^2 = (1024 + 0.5)^2 = 1024^2 + 2*1024*0.5 + 0.5^2 = 1,048,576 + 1024 + 0.25 = 1,049,600.25. But that's even higher than 1,048,583, so even 1024.5 squared is already 1,049,600.25. Wait, but that can't be right. Because 1024.5 squared should be between 1024^2 and 1025^2, which is correct, but if the original value is 1,048,583, which is 1,048,576 +7, so it's just 7 more than 1024^2. Then the square root is 1024 + some small fraction. So, the floor is 1024. Therefore, the answer is 1024.\\n\\nBut to make sure, maybe I can compute the exact value of sqrt(1,048,583) using linear approximation. Let me try that.\\n\\nLet f(x) = sqrt(x). We know f(1,048,576) = 1024. The derivative f\\u2019(x) = 1/(2*sqrt(x)). So, the linear approximation at x = 1,048,576 would be:\\n\\nf(x) \\u2248 f(a) + f\\u2019(a)*(x -a)\\n\\nHere, a =1,048,576, x=1,048,583. So:\\n\\nsqrt(1,048,583) \\u2248 1024 + (1/(2*1024))*(7) \\u2248 1024 + 7/(2048) \\u2248 1024 + 0.00341796875 \\u2248 1024.00341796875\\n\\nSo approximately 1024.0034, which is still much less than 1024.5, so the integer part is 1024. Therefore, the floor is 1024.\\n\\nAlternatively, maybe there is a better way to approach this problem without calculating all these numbers. Let's see.\\n\\nWe can note that 4^10 is (2^2)^10 = 2^20. The square root of 4^10 is 2^10 = 1024, as before. So sqrt(4^10 +7) is sqrt(2^20 +7). Since 2^20 is a perfect square, adding 7 would make it just a bit more. Since 7 is much smaller than 2*2^10 (which is 2048), the next square after 2^20 would be (2^10 +1)^2 = 2^20 + 2*2^10 +1 = 2^20 +2048 +1. But since 7 is way less than 2048, the square root would not reach 2^10 +1. Therefore, floor(sqrt(2^20 +7)) is 2^10 = 1024.\\n\\nSo, yes, that makes sense. Therefore, the answer is 1024.\\n\\nBut to double-check everything, maybe compute sqrt(1,048,583) using a calculator, but since I don't have a calculator here, let's see. Let's compute 1024^2 = 1,048,576. Then 1024.0034^2 is approximately 1,048,576 + 2*1024*0.0034 + (0.0034)^2 \\u2248 1,048,576 + 6.9632 + 0.00001156 \\u2248 1,048,582.9632, which is very close to 1,048,583. So the square of 1024.0034 is approximately 1,048,582.9632, which is just slightly less than 1,048,583. Therefore, sqrt(1,048,583) is approximately 1024.0034 + some tiny bit more. Therefore, the integer part is still 1024. Therefore, the floor is indeed 1024.\\n\\nAlternatively, maybe compute how much more we need beyond 1024^2 to reach 1,048,583. Since 1,048,583 -1,048,576 =7, so we have x =7. Then, sqrt(a +x) where a=1024^2. Using the formula sqrt(a +x) \\u2248 sqrt(a) + x/(2*sqrt(a)). Which gives the same approximation as before. So, indeed, approximately 1024 + 7/(2*1024) =1024 + 7/2048\\u22481024.003417, which is less than 1024.003418. Therefore, the integer part is 1024.\\n\\nTherefore, the answer is 1024. So I think that's correct. So the floor of sqrt(4^10 +7) is 1024.\\n</think>\\n\\nTo find the greatest integer less than or equal to \\\\( \\\\sqrt{4^{10} + 7} \\\\), we proceed as follows:\\n\\n1. **Compute \\\\( 4^{10} \\\\):**\\n   \\\\[\\n   4^{10} = (2^2)^{10} = 2^{20} = 1{,}048{,}576.\\n   \\\\]\\n\\n2. **Add 7 to \\\\( 4^{10} \\\\):**\\n   \\\\[\\n   4^{10} + 7 = 1{,}048{,}576 + 7 = 1{,}048{,}583.\\n   \\\\]\\n\\n3. **Determine \\\\( \\\\sqrt{1{,}048{,}583} \\\\):**\\n   - Since \\\\( 1{,}048{,}576 \\\\) is a perfect square (\\\\( 1024^2 \\\\)), we have:\\n     \\\\[\\n     1024^2 = 1{,}048{,}576.\\n     \\\\]\\n   - The next perfect square is:\\n     \\\\[\\n     1025^2 = 1{,}050{,}625.\\n     \\\\]\\n   - Therefore, \\\\( 1{,}048{,}583 \\\\) lies between \\\\( 1024^2 \\\\) and \\\\( 1025^2 \\\\):\\n     \\\\[\\n     1024^2 < 1{,}048{,}583 < 1025^2.\\n     \\\\]\\n   - This implies:\\n     \\\\[\\n     1024 < \\\\sqrt{1{,}048{,}583} < 1025.\\n     \\\\]\\n\\n4. **Use linear approximation to refine the estimate:**\\n   - The linear approximation formula is:\\n     \\\\[\\n     \\\\sqrt{a + x} \\\\approx \\\\sqrt{a} + \\\\frac{x}{2\\\\sqrt{a}}.\\n     \\\\]\\n   - Here, \\\\( a = 1{,}048{,}576 \\\\) and \\\\( x = 7 \\\\):\\n     \\\\[\\n     \\\\sqrt{1{,}048{,}583} \\\\approx 1024 + \\\\frac{7}{2 \\\\times 1024} = 1024 + \\\\frac{7}{2048} \\\\approx 1024 + 0.00341796875 \\\\approx 1024.00341796875.\\n     \\\\]\\n   - This confirms that \\\\( \\\\sqrt{1{,}048{,}583} \\\\) is slightly more than 1024 but less than 1024.5.\\n\\nThus, the greatest integer less than or equal to \\\\( \\\\sqrt{1{,}048{,}583} \\\\) is:\\n\\\\[\\n\\\\boxed{1024}\\n\\\\]<|im_end|>\\n\",\n          \"<|im_start|>user\\nFind the remainder when \\\\(9 \\\\times 99 \\\\times 999 \\\\times \\\\cdots \\\\times \\\\underbrace{99\\\\cdots9}_{\\\\text{999 9's}}\\\\) is divided by 1000.<|im_end|>\\n<|im_start|>assistant\\n<think>\\nOkay, so I need to find the remainder when the product of a bunch of 9s is divided by 1000. The sequence is 9 \\u00d7 99 \\u00d7 999 \\u00d7 ... \\u00d7 (a number with 999 9s). Hmm, that's a lot of numbers multiplied together. Let's break this down step by step.\\n\\nFirst, I remember that when finding the remainder after division by 1000, we're essentially looking for the last three digits of the product. So, the problem reduces to finding the last three digits of this huge product of numbers made up of all 9s.\\n\\nBut wait, multiplying all these numbers directly seems impossible because the numbers get really big, especially the last one with 999 9s. There must be a smarter way to approach this using modular arithmetic properties.\\n\\nLet me recall that 1000 = 8 \\u00d7 125, and since 8 and 125 are coprime (their greatest common divisor is 1), I can use the Chinese Remainder Theorem. This theorem says that if I find the remainder modulo 8 and modulo 125 separately, then I can combine those results to get the remainder modulo 1000. That might simplify things because maybe each modulus is easier to handle.\\n\\nSo, first, let's compute the remainder modulo 8.\\n\\nModulo 8: All the numbers in the product are made up of 9s. Let's see what each term is congruent to modulo 8.\\n\\nStarting with the first few terms:\\n\\n- 9 mod 8 = 1, because 8\\u00d71=8, so 9-8=1.\\n\\n- 99: Let's divide 99 by 8. 8\\u00d712=96, so 99-96=3. So 99 \\u2261 3 mod 8.\\n\\n- 999: Let's divide 999 by 8. 8\\u00d7124=992, so 999-992=7. So 999 \\u22617 mod8.\\n\\n- Next term would be 9999. Let's see, 9999 divided by 8. 8\\u00d71249=9992, so 9999-9992=7. So 9999 \\u22617 mod8.\\n\\nWait a second, maybe there's a pattern here. Let's check:\\n\\nA number consisting of n 9s. Let's see:\\n\\nFor 9 (1 digit): 9 \\u22611 mod8.\\n\\nFor 99 (2 digits): 99\\u22613 mod8.\\n\\nFor 999 (3 digits): 999\\u22617 mod8.\\n\\nFor 9999 (4 digits): 9999\\u2261 9999-8\\u00d71249=9999-9992=7. Wait, again 7.\\n\\nWait, is there a pattern here? Let's check 99999 (5 digits). Let's compute 99999 mod8.\\n\\nDivide 99999 by 8. 8\\u00d712499=99992, so 99999-99992=7. Again 7.\\n\\nWait, so maybe numbers with 3 or more 9s are all \\u22617 mod8?\\n\\nSo, let's verify:\\n\\nA 3-digit 999: 999 /8=124\\u00d78=992, 999-992=7. So yes.\\n\\n4-digit 9999: 9999-9992=7.\\n\\nSimilarly, 99999: same as above.\\n\\nSo, the pattern seems to be that numbers with 1 digit: 1 mod8, 2 digits:3 mod8, 3 or more digits:7 mod8.\\n\\nTherefore, in our problem, the terms are:\\n\\nFirst term: 9 (1 digit) \\u22611 mod8.\\n\\nSecond term:99 (2 digits)\\u22613 mod8.\\n\\nThird term:999 (3 digits)\\u22617 mod8.\\n\\nFourth term:9999 (4 digits)\\u22617 mod8.\\n\\n...\\n\\nUp to the last term, which is 999...9 with 999 digits. Since 999 is more than 3 digits, this term is \\u22617 mod8.\\n\\nTherefore, the product modulo8 is 1 \\u00d73 \\u00d77 \\u00d77 \\u00d7...\\u00d77, where the number of 7s is (total terms -2). Wait, how many terms are there?\\n\\nThe terms are 9, 99, 999, ..., number with 999 9s. Each term has 1, 2, 3, ..., 999 digits. Wait, wait, actually, the problem says \\\"9 \\u00d7 99 \\u00d7 999 \\u00d7 \\u22ef \\u00d7 underbrace{99...9}_{\\\\text{999 9's}}\\\". So the first term is 9 (1 nine), second term is 99 (2 nines), third term is 999 (3 nines), and so on up to the term with 999 nines.\\n\\nTherefore, the total number of terms is 999. Let's check: starting from 1 nine up to 999 nines, so 999 terms. So that's a lot of terms. But for modulo8, each term beyond the first two (the 1st term is 1 mod8, 2nd term is 3 mod8) is 7 mod8. So starting from the third term up to the 999th term, that's 999 -2 = 997 terms each contributing a factor of 7 mod8.\\n\\nTherefore, the total product modulo8 is:\\n\\n1 \\u00d7 3 \\u00d7 7^997 mod8.\\n\\nCompute that. Let's compute 7^997 mod8 first.\\n\\nBut 7 mod8 is 7. Let's see the powers of7 modulo8:\\n\\n7^1 \\u22617 mod8\\n\\n7^2=49\\u22611 mod8\\n\\n7^3=7\\u00d71=7 mod8\\n\\n7^4=7\\u00d77=49\\u22611 mod8\\n\\nSo, the pattern cycles every 2 exponents: 7,1,7,1,...\\n\\nTherefore, 7^even exponent \\u22611 mod8, 7^odd exponent\\u22617 mod8.\\n\\n997 is odd, so 7^997 \\u22617 mod8.\\n\\nTherefore, the total product modulo8 is 1 \\u00d73 \\u00d77 =21 mod8.\\n\\n21 divided by8 is 2\\u00d78=16, 21-16=5. So 21\\u22615 mod8.\\n\\nSo the remainder modulo8 is5.\\n\\nOkay, now let's compute the remainder modulo125. Because 1000=8\\u00d7125, and since 8 and125 are coprime, once I have remainders modulo8 and125, Chinese Remainder Theorem can be used to find the remainder modulo1000.\\n\\nSo now, the challenge is to compute the product modulo125. That might be trickier.\\n\\nFirst, let's note that 125 is 5^3. So we need the product modulo5^3.\\n\\nFirst, let's think about each term in the product: numbers composed of all 9s. Let's denote each term as N_k = 10^k -1, where k is the number of 9s. For example, N_1=10^1 -1=9, N_2=10^2 -1=99, N_3=10^3 -1=999, etc., up to N_999=10^999 -1.\\n\\nTherefore, the product is the product from k=1 to k=999 of (10^k -1).\\n\\nSo, we can write the product as Product_{k=1}^{999} (10^k -1).\\n\\nWe need this product modulo125.\\n\\nNow, 125=5^3, so let's compute the product modulo5^3.\\n\\nBut 10 \\u226110 mod125, so each term (10^k -1) mod125.\\n\\nBut 10 and125 are not coprime, since 10 and125 share a common factor of5. Wait, 10 and125: 125 is 5^3, 10 is 2\\u00d75, so gcd(10,125)=5. Therefore, 10 is not invertible modulo125. Hmm. So each term (10^k -1) could be congruent to some number modulo125, but perhaps some of them are divisible by5, and hence the entire product could be divisible by high powers of5, which would be important for computing modulo125.\\n\\nBut since we're computing modulo125=5^3, we need the product modulo5^3. Let's see how many factors of5 are in the product. If the product is divisible by at least 5^3, then modulo125 it's 0. But let's check.\\n\\nFirst, note that N_k =10^k -1. For k\\u22651.\\n\\nLet's see when 10^k \\u22611 mod5. 10\\u22610 mod5, so 10^k\\u22610 mod5, so 10^k -1\\u2261-1 mod5. So 10^k -1\\u22614 mod5. Therefore, none of the terms N_k is divisible by5. Therefore, 5 does not divide any of the terms, so the product is congruent to (4)^{999} mod5. Wait, but we need modulo125. Wait, maybe we need to look more carefully.\\n\\nWait, 10^k -1 mod5^3. Let's see.\\n\\nAlternatively, let's note that 10 \\u226110 mod125. Let's compute 10^1=10, 10^2=100, 10^3=1000\\u22611000-8\\u00d7125=1000-1000=0\\u22610 mod125. Wait, 10^3=1000\\u22610 mod125. Therefore, 10^3 \\u22610 mod125. Therefore, 10^k \\u22610 mod125 for k\\u22653.\\n\\nTherefore, for k\\u22653, 10^k \\u22610 mod125, so 10^k -1 \\u2261-1 mod125. So, for k\\u22653, each term N_k=10^k -1\\u2261-1 mod125.\\n\\nBut for k=1: N_1=10^1 -1=9\\u22619 mod125.\\n\\nk=2: N_2=10^2 -1=99\\u226199 mod125.\\n\\nk\\u22653: N_k\\u2261-1 mod125.\\n\\nTherefore, the product is N_1 \\u00d7 N_2 \\u00d7 N_3 \\u00d7 ... \\u00d7 N_999 \\u22619 \\u00d799 \\u00d7 (-1)^{997} mod125.\\n\\nBecause from k=3 to k=999, there are 997 terms each contributing a factor of -1.\\n\\nSo first compute (-1)^{997}. Since 997 is odd, that's -1.\\n\\nThus, the product modulo125 is 9 \\u00d799 \\u00d7 (-1).\\n\\nCompute 9\\u00d799 first. 9\\u00d799=891.\\n\\nThen 891 \\u00d7 (-1)= -891 mod125.\\n\\nCompute -891 mod125. To find this, divide 891 by125.\\n\\n125\\u00d77=875, so 891-875=16. Therefore, 891=125\\u00d77 +16, so 891\\u226116 mod125. Therefore, -891\\u2261-16 mod125\\u2261109 mod125 (since 125-16=109).\\n\\nTherefore, the product modulo125 is109.\\n\\nSo now, we have:\\n\\nThe remainder modulo8 is5,\\n\\nThe remainder modulo125 is109.\\n\\nWe need to find a number x such that:\\n\\nx \\u22615 mod8,\\n\\nx\\u2261109 mod125.\\n\\nThen x modulo1000 will be the answer.\\n\\nSo, now we need to solve the system of congruences.\\n\\nLet me denote x=125m +109, for some integer m, because x\\u2261109 mod125.\\n\\nWe substitute into the first equation:\\n\\n125m +109 \\u22615 mod8.\\n\\nCompute 125 mod8. 8\\u00d715=120, so 125-120=5. So 125\\u22615 mod8.\\n\\n109 mod8: 8\\u00d713=104, 109-104=5. So 109\\u22615 mod8.\\n\\nThus, the equation becomes:\\n\\n5m +5 \\u22615 mod8.\\n\\nSubtract5 from both sides:\\n\\n5m \\u22610 mod8.\\n\\nSo 5m\\u22610 mod8. This implies that 8 divides5m.\\n\\nSince 5 and8 are coprime, this implies that 8 dividesm. So m=8k for some integer k.\\n\\nTherefore, x=125m +109=125\\u00d78k +109=1000k +109.\\n\\nThus, the smallest positive solution modulo1000 is109.\\n\\nWait, but check this. If m=0, then x=109. Let's check x=109:\\n\\n109 mod8= 109-13\\u00d78=109-104=5. Yes, 109\\u22615 mod8. And 109 mod125=109. So that works. Therefore, the solution is x\\u2261109 mod1000.\\n\\nTherefore, the remainder when the product is divided by1000 is109.\\n\\nWait, but let me verify this, because there's a lot of steps here and I want to make sure I didn't make a mistake.\\n\\nFirst, the modulo8 computation:\\n\\nProduct modulo8 is1\\u00d73\\u00d77^997. Since 7^2\\u22611 mod8, 7^997=7^(2\\u00d7498 +1)= (7^2)^498 \\u00d77^1\\u22611^498\\u00d77\\u22617 mod8. So total product is1\\u00d73\\u00d77=21\\u22615 mod8. Correct.\\n\\nModulo125: Each term N_k=10^k -1. For k=1,9; k=2,99; k\\u22653, -1 mod125. So total product is9\\u00d799\\u00d7(-1)^997. Since 997=999-2, which is 997 terms. 9\\u00d799=891. Then 891\\u00d7(-1)= -891. -891 mod125: 125\\u00d77=875, 891-875=16, so -891= -16 mod125=109 mod125. Correct.\\n\\nThen solving the system x\\u22615 mod8 andx\\u2261109 mod125. Expressed asx=125m+109. Then 125m+109\\u22615 mod8. 125\\u22615 mod8, so5m +109 mod8. 109 mod8=5. So 5m +5\\u22615 mod8 \\u21d25m\\u22610 mod8 \\u21d2m\\u22610 mod8/ gcd(5,8)=8. So m=8k. Thenx=125\\u00d78k +109=1000k +109. So the minimal solution is109, which is between0 and999. So modulo1000, the remainder is109.\\n\\nTherefore, the answer is109. Let me double-check if that's correct.\\n\\nWait, but let me verify with an example. Let's take a smaller case.\\n\\nSuppose we compute 9 \\u00d799 \\u00d7999 mod1000.\\n\\nCompute 9 \\u00d799=891. Then 891 \\u00d7999. Let's compute 891\\u00d7999=891\\u00d7(1000-1)=891000 -891=890109. Then 890109 mod1000=109. Which is exactly our answer. Interesting. So in this case, even though we took three terms (9,99,999), the remainder is109. But in our problem, there are many more terms. Wait, but according to our calculation, all terms beyond the third (i.e., starting from 9999) are \\u2261-1 mod125, but in mod1000, their contribution might not just be multiplying by -1. Wait, but according to the previous calculation, for k\\u22653, 10^k -1\\u2261-1 mod125, but modulo1000, the behavior is different. However, in the solution, we broke it into mod8 and mod125 and then combined via Chinese Remainder Theorem.\\n\\nWait a minute, but why does the product of terms beyond 999 (like 9999, etc.) contribute as -1 mod125? Let me check 10^k -1 mod125 for k\\u22653.\\n\\nSince 10^3=1000\\u22610 mod125, so 10^k=10^{3}\\u00d710^{k-3}\\u22610\\u00d710^{k-3}\\u22610 mod125 for k\\u22653. Therefore, 10^k -1\\u2261-1 mod125. So yes, that's correct.\\n\\nBut when we multiply these terms, each term with k\\u22653 contributes a factor of -1 mod125. So, if we have 999 terms, from k=1 to k=999, so k=1,2,3,...,999. Then, terms k=3 to k=999 (total of 997 terms) each contribute -1 mod125. So the product is 9\\u00d799\\u00d7(-1)^{997}=9\\u00d799\\u00d7(-1)= -9\\u00d799= -891\\u2261-891 mod125=109 mod125. Correct.\\n\\nBut when I tested with 9\\u00d799\\u00d7999, that's k=1,2,3. Then product mod125 is9\\u00d799\\u00d7(-1)= -891\\u2261109 mod125. And indeed, that product mod1000 is109. So even though there are more terms beyond k=3 in the original problem, each of them contributes a -1 mod125, but when multiplied together, since (-1)^{n} depends on the number of terms. However, in the modulus 1000, those terms beyond k=3 (like 9999, etc.) would affect higher powers, but since we broke it down into mod8 and mod125, and in mod125 they just contribute -1 each, but modulo8 they contribute 7 each.\\n\\nBut the problem is that in the actual product modulo1000, each term beyond 999 (k\\u22654) is 9999, 99999, etc., which are 10^4 -1, 10^5 -1, etc. Each of these is \\u2261-1 mod125 and \\u22617 mod8, but their actual contribution modulo1000 is not just -1 or 7, but their entire value. However, when using the Chinese Remainder Theorem, we can compute modulo8 and modulo125 separately, and then combine. So even though the terms beyond k=3 (i.e., k\\u22654) contribute more factors when taken modulo8 and modulo125, but when we consider the entire product, modulo8 is calculated as a product of residues modulo8, and modulo125 as product of residues modulo125. So the previous calculation is correct because:\\n\\nFor modulus8:\\n\\nEach term N_k:\\n\\nk=1:9\\u22611 mod8\\n\\nk=2:99\\u22613 mod8\\n\\nk\\u22653: N_k=10^k -1. Let's compute 10^k mod8:\\n\\n10\\u22612 mod8.\\n\\nSo 10^1\\u22612 mod8\\n\\n10^2=4 mod8\\n\\n10^3=0 mod8\\n\\nWait, 10^3=1000\\u22610 mod8, so for k\\u22653, 10^k\\u22610 mod8, hence N_k=10^k -1\\u2261-1\\u22617 mod8.\\n\\nSo indeed, for k\\u22653, each term is7 mod8, which is -1 mod8. So the product becomes1\\u00d73\\u00d77^{997} mod8. As we calculated earlier, which is 5 mod8.\\n\\nFor modulus125:\\n\\nAs above, for k\\u22653, N_k\\u2261-1 mod125.\\n\\nBut modulo125, 10^3\\u22610 mod125, so N_k=10^k -1\\u2261-1 mod125 for k\\u22653.\\n\\nTherefore, the product is9\\u00d799\\u00d7(-1)^{997}\\u2261109 mod125.\\n\\nTherefore, the solution via CRT is109.\\n\\nBut when I tested the product up to k=3 (9\\u00d799\\u00d7999), modulo1000, the result is109. So if we multiply more terms (with k=4 to k=999), each of which is\\u2261-1 mod125 and7 mod8, but when multiplied as part of the total product, their cumulative effect in mod125 is (-1)^{997} which is -1, and in mod8 it's7^{997} which is7. But in reality, multiplying those terms would add more factors, but in modulus125, the terms from k=4 to k=999 are all -1 mod125, so multiplying 997-2=995 more terms (since k=3 to k=999 is 997 terms, but we already accounted for k=3 as part of the -1 terms). Wait, actually, from k=3 to k=999, that's 999-2=997 terms. Each contributing -1 mod125. So total product mod125 is9\\u00d799\\u00d7(-1)^{997}=9\\u00d799\\u00d7(-1)= -9\\u00d799= -891\\u2261109 mod125. Correct.\\n\\nSimilarly, in mod8, the same terms contribute 7^{997} mod8. Which is7 mod8 as 7^2\\u22611, so 7^(2*498 +1)=7^(996)*7\\u22611^498*7\\u22617 mod8. Therefore, total product mod8 is1\\u00d73\\u00d77\\u22615 mod8.\\n\\nTherefore, the CRT gives x\\u2261109 mod125 and x\\u22615 mod8. Solving gives x=109 mod1000.\\n\\nBut wait, the example with 9\\u00d799\\u00d7999 gives 109 mod1000, but the original problem is multiplying up to 999 nines. However, according to the reasoning, adding more terms (each of which is 10^k -1 for k\\u22654) would multiply by (10^k -1) each time. However, modulo125, each of those terms is -1, so multiplying by -1 each time, and modulo8, each term is7, so multiplying by7 each time. However, since there are 997 such terms, the total contribution modulo125 is (-1)^997=-1, and modulo8 is7^997=7. Therefore, even though the actual numbers are different, their residues contribute in a specific pattern, leading to the same result as just multiplying up to k=3. That seems counterintuitive but mathematically correct.\\n\\nSo, perhaps the answer is indeed109. But to confirm, let's check with k=1,2,3,4. Let's compute 9\\u00d799\\u00d7999\\u00d79999 mod1000.\\n\\nCompute 9\\u00d799=891.\\n\\n891\\u00d7999=890109. 890109 mod1000=109.\\n\\n109\\u00d79999. 109\\u00d79999=109\\u00d7(10000-1)=1090000 -109=1089891. 1089891 mod1000=891. Wait, so now it's 891 mod1000. Then, if we multiply by another term (99999, which is10^5 -1\\u2261-1 mod125 and7 mod8), then 891\\u00d799999. But 99999 mod1000=999. So 891\\u00d7999 mod1000= (800+91)(999) mod1000. 800\\u00d7999=799200 mod1000=200. 91\\u00d7999=91\\u00d7(1000-1)=91000 -91=90909. 90909 mod1000=909. So total is200 +909=1109 mod1000=109. So now, after multiplying by 99999 (k=5), the result is109 mod1000 again.\\n\\nWait, so if after multiplying by an even number of terms beyond the first three, we get back to109? Wait, in this case:\\n\\nAfter k=1,2,3: mod1000=109\\n\\nAfter k=4: multiply by9999 (mod1000=9999 mod1000=999). So 109\\u00d7999=108,891\\u2192891 mod1000.\\n\\nAfter k=5: multiply by99999 mod1000=999. 891\\u00d7999=109 mod1000.\\n\\nSo it's oscillating between 891 and109 every time we multiply by another term. So if we multiply by even number of additional terms beyond the first three, we get back to109. But the original problem has 999 terms: starting from k=1 to k=999.\\n\\nWait, so after k=3, we have terms from k=4 to k=999, which is999 -3=996 terms. Each term is a number with n 9s where n=4 to999. So that's 996 terms. Each term is equivalent to999 mod1000 (since any number with 4 or more 9s mod1000 is999). Therefore, multiplying by each of these terms is like multiplying by999 each time. But 999\\u2261-1 mod1000.\\n\\nTherefore, multiplying by 999 an even number of times would give (-1)^{even}=1 mod1000, and odd number of times would be -1 mod1000.\\n\\nWait, but in the problem, after the first three terms (k=1,2,3), we have 996 terms left (k=4 to999). So multiplying by999 (\\u2261-1 mod1000) 996 times. Therefore, (-1)^{996}=1 mod1000. Therefore, total product would be109\\u00d71=109 mod1000.\\n\\nTherefore, this gives the same result as before.\\n\\nTherefore, even though in the modulus1000, the product alternates between109 and891 when multiplying each subsequent term, since there are an even number of such terms (996), it's equivalent to multiplying by (-1)^{996}=1, hence the total product is109 mod1000.\\n\\nThis aligns with our previous result using Chinese Remainder Theorem.\\n\\nTherefore, the answer is109, which isboxed as\\\\boxed{109}.\\n</think>\\n\\nTo find the remainder when \\\\(9 \\\\times 99 \\\\times 999 \\\\times \\\\cdots \\\\times \\\\underbrace{99\\\\cdots9}_{\\\\text{999 9's}}\\\\) is divided by 1000, we use modular arithmetic and the Chinese Remainder Theorem.\\n\\n1. **Modulo 8 Calculation:**\\n   - Each term in the product is analyzed modulo 8:\\n     - \\\\(9 \\\\equiv 1 \\\\mod 8\\\\)\\n     - \\\\(99 \\\\equiv 3 \\\\mod 8\\\\)\\n     - For terms with 3 or more 9s, \\\\(10^k - 1 \\\\equiv -1 \\\\equiv 7 \\\\mod 8\\\\)\\n   - The product modulo 8 is:\\n     \\\\[\\n     1 \\\\times 3 \\\\times 7^{997} \\\\mod 8\\n     \\\\]\\n   - Since \\\\(7^2 \\\\equiv 1 \\\\mod 8\\\\), \\\\(7^{997} \\\\equiv 7 \\\\mod 8\\\\) (997 is odd).\\n   - Therefore, the product modulo 8 is:\\n     \\\\[\\n     1 \\\\times 3 \\\\times 7 = 21 \\\\equiv 5 \\\\mod 8\\n     \\\\]\\n\\n2. **Modulo 125 Calculation:**\\n   - Each term in the product is analyzed modulo 125:\\n     - \\\\(9 \\\\equiv 9 \\\\mod 125\\\\)\\n     - \\\\(99 \\\\equiv 99 \\\\mod 125\\\\)\\n     - For terms with 3 or more 9s, \\\\(10^k - 1 \\\\equiv -1 \\\\mod 125\\\\)\\n   - The product modulo 125 is:\\n     \\\\[\\n     9 \\\\times 99 \\\\times (-1)^{997} \\\\mod 125\\n     \\\\]\\n   - Since \\\\((-1)^{997} = -1\\\\), the product modulo 125 is:\\n     \\\\[\\n     9 \\\\times 99 \\\\times (-1) = -891 \\\\equiv -891 + 7 \\\\times 125 = -891 + 875 = -16 \\\\equiv 109 \\\\mod 125\\n     \\\\]\\n\\n3. **Chinese Remainder Theorem:**\\n   - Solve the system:\\n     \\\\[\\n     x \\\\equiv 5 \\\\mod 8\\n     \\\\]\\n     \\\\[\\n     x \\\\equiv 109 \\\\mod 125\\n     \\\\]\\n   - Express \\\\(x\\\\) as \\\\(125m + 109\\\\). Substitute into the first congruence:\\n     \\\\[\\n     125m + 109 \\\\equiv 5 \\\\mod 8\\n     \\\\]\\n   - Since \\\\(125 \\\\equiv 5 \\\\mod 8\\\\) and \\\\(109 \\\\equiv 5 \\\\mod 8\\\\):\\n     \\\\[\\n     5m + 5 \\\\equiv 5 \\\\mod 8 \\\\implies 5m \\\\equiv 0 \\\\mod 8 \\\\implies m \\\\equiv 0 \\\\mod 8\\n     \\\\]\\n   - Let \\\\(m = 8k\\\\), then \\\\(x = 125(8k) + 109 = 1000k + 109\\\\). The smallest non-negative solution is \\\\(109\\\\).\\n\\nThus, the remainder when the product is divided by 1000 is \\\\(\\\\boxed{109}\\\\).<|im_end|>\\n\",\n          \"<|im_start|>user\\nFind the minimum value of \\\\(\\\\left(\\\\frac{1}{a^2} + \\\\frac{1}{b^2} + \\\\frac{1}{c^2}\\\\right)(a+1)(b+1)(c+1)\\\\) for positive numbers \\\\(a, b, c\\\\).<|im_end|>\\n<|im_start|>assistant\\n<think>\\nOkay, so I have this problem: Find the minimum value of \\\\(\\\\left(\\\\frac{1}{a^2} + \\\\frac{1}{b^2} + \\\\frac{1}{c^2}\\\\right)(a+1)(b+1)(c+1)\\\\) where \\\\(a\\\\), \\\\(b\\\\), and \\\\(c\\\\) are positive numbers. Hmm, interesting. Let me try to figure out how to approach this.\\n\\nFirst, I notice that the expression is a product of two parts: the sum of reciprocals squared and the product of each variable plus one. The variables are all positive, so maybe I can use inequalities like AM-GM here. Let me recall that AM-GM states that for non-negative numbers, the arithmetic mean is at least the geometric mean. Maybe applying that to each part could help.\\n\\nLet me start by considering the first part: \\\\(\\\\frac{1}{a^2} + \\\\frac{1}{b^2} + \\\\frac{1}{c^2}\\\\). If I can express this in a way that relates to \\\\((a+1)(b+1)(c+1)\\\\), perhaps I can combine them. Alternatively, maybe I should look for symmetry. Since the problem is symmetric in \\\\(a\\\\), \\\\(b\\\\), and \\\\(c\\\\), the minimum might occur when \\\\(a = b = c\\\\). Let me test that assumption first.\\n\\nAssume \\\\(a = b = c = k\\\\), where \\\\(k > 0\\\\). Then the expression becomes:\\n\\n\\\\[\\n\\\\left( \\\\frac{3}{k^2} \\\\right) (k + 1)^3\\n\\\\]\\n\\nSimplify this:\\n\\n\\\\[\\n\\\\frac{3(k + 1)^3}{k^2}\\n\\\\]\\n\\nTo find the minimum of this with respect to \\\\(k\\\\), take the derivative and set it to zero. Let's compute the derivative:\\n\\nLet \\\\(f(k) = \\\\frac{3(k + 1)^3}{k^2}\\\\). Then,\\n\\n\\\\(f'(k) = 3 \\\\cdot \\\\frac{d}{dk} \\\\left( \\\\frac{(k + 1)^3}{k^2} \\\\right)\\\\)\\n\\nUsing the quotient rule:\\n\\nLet \\\\(u = (k + 1)^3\\\\), so \\\\(u' = 3(k + 1)^2\\\\).\\n\\nLet \\\\(v = k^2\\\\), so \\\\(v' = 2k\\\\).\\n\\nThen,\\n\\n\\\\[\\n\\\\frac{d}{dk} \\\\left( \\\\frac{u}{v} \\\\right) = \\\\frac{u'v - uv'}{v^2} = \\\\frac{3(k + 1)^2 \\\\cdot k^2 - (k + 1)^3 \\\\cdot 2k}{k^4}\\n\\\\]\\n\\nSimplify numerator:\\n\\nFactor out \\\\(k (k + 1)^2\\\\):\\n\\n\\\\[\\nk (k + 1)^2 [3k - 2(k + 1)] = k (k + 1)^2 [3k - 2k - 2] = k (k + 1)^2 (k - 2)\\n\\\\]\\n\\nSo,\\n\\n\\\\[\\nf'(k) = 3 \\\\cdot \\\\frac{k (k + 1)^2 (k - 2)}{k^4} = 3 \\\\cdot \\\\frac{(k + 1)^2 (k - 2)}{k^3}\\n\\\\]\\n\\nSet \\\\(f'(k) = 0\\\\):\\n\\nThe numerator must be zero, so either \\\\(k + 1 = 0\\\\) (discarded since \\\\(k > 0\\\\)) or \\\\(k - 2 = 0\\\\). Therefore, \\\\(k = 2\\\\).\\n\\nSo the critical point is at \\\\(k = 2\\\\). Let's check the value at \\\\(k = 2\\\\):\\n\\n\\\\[\\n\\\\frac{3(2 + 1)^3}{2^2} = \\\\frac{3 \\\\cdot 27}{4} = \\\\frac{81}{4} = 20.25\\n\\\\]\\n\\nHmm, but is this the minimum? Maybe, but let's test if this is indeed the case. Let me check another value, say \\\\(k = 1\\\\):\\n\\n\\\\[\\n\\\\frac{3(1 + 1)^3}{1^2} = 3 \\\\cdot 8 = 24\\n\\\\]\\n\\nWhich is larger than 20.25. What about \\\\(k = 3\\\\):\\n\\n\\\\[\\n\\\\frac{3(3 + 1)^3}{3^2} = \\\\frac{3 \\\\cdot 64}{9} = \\\\frac{192}{9} \\u2248 21.33\\n\\\\]\\n\\nAlso larger. So seems like 81/4 is the minimum when all variables are equal. But wait, the problem didn't specify that \\\\(a\\\\), \\\\(b\\\\), \\\\(c\\\\) must be equal. Maybe the minimum occurs when they are not equal? So perhaps my assumption is wrong. Hmm.\\n\\nAlternatively, maybe we can use the Cauchy-Schwarz inequality or Holder's inequality here. Let me recall Holder's inequality. It states that for positive real numbers, \\\\(\\\\left( \\\\sum a_i^p \\\\right)^{1/p} \\\\left( \\\\sum b_i^q \\\\right)^{1/q} \\\\geq \\\\sum a_i b_i\\\\) where \\\\(1/p + 1/q = 1\\\\). Not sure if that's directly applicable here.\\n\\nAlternatively, let's consider the entire expression:\\n\\n\\\\[\\n\\\\left( \\\\frac{1}{a^2} + \\\\frac{1}{b^2} + \\\\frac{1}{c^2} \\\\right) (a + 1)(b + 1)(c + 1)\\n\\\\]\\n\\nPerhaps expand the product terms. Let's compute \\\\((a + 1)(b + 1)(c + 1)\\\\):\\n\\n\\\\[\\nabc + ab + ac + bc + a + b + c + 1\\n\\\\]\\n\\nBut combining this with the sum of reciprocals squared seems messy. Maybe another approach.\\n\\nAlternatively, use substitution. Let me set \\\\(x = 1/a\\\\), \\\\(y = 1/b\\\\), \\\\(z = 1/c\\\\). Then the expression becomes:\\n\\n\\\\[\\n(x^2 + y^2 + z^2) \\\\left( \\\\frac{1}{x} + 1 \\\\right) \\\\left( \\\\frac{1}{y} + 1 \\\\right) \\\\left( \\\\frac{1}{z} + 1 \\\\right)\\n\\\\]\\n\\nBut not sure if this substitution helps. Alternatively, take each term separately. Let's consider each pair of terms. For example, for each variable, consider \\\\(\\\\frac{1}{a^2}\\\\) and \\\\((a + 1)\\\\). Maybe apply AM-GM to these terms.\\n\\nAlternatively, use the method of Lagrange multipliers. Since this is a constrained optimization problem with variables \\\\(a\\\\), \\\\(b\\\\), \\\\(c > 0\\\\). Let me set up the Lagrangian:\\n\\nLet \\\\(f(a, b, c) = \\\\left( \\\\frac{1}{a^2} + \\\\frac{1}{b^2} + \\\\frac{1}{c^2} \\\\right)(a + 1)(b + 1)(c + 1)\\\\)\\n\\nWe need to find the minimum of \\\\(f(a, b, c)\\\\). Taking partial derivatives with respect to \\\\(a\\\\), \\\\(b\\\\), \\\\(c\\\\), set them to zero.\\n\\nBut this might get complicated. Let me try taking the partial derivative with respect to \\\\(a\\\\):\\n\\nFirst, write \\\\(f(a,b,c) = \\\\left( \\\\frac{1}{a^2} + \\\\frac{1}{b^2} + \\\\frac{1}{c^2} \\\\right) \\\\cdot (a + 1)(b + 1)(c + 1)\\\\)\\n\\nLet me denote \\\\(S = \\\\frac{1}{a^2} + \\\\frac{1}{b^2} + \\\\frac{1}{c^2}\\\\) and \\\\(P = (a + 1)(b + 1)(c + 1)\\\\)\\n\\nThen, \\\\(f = S \\\\cdot P\\\\)\\n\\nCompute \\\\(\\\\frac{\\\\partial f}{\\\\partial a} = \\\\frac{\\\\partial S}{\\\\partial a} \\\\cdot P + S \\\\cdot \\\\frac{\\\\partial P}{\\\\partial a}\\\\)\\n\\nCompute \\\\(\\\\frac{\\\\partial S}{\\\\partial a} = -2/a^3\\\\)\\n\\nCompute \\\\(\\\\frac{\\\\partial P}{\\\\partial a} = (b + 1)(c + 1)\\\\), since derivative of (a +1)(b +1)(c +1) with respect to a is just (b+1)(c+1)\\n\\nSo,\\n\\n\\\\[\\n\\\\frac{\\\\partial f}{\\\\partial a} = \\\\left( -\\\\frac{2}{a^3} \\\\right) \\\\cdot (a + 1)(b + 1)(c + 1) + \\\\left( \\\\frac{1}{a^2} + \\\\frac{1}{b^2} + \\\\frac{1}{c^2} \\\\right) \\\\cdot (b + 1)(c + 1)\\n\\\\]\\n\\nSet this equal to zero:\\n\\n\\\\[\\n- \\\\frac{2}{a^3} \\\\cdot (a + 1) P + S \\\\cdot (b + 1)(c + 1) = 0\\n\\\\]\\n\\nWait, perhaps factor out (b +1)(c +1):\\n\\n\\\\[\\n(b + 1)(c + 1) \\\\left[ - \\\\frac{2}{a^3}(a + 1) + S \\\\right] = 0\\n\\\\]\\n\\nBut since \\\\(b, c > 0\\\\), we can divide both sides by \\\\((b + 1)(c + 1)\\\\), getting:\\n\\n\\\\[\\n- \\\\frac{2(a + 1)}{a^3} + S = 0 \\\\implies S = \\\\frac{2(a + 1)}{a^3}\\n\\\\]\\n\\nSimilarly, by symmetry, for partial derivatives with respect to \\\\(b\\\\) and \\\\(c\\\\), we'll get:\\n\\n\\\\[\\nS = \\\\frac{2(b + 1)}{b^3} \\\\quad \\\\text{and} \\\\quad S = \\\\frac{2(c + 1)}{c^3}\\n\\\\]\\n\\nTherefore, we must have:\\n\\n\\\\[\\n\\\\frac{2(a + 1)}{a^3} = \\\\frac{2(b + 1)}{b^3} = \\\\frac{2(c + 1)}{c^3} = S\\n\\\\]\\n\\nSo, all three terms must be equal:\\n\\n\\\\[\\n\\\\frac{a + 1}{a^3} = \\\\frac{b + 1}{b^3} = \\\\frac{c + 1}{c^3}\\n\\\\]\\n\\nLet me denote \\\\(k = \\\\frac{a + 1}{a^3} = \\\\frac{b + 1}{b^3} = \\\\frac{c + 1}{c^3}\\\\). So each variable satisfies the equation \\\\(\\\\frac{x + 1}{x^3} = k\\\\). Therefore, \\\\(x^3 k = x + 1\\\\). Since all three variables satisfy the same equation, perhaps all variables are equal. Let's suppose \\\\(a = b = c\\\\). Then we can check if this leads to a solution.\\n\\nIf \\\\(a = b = c\\\\), then each variable satisfies \\\\(\\\\frac{a + 1}{a^3} = k\\\\). Let me solve for \\\\(a\\\\):\\n\\nFrom \\\\(a + 1 = k a^3\\\\), so \\\\(k = \\\\frac{a + 1}{a^3}\\\\). Then, the value of S is \\\\(3/a^2\\\\), and from the previous condition, \\\\(S = 2(a +1)/a^3\\\\). Therefore:\\n\\n\\\\[\\n3/a^2 = 2(a + 1)/a^3 \\\\implies 3/a^2 = 2(a + 1)/a^3 \\\\implies 3a = 2(a + 1) \\\\implies 3a = 2a + 2 \\\\implies a = 2\\n\\\\]\\n\\nSo this gives \\\\(a = 2\\\\), as we found earlier. Therefore, the critical point at \\\\(a = b = c = 2\\\\) is a candidate for minimum. But we need to confirm whether this is indeed the global minimum.\\n\\nWait, but is there another possibility where \\\\(a\\\\), \\\\(b\\\\), \\\\(c\\\\) are not equal but still satisfy \\\\(\\\\frac{a + 1}{a^3} = \\\\frac{b + 1}{b^3} = \\\\frac{c + 1}{c^3}\\\\)? Let's see. Suppose that two variables are equal and the third is different. For example, suppose \\\\(a = b \\\\neq c\\\\). Then, from \\\\(\\\\frac{a + 1}{a^3} = \\\\frac{c + 1}{c^3}\\\\), so \\\\(c\\\\) must satisfy the same equation as \\\\(a\\\\). Let's see if there are solutions where \\\\(a \\\\neq c\\\\) but \\\\(\\\\frac{a + 1}{a^3} = \\\\frac{c + 1}{c^3}\\\\).\\n\\nConsider the function \\\\(f(x) = \\\\frac{x + 1}{x^3}\\\\). Let's analyze its behavior. Compute its derivative:\\n\\n\\\\(f(x) = (x + 1)x^{-3}\\\\)\\n\\n\\\\(f'(x) = x^{-3} - 3(x + 1)x^{-4} = \\\\frac{1}{x^3} - \\\\frac{3(x + 1)}{x^4} = \\\\frac{x - 3(x + 1)}{x^4} = \\\\frac{x - 3x - 3}{x^4} = \\\\frac{-2x - 3}{x^4}\\\\)\\n\\nSo \\\\(f'(x)\\\\) is negative for all \\\\(x > 0\\\\) since numerator is -2x -3 which is always negative. Thus, \\\\(f(x)\\\\) is strictly decreasing on \\\\(x > 0\\\\). Therefore, if \\\\(f(a) = f(c)\\\\) and \\\\(f\\\\) is strictly decreasing, then \\\\(a = c\\\\). Therefore, all variables must be equal. Thus, the only critical point is when \\\\(a = b = c = 2\\\\).\\n\\nTherefore, the minimum occurs at \\\\(a = b = c = 2\\\\), and the value is \\\\(81/4 = 20.25\\\\). However, let me check another case where variables are not equal. Suppose we take \\\\(a\\\\) very large, tending to infinity, and \\\\(b\\\\), \\\\(c\\\\) tending to zero. Let's see what happens to the expression.\\n\\nIf \\\\(a\\\\) approaches infinity, then \\\\(\\\\frac{1}{a^2}\\\\) approaches zero, but \\\\((a + 1)\\\\) approaches infinity. Similarly, if \\\\(b\\\\) and \\\\(c\\\\) approach zero, \\\\(\\\\frac{1}{b^2}\\\\) and \\\\(\\\\frac{1}{c^2}\\\\) approach infinity, but \\\\((b + 1)\\\\) and \\\\((c + 1)\\\\) approach 1. So, the product \\\\(\\\\left( \\\\frac{1}{a^2} + \\\\frac{1}{b^2} + \\\\frac{1}{c^2} \\\\right)\\\\) would be dominated by \\\\(\\\\frac{1}{b^2} + \\\\frac{1}{c^2}\\\\), which tends to infinity, and \\\\((a + 1)(b + 1)(c + 1)\\\\) is dominated by \\\\(a\\\\), which also tends to infinity. Therefore, the product might tend to infinity. So, the expression might go to infinity in such cases. Similarly, if two variables are large and one is small. So the minimum is likely achieved at \\\\(a = b = c = 2\\\\).\\n\\nAlternatively, let me test with different values. Suppose \\\\(a = 2\\\\), \\\\(b = 2\\\\), \\\\(c = 2\\\\) gives 81/4. What if \\\\(a = 1\\\\), \\\\(b = 1\\\\), \\\\(c = 1\\\\):\\n\\nExpression is \\\\(\\\\left( 1 + 1 + 1 \\\\right)(2)(2)(2) = 3 \\\\cdot 8 = 24\\\\), which is larger than 81/4 (which is 20.25). So worse.\\n\\nWhat if \\\\(a = 3\\\\), \\\\(b = 3\\\\), \\\\(c = 3\\\\):\\n\\nSum of reciprocals: \\\\(3/(9) = 1/3\\\\), and product: \\\\(4^3 = 64\\\\), so total is 64/3 \\u2248 21.33, which is still higher.\\n\\nWhat if we take \\\\(a = 2\\\\), \\\\(b = 2\\\\), \\\\(c = something else\\\\). Let's try \\\\(a = 2\\\\), \\\\(b = 2\\\\), and find optimal \\\\(c\\\\). Let's denote \\\\(a = b = 2\\\\), and compute expression as a function of \\\\(c\\\\):\\n\\n\\\\[\\n\\\\left( \\\\frac{1}{4} + \\\\frac{1}{4} + \\\\frac{1}{c^2} \\\\right) (3)(3)(c + 1) = \\\\left( \\\\frac{1}{2} + \\\\frac{1}{c^2} \\\\right) 9(c + 1)\\n\\\\]\\n\\nSimplify: \\\\(9 \\\\left( \\\\frac{1}{2} + \\\\frac{1}{c^2} \\\\right)(c + 1)\\\\)\\n\\nLet me set this as a function \\\\(g(c)\\\\):\\n\\n\\\\[\\ng(c) = 9 \\\\left( \\\\frac{1}{2}(c + 1) + \\\\frac{c + 1}{c^2} \\\\right ) = 9 \\\\left( \\\\frac{c + 1}{2} + \\\\frac{c + 1}{c^2} \\\\right )\\n\\\\]\\n\\nTo find the minimum of \\\\(g(c)\\\\), take the derivative with respect to \\\\(c\\\\):\\n\\nFirst, compute the derivative inside:\\n\\nLet \\\\(h(c) = \\\\frac{c + 1}{2} + \\\\frac{c + 1}{c^2}\\\\)\\n\\n\\\\(h'(c) = \\\\frac{1}{2} + \\\\frac{1 \\\\cdot c^2 - (c + 1)(2c)}{c^4}\\\\)\\n\\nSimplify the second term:\\n\\n\\\\[\\n\\\\frac{c^2 - 2c(c + 1)}{c^4} = \\\\frac{c^2 - 2c^2 - 2c}{c^4} = \\\\frac{-c^2 - 2c}{c^4} = -\\\\frac{c + 2}{c^3}\\n\\\\]\\n\\nThus,\\n\\n\\\\(h'(c) = \\\\frac{1}{2} - \\\\frac{c + 2}{c^3}\\\\)\\n\\nSet derivative equal to zero:\\n\\n\\\\[\\n\\\\frac{1}{2} - \\\\frac{c + 2}{c^3} = 0 \\\\implies \\\\frac{c + 2}{c^3} = \\\\frac{1}{2} \\\\implies 2(c + 2) = c^3 \\\\implies c^3 - 2c - 4 = 0\\n\\\\]\\n\\nSolve for \\\\(c\\\\). Let's test \\\\(c = 2\\\\): 8 - 4 - 4 = 0. So c = 2 is a root. Factor the polynomial:\\n\\n\\\\(c^3 - 2c - 4 = (c - 2)(c^2 + 2c + 2)\\\\)\\n\\nQuadratic equation \\\\(c^2 + 2c + 2 = 0\\\\) has discriminant \\\\(4 - 8 = -4\\\\), so no real roots. Therefore, the only real root is \\\\(c = 2\\\\). Therefore, the minimum occurs at \\\\(c = 2\\\\). Therefore, even if we fix two variables at 2, the third variable also needs to be 2 to minimize the expression. So this suggests that indeed the minimal value occurs at \\\\(a = b = c = 2\\\\).\\n\\nTherefore, the minimum value is \\\\(\\\\frac{81}{4}\\\\), which is 20.25. But let me check if there's any other way to approach this problem that might confirm this result.\\n\\nAlternatively, use the AM-GM inequality on each term. Let's try to split the expression into parts that can be bounded by AM-GM.\\n\\nConsider the term \\\\(\\\\frac{1}{a^2}(a + 1)\\\\). Let's write this as \\\\(\\\\frac{a + 1}{a^2} = \\\\frac{1}{a} + \\\\frac{1}{a^2}\\\\). Hmm, not sure. Alternatively, use variables substitution.\\n\\nLet me set \\\\(x = 1/a\\\\), \\\\(y = 1/b\\\\), \\\\(z = 1/c\\\\). Then the expression becomes:\\n\\n\\\\[\\n(x^2 + y^2 + z^2) \\\\left( \\\\frac{1}{x} + 1 \\\\right)\\\\left( \\\\frac{1}{y} + 1 \\\\right)\\\\left( \\\\frac{1}{z} + 1 \\\\right)\\n\\\\]\\n\\nWhich simplifies to:\\n\\n\\\\[\\n(x^2 + y^2 + z^2)\\\\left( \\\\frac{1 + x}{x} \\\\right)\\\\left( \\\\frac{1 + y}{y} \\\\right)\\\\left( \\\\frac{1 + z}{z} \\\\right)\\n\\\\]\\n\\nWhich is:\\n\\n\\\\[\\n(x^2 + y^2 + z^2) \\\\cdot \\\\frac{(1 + x)(1 + y)(1 + z)}{xyz}\\n\\\\]\\n\\nBut this seems more complicated. Alternatively, perhaps not helpful.\\n\\nAlternatively, for each variable, consider pairing \\\\(\\\\frac{1}{a^2}\\\\) with \\\\((a + 1)\\\\). Let me use H\\u00f6lder's inequality. H\\u00f6lder's inequality states that for positive real numbers and exponents p, q such that 1/p + 1/q = 1,\\n\\n\\\\[\\n\\\\sum a_i b_i \\\\leq \\\\left( \\\\sum a_i^p \\\\right)^{1/p} \\\\left( \\\\sum b_i^q \\\\right)^{1/q}\\n\\\\]\\n\\nBut not sure. Alternatively, consider that \\\\(\\\\frac{1}{a^2} \\\\cdot (a + 1)\\\\). Let me denote this as \\\\( \\\\frac{a + 1}{a^2} = \\\\frac{1}{a} + \\\\frac{1}{a^2} \\\\). But this doesn't directly help.\\n\\nAlternatively, use the inequality between arithmetic and geometric means on the terms of the product.\\n\\nLet me think of each term \\\\((a + 1)\\\\). Maybe use AM-GM on \\\\(a\\\\) and 1: \\\\(a + 1 \\\\geq 2\\\\sqrt{a}\\\\). Similarly for \\\\(b + 1 \\\\geq 2\\\\sqrt{b}\\\\), \\\\(c + 1 \\\\geq 2\\\\sqrt{c}\\\\). Therefore,\\n\\n\\\\[\\n(a + 1)(b + 1)(c + 1) \\\\geq 8 \\\\sqrt{a b c}\\n\\\\]\\n\\nThen, the original expression is at least:\\n\\n\\\\[\\n\\\\left( \\\\frac{1}{a^2} + \\\\frac{1}{b^2} + \\\\frac{1}{c^2} \\\\right) \\\\cdot 8 \\\\sqrt{a b c}\\n\\\\]\\n\\nBut I need to relate \\\\(\\\\frac{1}{a^2} + \\\\frac{1}{b^2} + \\\\frac{1}{c^2}\\\\) with \\\\(\\\\sqrt{a b c}\\\\). Maybe another application of AM-GM.\\n\\nBy AM-GM, \\\\(\\\\frac{1}{a^2} + \\\\frac{1}{b^2} + \\\\frac{1}{c^2} \\\\geq 3 \\\\sqrt[3]{\\\\frac{1}{a^2 b^2 c^2}} = 3 \\\\frac{1}{(a b c)^{2/3}}\\\\)\\n\\nTherefore, the expression is at least:\\n\\n\\\\[\\n3 \\\\cdot \\\\frac{1}{(a b c)^{2/3}} \\\\cdot 8 \\\\sqrt{a b c} = 24 \\\\cdot (a b c)^{-2/3} \\\\cdot (a b c)^{1/2} = 24 \\\\cdot (a b c)^{-1/6}\\n\\\\]\\n\\nBut this seems to go to infinity as \\\\(a b c \\\\to 0\\\\), which isn't helpful. So maybe this approach is not the best. Alternatively, the AM-GM steps are too loose.\\n\\nAlternatively, maybe use Cauchy-Schwarz. Let's consider:\\n\\n\\\\[\\n\\\\left( \\\\frac{1}{a^2} + \\\\frac{1}{b^2} + \\\\frac{1}{c^2} \\\\right) \\\\geq \\\\frac{(1 + 1 + 1)^3}{(a + b + c)^2}\\n\\\\]\\n\\nWait, no, that's Holder's inequality. Wait, maybe using Cauchy-Schwarz in the form:\\n\\n\\\\[\\n\\\\left( \\\\frac{1}{a^2} + \\\\frac{1}{b^2} + \\\\frac{1}{c^2} \\\\right)(1 + 1 + 1) \\\\geq \\\\left( \\\\frac{1}{a} + \\\\frac{1}{b} + \\\\frac{1}{c} \\\\right)^2\\n\\\\]\\n\\nBut not sure how to connect that with the product term.\\n\\nAlternatively, think about homogenizing the expression. Since the problem is to minimize the product, which is not homogeneous. Let's check the degrees. The first part, \\\\(\\\\frac{1}{a^2} + \\\\frac{1}{b^2} + \\\\frac{1}{c^2}\\\\), has degree -2. The second part, \\\\((a + 1)(b + 1)(c + 1)\\\\), expands to terms of degree 3, 2, 1, and 0. So the entire expression has components with different degrees. To homogenize, we can set a constraint. For example, set \\\\(a + 1 = k a\\\\), \\\\(b +1 = k b\\\\), \\\\(c +1 = k c\\\\). Wait, maybe that's not helpful. Alternatively, use substitution variables. Let me set \\\\(x = a\\\\), \\\\(y = b\\\\), \\\\(z = c\\\\), but not sure.\\n\\nAlternatively, since we found through symmetry and Lagrangian multipliers that the minimum occurs at \\\\(a = b = c = 2\\\\), and the expression evaluates to 81/4, and that perturbing variables from 2 in any direction seems to increase the value, perhaps that is indeed the minimum.\\n\\nTherefore, I think the minimal value is \\\\(\\\\boxed{\\\\dfrac{81}{4}}\\\\).\\n</think>\\n\\nTo find the minimum value of the expression \\\\(\\\\left(\\\\frac{1}{a^2} + \\\\frac{1}{b^2} + \\\\frac{1}{c^2}\\\\right)(a+1)(b+1)(c+1)\\\\) for positive numbers \\\\(a, b, c\\\\), we start by assuming \\\\(a = b = c = k\\\\). This assumption simplifies the expression to:\\n\\n\\\\[\\n\\\\left( \\\\frac{3}{k^2} \\\\right) (k + 1)^3 = \\\\frac{3(k + 1)^3}{k^2}\\n\\\\]\\n\\nNext, we find the critical points by taking the derivative of \\\\(\\\\frac{3(k + 1)^3}{k^2}\\\\) with respect to \\\\(k\\\\) and setting it to zero. Let \\\\(f(k) = \\\\frac{3(k + 1)^3}{k^2}\\\\). Using the quotient rule, we have:\\n\\n\\\\[\\nf'(k) = 3 \\\\cdot \\\\frac{d}{dk} \\\\left( \\\\frac{(k + 1)^3}{k^2} \\\\right) = 3 \\\\cdot \\\\frac{3(k + 1)^2 \\\\cdot k^2 - (k + 1)^3 \\\\cdot 2k}{k^4} = 3 \\\\cdot \\\\frac{(k + 1)^2 (3k - 2k - 2)}{k^3} = 3 \\\\cdot \\\\frac{(k + 1)^2 (k - 2)}{k^3}\\n\\\\]\\n\\nSetting \\\\(f'(k) = 0\\\\), we get:\\n\\n\\\\[\\n3 \\\\cdot \\\\frac{(k + 1)^2 (k - 2)}{k^3} = 0\\n\\\\]\\n\\nSince \\\\(k > 0\\\\), the critical point occurs when \\\\(k - 2 = 0\\\\), i.e., \\\\(k = 2\\\\). Substituting \\\\(k = 2\\\\) back into the expression, we get:\\n\\n\\\\[\\n\\\\frac{3(2 + 1)^3}{2^2} = \\\\frac{3 \\\\cdot 27}{4} = \\\\frac{81}{4}\\n\\\\]\\n\\nTo confirm that this is indeed the minimum, we use the method of Lagrange multipliers. We need to check if the function \\\\(\\\\frac{x + 1}{x^3}\\\\) is strictly decreasing for \\\\(x > 0\\\\). The derivative of \\\\(\\\\frac{x + 1}{x^3}\\\\) is:\\n\\n\\\\[\\n\\\\frac{d}{dx} \\\\left( \\\\frac{x + 1}{x^3} \\\\right) = \\\\frac{x^3 - 3x^2(x + 1)}{x^6} = \\\\frac{x^3 - 3x^3 - 3x^2}{x^6} = \\\\frac{-2x^3 - 3x^2}{x^6} = \\\\frac{-2x - 3}{x^4}\\n\\\\]\\n\\nSince the numerator \\\\(-2x - 3\\\\) is always negative for \\\\(x > 0\\\\), the function \\\\(\\\\frac{x + 1}{x^3}\\\\) is strictly decreasing. Therefore, the only solution to \\\\(\\\\frac{a + 1}{a^3} = \\\\frac{b + 1}{b^3} = \\\\frac{c + 1}{c^3}\\\\) is \\\\(a = b = c\\\\).\\n\\nThus, the minimum value of the expression \\\\(\\\\left(\\\\frac{1}{a^2} + \\\\frac{1}{b^2} + \\\\frac{1}{c^2}\\\\right)(a+1)(b+1)(c+1)\\\\) is \\\\(\\\\boxed{\\\\frac{81}{4}}\\\\).<|im_end|>\\n\"\n        ],\n        \"semantic_type\": \"\",\n        \"description\": \"\"\n      }\n    },\n    {\n      \"column\": \"__index_level_0__\",\n      \"properties\": {\n        \"dtype\": \"number\",\n        \"std\": 21678,\n        \"min\": 1226,\n        \"max\": 57551,\n        \"num_unique_values\": 10,\n        \"samples\": [\n          1226,\n          17982,\n          16248\n        ],\n        \"semantic_type\": \"\",\n        \"description\": \"\"\n      }\n    }\n  ]\n}"
            }
          },
          "metadata": {}
        }
      ]
    },
    {
      "cell_type": "markdown",
      "metadata": {
        "id": "idAEIeSQ3xdS"
      },
      "source": [
        "<a name=\"Train\"></a>\n",
        "### Train the model\n",
        "Now let's use Huggingface TRL's `SFTTrainer`! More docs here: [TRL SFT docs](https://huggingface.co/docs/trl/sft_trainer). We do 60 steps to speed things up, but you can set `num_train_epochs=1` for a full run, and turn off `max_steps=None`."
      ]
    },
    {
      "cell_type": "code",
      "execution_count": 18,
      "metadata": {
        "colab": {
          "base_uri": "https://localhost:8080/",
          "height": 49,
          "referenced_widgets": [
            "9d6bcc8159a9472c85d1a2e5080222af",
            "96a6a682dec14e3a9d6a685a9b770fa5",
            "9fc36426dec048c399eeb6905ab4c244",
            "3ad6b9193d94443496d7f47441f49fbe",
            "6399e0fdb32a40eb92210b5d4433709b",
            "1acb568241c8425cb3b9b299e0439ca4",
            "18906743fa7d451abb0ba796cc564b6c",
            "8d9fc3e0f5664196917ae3060bd4a0a1",
            "445c713a6aa84521985db0a79d3b02b0",
            "2ad245ebffb1425694858a2e16a94dae",
            "1e0b678a5c974068856a2e2db4ad6bb7"
          ]
        },
        "id": "95_Nn-89DhsL",
        "outputId": "c15d2ce9-2c64-489c-f4ec-b68226d091f4"
      },
      "outputs": [
        {
          "output_type": "display_data",
          "data": {
            "text/plain": [
              "Unsloth: Tokenizing [\"text\"] (num_proc=12):   0%|          | 0/24065 [00:00<?, ? examples/s]"
            ],
            "application/vnd.jupyter.widget-view+json": {
              "version_major": 2,
              "version_minor": 0,
              "model_id": "9d6bcc8159a9472c85d1a2e5080222af"
            }
          },
          "metadata": {}
        }
      ],
      "source": [
        "# 使用HuggingFace TRL的SFTTrainer进行训练\n",
        "from trl import SFTTrainer, SFTConfig\n",
        "trainer = SFTTrainer(\n",
        "    model = model,\n",
        "    tokenizer = tokenizer,\n",
        "    train_dataset = combined_dataset,\n",
        "    eval_dataset = None,  # 可以设置评估数据集\n",
        "    args = SFTConfig(\n",
        "        dataset_text_field = \"text\",  # 指定数据集中的文本字段\n",
        "        per_device_train_batch_size = 2,  # 每个设备的训练批次大小\n",
        "        gradient_accumulation_steps = 4,  # 使用梯度累积模拟更大批次大小\n",
        "        warmup_steps = 5,  # 预热步数\n",
        "        # num_train_epochs = 1,  # 设置为1以进行完整训练\n",
        "        max_steps = 30,\n",
        "        learning_rate = 2e-4,   # 学习率（长期训练可降至2e-5）\n",
        "        logging_steps = 1,  # 日志记录间隔\n",
        "        optim = \"adamw_8bit\",  # 优化器\n",
        "        weight_decay = 0.01,  # 权重衰减\n",
        "        lr_scheduler_type = \"linear\",  # 学习率调度类型\n",
        "        seed = 3407,  # 随机种子\n",
        "        report_to = \"none\",   # 可设置为\"wandb\"等进行实验追踪\n",
        "    ),\n",
        ")"
      ]
    },
    {
      "cell_type": "code",
      "execution_count": 19,
      "metadata": {
        "colab": {
          "base_uri": "https://localhost:8080/"
        },
        "id": "2ejIt2xSNKKp",
        "outputId": "489d2ddb-03eb-4152-9f1e-25528c2199e5"
      },
      "outputs": [
        {
          "output_type": "stream",
          "name": "stdout",
          "text": [
            "GPU = NVIDIA A100-SXM4-40GB. Max memory = 39.557 GB.\n",
            "14.066 GB of memory reserved.\n"
          ]
        }
      ],
      "source": [
        "# 显示当前内存统计\n",
        "gpu_stats = torch.cuda.get_device_properties(0)\n",
        "start_gpu_memory = round(torch.cuda.max_memory_reserved() / 1024 / 1024 / 1024, 3)\n",
        "max_memory = round(gpu_stats.total_memory / 1024 / 1024 / 1024, 3)\n",
        "print(f\"GPU = {gpu_stats.name}. Max memory = {max_memory} GB.\")\n",
        "print(f\"{start_gpu_memory} GB of memory reserved.\")"
      ]
    },
    {
      "cell_type": "markdown",
      "source": [
        "Let's train the model! To resume a training run, set `trainer.train(resume_from_checkpoint = True)`"
      ],
      "metadata": {
        "id": "M9fa371ShyhB"
      }
    },
    {
      "cell_type": "code",
      "execution_count": 20,
      "metadata": {
        "colab": {
          "base_uri": "https://localhost:8080/",
          "height": 1000
        },
        "id": "yqxqAZ7KJ4oL",
        "outputId": "082ab6af-6a61-4377-c7f2-8049231e1ded"
      },
      "outputs": [
        {
          "output_type": "stream",
          "name": "stderr",
          "text": [
            "==((====))==  Unsloth - 2x faster free finetuning | Num GPUs used = 1\n",
            "   \\\\   /|    Num examples = 24,065 | Num Epochs = 1 | Total steps = 30\n",
            "O^O/ \\_/ \\    Batch size per device = 2 | Gradient accumulation steps = 4\n",
            "\\        /    Data Parallel GPUs = 1 | Total batch size (2 x 4 x 1) = 8\n",
            " \"-____-\"     Trainable parameters = 128,450,560/14,000,000,000 (0.92% trained)\n"
          ]
        },
        {
          "output_type": "stream",
          "name": "stdout",
          "text": [
            "Unsloth: Will smartly offload gradients to save VRAM!\n"
          ]
        },
        {
          "output_type": "display_data",
          "data": {
            "text/plain": [
              "<IPython.core.display.HTML object>"
            ],
            "text/html": [
              "\n",
              "    <div>\n",
              "      \n",
              "      <progress value='30' max='30' style='width:300px; height:20px; vertical-align: middle;'></progress>\n",
              "      [30/30 03:58, Epoch 0/1]\n",
              "    </div>\n",
              "    <table border=\"1\" class=\"dataframe\">\n",
              "  <thead>\n",
              " <tr style=\"text-align: left;\">\n",
              "      <th>Step</th>\n",
              "      <th>Training Loss</th>\n",
              "    </tr>\n",
              "  </thead>\n",
              "  <tbody>\n",
              "    <tr>\n",
              "      <td>1</td>\n",
              "      <td>0.524400</td>\n",
              "    </tr>\n",
              "    <tr>\n",
              "      <td>2</td>\n",
              "      <td>0.595800</td>\n",
              "    </tr>\n",
              "    <tr>\n",
              "      <td>3</td>\n",
              "      <td>0.731100</td>\n",
              "    </tr>\n",
              "    <tr>\n",
              "      <td>4</td>\n",
              "      <td>0.614800</td>\n",
              "    </tr>\n",
              "    <tr>\n",
              "      <td>5</td>\n",
              "      <td>0.522500</td>\n",
              "    </tr>\n",
              "    <tr>\n",
              "      <td>6</td>\n",
              "      <td>0.522300</td>\n",
              "    </tr>\n",
              "    <tr>\n",
              "      <td>7</td>\n",
              "      <td>0.517400</td>\n",
              "    </tr>\n",
              "    <tr>\n",
              "      <td>8</td>\n",
              "      <td>0.468500</td>\n",
              "    </tr>\n",
              "    <tr>\n",
              "      <td>9</td>\n",
              "      <td>0.431500</td>\n",
              "    </tr>\n",
              "    <tr>\n",
              "      <td>10</td>\n",
              "      <td>0.507700</td>\n",
              "    </tr>\n",
              "    <tr>\n",
              "      <td>11</td>\n",
              "      <td>0.442200</td>\n",
              "    </tr>\n",
              "    <tr>\n",
              "      <td>12</td>\n",
              "      <td>0.459700</td>\n",
              "    </tr>\n",
              "    <tr>\n",
              "      <td>13</td>\n",
              "      <td>0.542200</td>\n",
              "    </tr>\n",
              "    <tr>\n",
              "      <td>14</td>\n",
              "      <td>0.435200</td>\n",
              "    </tr>\n",
              "    <tr>\n",
              "      <td>15</td>\n",
              "      <td>0.438400</td>\n",
              "    </tr>\n",
              "    <tr>\n",
              "      <td>16</td>\n",
              "      <td>0.496300</td>\n",
              "    </tr>\n",
              "    <tr>\n",
              "      <td>17</td>\n",
              "      <td>0.428000</td>\n",
              "    </tr>\n",
              "    <tr>\n",
              "      <td>18</td>\n",
              "      <td>0.451600</td>\n",
              "    </tr>\n",
              "    <tr>\n",
              "      <td>19</td>\n",
              "      <td>0.372300</td>\n",
              "    </tr>\n",
              "    <tr>\n",
              "      <td>20</td>\n",
              "      <td>0.404200</td>\n",
              "    </tr>\n",
              "    <tr>\n",
              "      <td>21</td>\n",
              "      <td>0.420500</td>\n",
              "    </tr>\n",
              "    <tr>\n",
              "      <td>22</td>\n",
              "      <td>0.469900</td>\n",
              "    </tr>\n",
              "    <tr>\n",
              "      <td>23</td>\n",
              "      <td>0.471500</td>\n",
              "    </tr>\n",
              "    <tr>\n",
              "      <td>24</td>\n",
              "      <td>0.471300</td>\n",
              "    </tr>\n",
              "    <tr>\n",
              "      <td>25</td>\n",
              "      <td>0.472000</td>\n",
              "    </tr>\n",
              "    <tr>\n",
              "      <td>26</td>\n",
              "      <td>0.461900</td>\n",
              "    </tr>\n",
              "    <tr>\n",
              "      <td>27</td>\n",
              "      <td>0.364100</td>\n",
              "    </tr>\n",
              "    <tr>\n",
              "      <td>28</td>\n",
              "      <td>0.406500</td>\n",
              "    </tr>\n",
              "    <tr>\n",
              "      <td>29</td>\n",
              "      <td>0.348300</td>\n",
              "    </tr>\n",
              "    <tr>\n",
              "      <td>30</td>\n",
              "      <td>0.387700</td>\n",
              "    </tr>\n",
              "  </tbody>\n",
              "</table><p>"
            ]
          },
          "metadata": {}
        }
      ],
      "source": [
        "# 开始训练模型\n",
        "# 要恢复训练，可设置 resume_from_checkpoint = True\n",
        "trainer_stats = trainer.train()"
      ]
    },
    {
      "cell_type": "code",
      "execution_count": 32,
      "metadata": {
        "colab": {
          "base_uri": "https://localhost:8080/"
        },
        "id": "pCqnaKmlO1U9",
        "outputId": "bfa953b5-75d4-4acb-95c0-332c7091a856"
      },
      "outputs": [
        {
          "output_type": "stream",
          "name": "stdout",
          "text": [
            "258.5471 seconds used for training.\n",
            "4.31 minutes used for training.\n",
            "Peak reserved memory = 14.066 GB.\n",
            "Peak reserved memory for training = 0.0 GB.\n",
            "Peak reserved memory % of max memory = 35.559 %.\n",
            "Peak reserved memory for training % of max memory = 0.0 %.\n"
          ]
        }
      ],
      "source": [
        "# 显示最终内存和时间统计\n",
        "used_memory = round(torch.cuda.max_memory_reserved() / 1024 / 1024 / 1024, 3)\n",
        "used_memory_for_lora = round(used_memory - start_gpu_memory, 3)\n",
        "used_percentage = round(used_memory / max_memory * 100, 3)\n",
        "lora_percentage = round(used_memory_for_lora / max_memory * 100, 3)\n",
        "print(f\"{trainer_stats.metrics['train_runtime']} seconds used for training.\")\n",
        "print(\n",
        "    f\"{round(trainer_stats.metrics['train_runtime']/60, 2)} minutes used for training.\"\n",
        ")\n",
        "print(f\"Peak reserved memory = {used_memory} GB.\")\n",
        "print(f\"Peak reserved memory for training = {used_memory_for_lora} GB.\")\n",
        "print(f\"Peak reserved memory % of max memory = {used_percentage} %.\")\n",
        "print(f\"Peak reserved memory for training % of max memory = {lora_percentage} %.\")"
      ]
    },
    {
      "cell_type": "markdown",
      "metadata": {
        "id": "ekOmTR1hSNcr"
      },
      "source": [
        "<a name=\"Inference\"></a>\n",
        "### Inference\n",
        "Let's run the model via Unsloth native inference! According to the `Qwen-3` team, the recommended settings for reasoning inference are `temperature = 0.6, top_p = 0.95, top_k = 20`\n",
        "\n",
        "For normal chat based inference, `temperature = 0.7, top_p = 0.8, top_k = 20`"
      ]
    },
    {
      "cell_type": "code",
      "execution_count": 19,
      "metadata": {
        "colab": {
          "base_uri": "https://localhost:8080/"
        },
        "id": "kR3gIAX-SM2q",
        "outputId": "1de3967b-174d-4e82-a516-24b62f5f675d"
      },
      "outputs": [
        {
          "output_type": "stream",
          "name": "stdout",
          "text": [
            "We are given the equation:\n",
            "\n",
            "$$\n",
            "(x + 2)^2 = 0\n",
            "$$\n",
            "\n",
            "### Step 1: Take the square root of both sides\n",
            "\n",
            "$$\n",
            "\\sqrt{(x + 2)^2} = \\sqrt{0}\n",
            "$$\n",
            "\n",
            "$$\n",
            "|x + 2| = 0\n",
            "$$\n",
            "\n",
            "### Step 2: Solve the absolute value equation\n",
            "\n",
            "$$\n",
            "x + 2 = 0\n",
            "$$\n",
            "\n",
            "### Step 3: Solve for $ x $\n",
            "\n",
            "$$\n",
            "x = -2\n",
            "$$\n",
            "\n",
            "### ✅ Final Answer:\n",
            "\n",
            "$$\n",
            "\\boxed{-2}\n",
            "$$<|im_end|>\n"
          ]
        }
      ],
      "source": [
        "# 模型推理\n",
        "# 使用Unsloth原生推理功能测试模型\n",
        "# 根据Qwen-3团队建议：\n",
        "# - 推理模式：temperature=0.6, top_p=0.95, top_k=20\n",
        "# - 普通聊天模式：temperature=0.7, top_p=0.8, top_k=20\n",
        "\n",
        "# 测试没有启用thinking模式的普通对话\n",
        "messages = [\n",
        "    {\"role\" : \"user\", \"content\" : \"Solve (x + 2)^2 = 0.\"}\n",
        "]\n",
        "text = tokenizer.apply_chat_template(\n",
        "    messages,\n",
        "    tokenize = False,\n",
        "    add_generation_prompt = True, # 必须添加生成提示\n",
        "    enable_thinking = False,  # 禁用thinking模式\n",
        ")\n",
        "\n",
        "# 使用普通对话参数进行文本生成\n",
        "from transformers import TextStreamer\n",
        "_ = model.generate(\n",
        "    **tokenizer(text, return_tensors = \"pt\").to(\"cuda\"),\n",
        "    max_new_tokens = 256, # 增加以获得更长输出\n",
        "    temperature = 0.7, top_p = 0.8, top_k = 20, # 普通对话模式参数\n",
        "    streamer = TextStreamer(tokenizer, skip_prompt = True),\n",
        ")"
      ]
    },
    {
      "cell_type": "code",
      "source": [
        "# 测试启用thinking模式的推理对话\n",
        "messages = [\n",
        "    {\"role\" : \"user\", \"content\" : \"Solve (x + 2)^2 = 0.\"}\n",
        "]\n",
        "text = tokenizer.apply_chat_template(\n",
        "    messages,\n",
        "    tokenize = False,\n",
        "    add_generation_prompt = True,  # 必须添加生成提示\n",
        "    enable_thinking = True, # 启用thinking模式\n",
        ")\n",
        "\n",
        "# 使用推理模式参数进行文本生成\n",
        "from transformers import TextStreamer\n",
        "_ = model.generate(\n",
        "    **tokenizer(text, return_tensors = \"pt\").to(\"cuda\"),\n",
        "    max_new_tokens = 1024,  # 增加以获得更长输出\n",
        "    temperature = 0.6, top_p = 0.95, top_k = 20, # 推理模式参数\n",
        "    streamer = TextStreamer(tokenizer, skip_prompt = True),\n",
        ")"
      ],
      "metadata": {
        "colab": {
          "base_uri": "https://localhost:8080/"
        },
        "id": "j873RMcEi9uq",
        "outputId": "3c32204f-c0d2-43f6-968b-678590a0bc70"
      },
      "execution_count": 20,
      "outputs": [
        {
          "output_type": "stream",
          "name": "stdout",
          "text": [
            "<think>\n",
            "Okay, so I need to solve the equation (x + 2)^2 = 0. Hmm, let me think. Alright, first, I remember that when you have something squared equals zero, the only way that can happen is if the thing inside the square is zero. Because if you square any real number, it's either positive or zero. So if the square is zero, the original number must be zero. So, applying that here, if (x + 2)^2 = 0, then x + 2 must be 0. \n",
            "\n",
            "Wait, let me check that again. Let me think of an example. If I have (something)^2 = 0, then that something has to be zero. Because if something is not zero, then squaring it would give a positive number. So yeah, only zero squared is zero. So that means x + 2 = 0. Then solving for x, I subtract 2 from both sides. So x = -2. \n",
            "\n",
            "But hold on, since it's a square, does that mean there are two solutions? Like, usually quadratic equations have two solutions. But in this case, since it's a perfect square, maybe it's a repeated root? So, even though it's a quadratic equation, the solution is just x = -2, but with multiplicity two? \n",
            "\n",
            "But the question just says \"solve,\" so maybe they just want the real solution? So, even though it's a quadratic, the equation (x + 2)^2 = 0 has only one unique real solution, which is x = -2. But if they're asking for all real solutions, then it's still just x = -2. Because even though it's a quadratic, the multiplicity doesn't change the solution set. \n",
            "\n",
            "Alternatively, if I were to expand the equation, maybe I can check. Let's do that. (x + 2)^2 is equal to x^2 + 4x + 4. So the equation becomes x^2 + 4x + 4 = 0. Then, using the quadratic formula, x = [-b ± sqrt(b² - 4ac)] / 2a. Here, a = 1, b = 4, c = 4. So discriminant is b² - 4ac = 16 - 16 = 0. So sqrt(0) is 0. Therefore, x = [-4 ± 0]/2 = -4/2 = -2. So that gives only one solution, x = -2. \n",
            "\n",
            "So that confirms it. Even though it's a quadratic equation, the discriminant is zero, so there's exactly one real solution, which is x = -2. So the answer is x = -2. \n",
            "\n",
            "But let me think again. Maybe I should write it as x = -2 with multiplicity two? But the question didn't specify anything about multiplicity, just to solve the equation. So solving the equation (x + 2)^2 = 0, the solution is x = -2. \n",
            "\n",
            "Alternatively, if we think about the graph of y = (x + 2)^2, which is a parabola opening upwards with vertex at (-2, 0). The graph touches the x-axis at x = -2, so that's the only x-intercept. So that's the only solution. \n",
            "\n",
            "So yeah, I think that's it. The solution is x = -2. \n",
            "\n",
            "But wait, sometimes when people write equations like this, they might expect two solutions, but in this case, since both roots are the same, it's just one solution. So maybe I should mention that it's a repeated root? But again, the question just says \"solve,\" so maybe just giving x = -2 is sufficient. \n",
            "\n",
            "Alternatively, if I write x = -2, x = -2. But that's redundant. So probably better to write x = -2, with a note that it's a double root. But maybe the problem just wants the solution set, which is {-2}. \n",
            "\n",
            "So yeah, I think the answer is x = -2. \n",
            "\n",
            "**Final Answer**\n",
            "The solution is \\boxed{-2}.\n",
            "</think>\n",
            "\n",
            "To solve the equation $(x + 2)^2 = 0$, we begin by analyzing the structure of the equation.\n",
            "\n",
            "---\n",
            "\n",
            "### Step 1: Understanding the Nature of the Equation\n",
            "\n",
            "The equation $(x + 2)^2 = 0$ is a quadratic expression written in factored form. A key property of squaring real numbers is that the square of any real number is non-negative, and it equals zero **only when the number itself is zero**. Therefore:\n",
            "\n",
            "$$\n",
            "(x + 2)^2 = 0 \\quad \\Rightarrow \\quad x + 2 = 0\n",
            "$$\n",
            "\n",
            "---\n",
            "\n",
            "### Step 2: Solving for $x$\n",
            "\n",
            "Now, solving the simpler equation:\n",
            "\n",
            "$$\n",
            "x\n"
          ]
        }
      ]
    },
    {
      "cell_type": "markdown",
      "metadata": {
        "id": "uMuVrWbjAzhc"
      },
      "source": [
        "<a name=\"Save\"></a>\n",
        "### Saving, loading finetuned models\n",
        "To save the final model as LoRA adapters, either use Huggingface's `push_to_hub` for an online save or `save_pretrained` for a local save.\n",
        "\n",
        "**[NOTE]** This ONLY saves the LoRA adapters, and not the full model. To save to 16bit or GGUF, scroll down!"
      ]
    },
    {
      "cell_type": "code",
      "execution_count": 22,
      "metadata": {
        "colab": {
          "base_uri": "https://localhost:8080/"
        },
        "id": "upcOlWe7A1vc",
        "outputId": "e035f59f-5623-498a-9b12-998aa77754d2"
      },
      "outputs": [
        {
          "output_type": "stream",
          "name": "stderr",
          "text": [
            "/usr/local/lib/python3.11/dist-packages/peft/utils/other.py:1110: UserWarning: Unable to fetch remote file due to the following error 401 Client Error: Unauthorized for url: https://huggingface.co/unsloth/qwen3-14b-unsloth-bnb-4bit/resolve/main/config.json (Request ID: Root=1-681600dc-7169cfcb1a120d696872907b;d5812780-1849-4727-8c34-957c6bbb1916)\n",
            "\n",
            "Invalid credentials in Authorization header - silently ignoring the lookup for the file config.json in unsloth/qwen3-14b-unsloth-bnb-4bit.\n",
            "  warnings.warn(\n"
          ]
        },
        {
          "output_type": "execute_result",
          "data": {
            "text/plain": [
              "('lora_model/tokenizer_config.json',\n",
              " 'lora_model/special_tokens_map.json',\n",
              " 'lora_model/vocab.json',\n",
              " 'lora_model/merges.txt',\n",
              " 'lora_model/added_tokens.json',\n",
              " 'lora_model/tokenizer.json')"
            ]
          },
          "metadata": {},
          "execution_count": 22
        }
      ],
      "source": [
        "# 模型保存\n",
        "# 以下是多种保存模型的方式\n",
        "\n",
        "# 保存LoRA适配器（不包含完整模型，体积小）\n",
        "model.save_pretrained(\"lora_model\")  # Local saving\n",
        "tokenizer.save_pretrained(\"lora_model\")\n",
        "# model.push_to_hub(\"leo009/Qwen3-lora_model\", token = \"\") # 上传到HuggingFace Hub\n",
        "# tokenizer.push_to_hub(\"leo009/Qwen3-lora_model\", token = \"\") # 上传到HuggingFace Hub"
      ]
    },
    {
      "cell_type": "markdown",
      "metadata": {
        "id": "AEEcJ4qfC7Lp"
      },
      "source": [
        "Now if you want to load the LoRA adapters we just saved for inference, set `False` to `True`:"
      ]
    },
    {
      "cell_type": "code",
      "execution_count": 37,
      "metadata": {
        "id": "MKX_XKs_BNZR",
        "colab": {
          "base_uri": "https://localhost:8080/",
          "height": 156,
          "referenced_widgets": [
            "2346d3ebbb3a4e98a20efdf4bb5d2877",
            "2287576e28534b5a8ddd1ab78962992a",
            "9fc11e2f05524bdbbb8952baecaf930d",
            "a57448c04d854a698af3b37bb0a283e4",
            "d97f9c4bf2f8407e992f21be643d0a9f",
            "488b0417543d4f089b149f07c0a00488",
            "d7bce00677d94f9ba4c697207cfdfc89",
            "bc9107cfc1c14aaeac2c3acc6d8a0dfe",
            "5b4f9a0d39c54c1a9c69664006280158",
            "69ac141a05894f7285a0d6cec0edb90e",
            "f5cc0f866f674dc98455e4f2d172af26"
          ]
        },
        "outputId": "8aea62bb-4181-4411-8acb-840f534c41cc"
      },
      "outputs": [
        {
          "output_type": "stream",
          "name": "stdout",
          "text": [
            "==((====))==  Unsloth 2025.4.7: Fast Qwen3 patching. Transformers: 4.51.3.\n",
            "   \\\\   /|    NVIDIA A100-SXM4-40GB. Num GPUs = 1. Max memory: 39.557 GB. Platform: Linux.\n",
            "O^O/ \\_/ \\    Torch: 2.6.0+cu124. CUDA: 8.0. CUDA Toolkit: 12.4. Triton: 3.2.0\n",
            "\\        /    Bfloat16 = TRUE. FA [Xformers = 0.0.29.post3. FA2 = False]\n",
            " \"-____-\"     Free license: http://github.com/unslothai/unsloth\n",
            "Unsloth: Fast downloading is enabled - ignore downloading bars which are red colored!\n"
          ]
        },
        {
          "output_type": "display_data",
          "data": {
            "text/plain": [
              "Loading checkpoint shards:   0%|          | 0/3 [00:00<?, ?it/s]"
            ],
            "application/vnd.jupyter.widget-view+json": {
              "version_major": 2,
              "version_minor": 0,
              "model_id": "2346d3ebbb3a4e98a20efdf4bb5d2877"
            }
          },
          "metadata": {}
        }
      ],
      "source": [
        "# 加载刚刚保存的LoRA适配器（用于推理）\n",
        "if True:\n",
        "    from unsloth import FastLanguageModel\n",
        "    model, tokenizer = FastLanguageModel.from_pretrained(\n",
        "        model_name = \"lora_model\",  # 训练时使用的模型\n",
        "        max_seq_length = 2048,\n",
        "        load_in_4bit = True,\n",
        "    )"
      ]
    },
    {
      "cell_type": "markdown",
      "metadata": {
        "id": "f422JgM9sdVT"
      },
      "source": [
        "### Saving to float16 for VLLM\n",
        "\n",
        "We also support saving to `float16` directly. Select `merged_16bit` for float16 or `merged_4bit` for int4. We also allow `lora` adapters as a fallback. Use `push_to_hub_merged` to upload to your Hugging Face account! You can go to https://huggingface.co/settings/tokens for your personal tokens."
      ]
    },
    {
      "cell_type": "code",
      "execution_count": 38,
      "metadata": {
        "id": "iHjt_SMYsd3P",
        "colab": {
          "base_uri": "https://localhost:8080/"
        },
        "outputId": "a30cf356-9ba4-4b07-d754-e7e1d60832ea"
      },
      "outputs": [
        {
          "output_type": "stream",
          "name": "stdout",
          "text": [
            "Unsloth: Merging 4bit and LoRA weights to 4bit...\n",
            "This might take 5 minutes...\n"
          ]
        },
        {
          "output_type": "stream",
          "name": "stderr",
          "text": [
            "/usr/local/lib/python3.11/dist-packages/peft/tuners/lora/bnb.py:351: UserWarning: Merge lora module to 4-bit linear may get different generations due to rounding errors.\n",
            "  warnings.warn(\n"
          ]
        },
        {
          "output_type": "stream",
          "name": "stdout",
          "text": [
            "Done.\n",
            "Unsloth: Saving tokenizer... Done.\n",
            "Unsloth: Saving model... This might take 10 minutes for Llama-7b... Done.\n",
            "Unsloth: Merging 4bit and LoRA weights to 4bit...\n",
            "This might take 5 minutes...\n",
            "Done.\n",
            "Unsloth: Saving 4bit Bitsandbytes model. Please wait...\n",
            "Saved merged_4bit model to https://huggingface.co/leo009/Qwen3-vLLM\n"
          ]
        }
      ],
      "source": [
        "# 保存为float16格式（用于VLLM）\n",
        "# 支持多种保存方式：merged_16bit（float16）、merged_4bit（int4）或lora（适配器）\n",
        "\n",
        "# Merge to 16bit\n",
        "if False:\n",
        "    model.save_pretrained_merged(\"model\", tokenizer, save_method = \"merged_16bit\",)\n",
        "if False: # 上传到HuggingFace Hub\n",
        "    model.push_to_hub_merged(\"hf/model\", tokenizer, save_method = \"merged_16bit\", token = \"\")\n",
        "\n",
        "# 保存为4位精度\n",
        "if True:\n",
        "    model.save_pretrained_merged(\"model\", tokenizer, save_method = \"merged_4bit_forced\",) # 改为_forced版本\n",
        "if True: # 上传到HuggingFace Hub\n",
        "    model.push_to_hub_merged(\"leo009/Qwen3-vLLM\", tokenizer, save_method = \"merged_4bit_forced\", token = \"\") # 同样改为_forced版本\n",
        "\n",
        "# 仅保存LoRA适配器\n",
        "if False:\n",
        "    model.save_pretrained_merged(\"model\", tokenizer, save_method = \"lora\",)\n",
        "if False: # 上传到HuggingFace Hub\n",
        "    model.push_to_hub_merged(\"hf/model\", tokenizer, save_method = \"lora\", token = \"\")"
      ]
    },
    {
      "cell_type": "markdown",
      "metadata": {
        "id": "TCv4vXHd61i7"
      },
      "source": [
        "### GGUF / llama.cpp Conversion\n",
        "To save to `GGUF` / `llama.cpp`, we support it natively now! We clone `llama.cpp` and we default save it to `q8_0`. We allow all methods like `q4_k_m`. Use `save_pretrained_gguf` for local saving and `push_to_hub_gguf` for uploading to HF.\n",
        "\n",
        "Some supported quant methods (full list on our [Wiki page](https://github.com/unslothai/unsloth/wiki#gguf-quantization-options)):\n",
        "* `q8_0` - Fast conversion. High resource use, but generally acceptable.\n",
        "* `q4_k_m` - Recommended. Uses Q6_K for half of the attention.wv and feed_forward.w2 tensors, else Q4_K.\n",
        "* `q5_k_m` - Recommended. Uses Q6_K for half of the attention.wv and feed_forward.w2 tensors, else Q5_K.\n",
        "\n",
        "[**NEW**] To finetune and auto export to Ollama, try our [Ollama notebook](https://colab.research.google.com/github/unslothai/notebooks/blob/main/nb/Llama3_(8B)-Ollama.ipynb)"
      ]
    },
    {
      "cell_type": "code",
      "source": [
        "# GGUF / llama.cpp 格式转换\n",
        "# 支持多种量化方法，如q8_0、q4_k_m、q5_k_m等\n",
        "\n",
        "# F16（Float16）格式\n",
        "\n",
        "# 精度类型：半精度浮点数（16位浮点数）\n",
        "# 内存占用：比原始FP32（32位浮点数）减少约50%的存储空间\n",
        "# 精度保留：保留了相对较高的数值精度，损失较小\n",
        "# 推理性能：比FP32快，但比更低位量化格式慢\n",
        "# 适用场景：当需要在内存使用和模型精度之间取得平衡时使用\n",
        "\n",
        "# Q4_K_M格式\n",
        "\n",
        "# 精度类型：混合4位量化格式（是GGUF量化方案的一种）\n",
        "# 内存占用：比F16减少约75%的存储空间，比原始FP32减少约87.5%\n",
        "# 量化策略：针对不同权重采用不同的量化策略\n",
        "\n",
        "# 对注意力机制中的WV矩阵和前馈网络中的W2矩阵的一半使用Q6_K量化\n",
        "# 对其余权重使用Q4_K量化\n",
        "\n",
        "\n",
        "# 精度与速度：牺牲一定精度以获得更小的文件大小和更快的推理速度\n",
        "# 适用场景：适合在资源受限设备上运行模型，如个人电脑或移动设备\n",
        "\n",
        "\n",
        "# # Save to 8bit Q8_0\n",
        "# if False:\n",
        "#     model.save_pretrained_gguf(\"model\", tokenizer,)\n",
        "# # Remember to go to https://huggingface.co/settings/tokens for a token!\n",
        "# # And change hf to your username!\n",
        "# if False:\n",
        "#     model.push_to_hub_gguf(\"hf/model\", tokenizer, token = \"\")\n",
        "\n",
        "# # 保存为16位GGUF\n",
        "# if False:\n",
        "#     model.save_pretrained_gguf(\"model\", tokenizer, quantization_method = \"f16\")\n",
        "# if False: # 上传到HuggingFace Hub\n",
        "#     model.push_to_hub_gguf(\"hf/model\", tokenizer, quantization_method = \"f16\", token = \"\")\n",
        "\n",
        "# # 保存为q4_k_m格式GGUF\n",
        "if True:\n",
        "    model.save_pretrained_gguf(\"model\", tokenizer, quantization_method = \"q4_k_m\")\n",
        "if True:# 上传到HuggingFace Hub\n",
        "    model.push_to_hub_gguf(\"leo009/Qwen3-GGUF\", tokenizer, quantization_method = \"q4_k_m\", token = \"\")\n",
        "\n",
        "# # 保存多种GGUF格式（批量导出更高效）\n",
        "# if False:\n",
        "#     model.push_to_hub_gguf(\n",
        "#         \"hf/model\", # Change hf to your username!\n",
        "#         tokenizer,\n",
        "#         quantization_method = [\"q4_k_m\", \"q8_0\", \"q5_k_m\",],\n",
        "#         token = \"\", # Get a token at https://huggingface.co/settings/tokens\n",
        "#     )"
      ],
      "metadata": {
        "id": "iX3Hv8YzBKyr"
      },
      "execution_count": null,
      "outputs": []
    },
    {
      "cell_type": "code",
      "source": [
        "from google.colab import drive\n",
        "drive.mount('/content/gdrive')\n"
      ],
      "metadata": {
        "colab": {
          "base_uri": "https://localhost:8080/"
        },
        "id": "jvnH4VuYX7pw",
        "outputId": "d8660292-4c31-474d-abb3-44d25d88498b"
      },
      "execution_count": 27,
      "outputs": [
        {
          "output_type": "stream",
          "name": "stdout",
          "text": [
            "Drive already mounted at /content/gdrive; to attempt to forcibly remount, call drive.mount(\"/content/gdrive\", force_remount=True).\n"
          ]
        }
      ]
    },
    {
      "cell_type": "code",
      "source": [
        "# Save to Google Drive with q4_k_m quantization\n",
        "if True:\n",
        "    model.save_pretrained_gguf(\"/content/gdrive/MyDrive/MyModel/model\",\n",
        "                              tokenizer,\n",
        "                              quantization_method = \"q4_k_m\")"
      ],
      "metadata": {
        "id": "JHHDFytkCAp0"
      },
      "execution_count": null,
      "outputs": []
    },
    {
      "cell_type": "markdown",
      "metadata": {
        "id": "zehUeTl2pjya"
      },
      "source": [
        "Now, use the `model.gguf` file or `model-Q4_K_M.gguf` file in llama.cpp or a UI based system like Jan or Open WebUI. You can install Jan [here](https://github.com/janhq/jan) and Open WebUI [here](https://github.com/open-webui/open-webui)\n",
        "\n",
        "And we're done! If you have any questions on Unsloth, we have a [Discord](https://discord.gg/unsloth) channel! If you find any bugs or want to keep updated with the latest LLM stuff, or need help, join projects etc, feel free to join our Discord!\n",
        "\n",
        "Some other links:\n",
        "1. Train your own reasoning model - Llama GRPO notebook [Free Colab](https://colab.research.google.com/github/unslothai/notebooks/blob/main/nb/Llama3.1_(8B)-GRPO.ipynb)\n",
        "2. Saving finetunes to Ollama. [Free notebook](https://colab.research.google.com/github/unslothai/notebooks/blob/main/nb/Llama3_(8B)-Ollama.ipynb)\n",
        "3. Llama 3.2 Vision finetuning - Radiography use case. [Free Colab](https://colab.research.google.com/github/unslothai/notebooks/blob/main/nb/Llama3.2_(11B)-Vision.ipynb)\n",
        "6. See notebooks for DPO, ORPO, Continued pretraining, conversational finetuning and more on our [documentation](https://docs.unsloth.ai/get-started/unsloth-notebooks)!\n",
        "\n",
        "<div class=\"align-center\">\n",
        "  <a href=\"https://unsloth.ai\"><img src=\"https://github.com/unslothai/unsloth/raw/main/images/unsloth%20new%20logo.png\" width=\"115\"></a>\n",
        "  <a href=\"https://discord.gg/unsloth\"><img src=\"https://github.com/unslothai/unsloth/raw/main/images/Discord.png\" width=\"145\"></a>\n",
        "  <a href=\"https://docs.unsloth.ai/\"><img src=\"https://github.com/unslothai/unsloth/blob/main/images/documentation%20green%20button.png?raw=true\" width=\"125\"></a>\n",
        "\n",
        "  Join Discord if you need help + ⭐️ <i>Star us on <a href=\"https://github.com/unslothai/unsloth\">Github</a> </i> ⭐️\n",
        "</div>\n"
      ]
    }
  ],
  "metadata": {
    "accelerator": "GPU",
    "colab": {
      "gpuType": "A100",
      "provenance": []
    },
    "kernelspec": {
      "display_name": "Python 3",
      "name": "python3"
    },
    "language_info": {
      "name": "python"
    },
    "widgets": {
      "application/vnd.jupyter.widget-state+json": {
        "22ff87da9aac4979891531f7770f4c8a": {
          "model_module": "@jupyter-widgets/controls",
          "model_name": "HBoxModel",
          "model_module_version": "1.5.0",
          "state": {
            "_dom_classes": [],
            "_model_module": "@jupyter-widgets/controls",
            "_model_module_version": "1.5.0",
            "_model_name": "HBoxModel",
            "_view_count": null,
            "_view_module": "@jupyter-widgets/controls",
            "_view_module_version": "1.5.0",
            "_view_name": "HBoxView",
            "box_style": "",
            "children": [
              "IPY_MODEL_2228a548bb9848aea0e0dfbbca781c6b",
              "IPY_MODEL_4a3880398ed84345a8f736b15958a4f3",
              "IPY_MODEL_8bb7dd33a77d4f958c8a2ee31f4f5b7c"
            ],
            "layout": "IPY_MODEL_ac1c4772a2a24df387177f510dac47b9"
          }
        },
        "2228a548bb9848aea0e0dfbbca781c6b": {
          "model_module": "@jupyter-widgets/controls",
          "model_name": "HTMLModel",
          "model_module_version": "1.5.0",
          "state": {
            "_dom_classes": [],
            "_model_module": "@jupyter-widgets/controls",
            "_model_module_version": "1.5.0",
            "_model_name": "HTMLModel",
            "_view_count": null,
            "_view_module": "@jupyter-widgets/controls",
            "_view_module_version": "1.5.0",
            "_view_name": "HTMLView",
            "description": "",
            "description_tooltip": null,
            "layout": "IPY_MODEL_329f023fb793409cbf9a75c138d62b4c",
            "placeholder": "​",
            "style": "IPY_MODEL_7c52fd22752c421693997a6e89b5357c",
            "value": "Loading checkpoint shards: 100%"
          }
        },
        "4a3880398ed84345a8f736b15958a4f3": {
          "model_module": "@jupyter-widgets/controls",
          "model_name": "FloatProgressModel",
          "model_module_version": "1.5.0",
          "state": {
            "_dom_classes": [],
            "_model_module": "@jupyter-widgets/controls",
            "_model_module_version": "1.5.0",
            "_model_name": "FloatProgressModel",
            "_view_count": null,
            "_view_module": "@jupyter-widgets/controls",
            "_view_module_version": "1.5.0",
            "_view_name": "ProgressView",
            "bar_style": "success",
            "description": "",
            "description_tooltip": null,
            "layout": "IPY_MODEL_3f93e56ab8f34ae8a3066f354c9b01ec",
            "max": 3,
            "min": 0,
            "orientation": "horizontal",
            "style": "IPY_MODEL_c4fe9b9a705b4d9cae866fcfcc50e44c",
            "value": 3
          }
        },
        "8bb7dd33a77d4f958c8a2ee31f4f5b7c": {
          "model_module": "@jupyter-widgets/controls",
          "model_name": "HTMLModel",
          "model_module_version": "1.5.0",
          "state": {
            "_dom_classes": [],
            "_model_module": "@jupyter-widgets/controls",
            "_model_module_version": "1.5.0",
            "_model_name": "HTMLModel",
            "_view_count": null,
            "_view_module": "@jupyter-widgets/controls",
            "_view_module_version": "1.5.0",
            "_view_name": "HTMLView",
            "description": "",
            "description_tooltip": null,
            "layout": "IPY_MODEL_f1e51e20ccc947f99c730400df68ff6e",
            "placeholder": "​",
            "style": "IPY_MODEL_4e96179a8f3847f2922417ea37b3eb04",
            "value": " 3/3 [00:03&lt;00:00,  1.08s/it]"
          }
        },
        "ac1c4772a2a24df387177f510dac47b9": {
          "model_module": "@jupyter-widgets/base",
          "model_name": "LayoutModel",
          "model_module_version": "1.2.0",
          "state": {
            "_model_module": "@jupyter-widgets/base",
            "_model_module_version": "1.2.0",
            "_model_name": "LayoutModel",
            "_view_count": null,
            "_view_module": "@jupyter-widgets/base",
            "_view_module_version": "1.2.0",
            "_view_name": "LayoutView",
            "align_content": null,
            "align_items": null,
            "align_self": null,
            "border": null,
            "bottom": null,
            "display": null,
            "flex": null,
            "flex_flow": null,
            "grid_area": null,
            "grid_auto_columns": null,
            "grid_auto_flow": null,
            "grid_auto_rows": null,
            "grid_column": null,
            "grid_gap": null,
            "grid_row": null,
            "grid_template_areas": null,
            "grid_template_columns": null,
            "grid_template_rows": null,
            "height": null,
            "justify_content": null,
            "justify_items": null,
            "left": null,
            "margin": null,
            "max_height": null,
            "max_width": null,
            "min_height": null,
            "min_width": null,
            "object_fit": null,
            "object_position": null,
            "order": null,
            "overflow": null,
            "overflow_x": null,
            "overflow_y": null,
            "padding": null,
            "right": null,
            "top": null,
            "visibility": null,
            "width": null
          }
        },
        "329f023fb793409cbf9a75c138d62b4c": {
          "model_module": "@jupyter-widgets/base",
          "model_name": "LayoutModel",
          "model_module_version": "1.2.0",
          "state": {
            "_model_module": "@jupyter-widgets/base",
            "_model_module_version": "1.2.0",
            "_model_name": "LayoutModel",
            "_view_count": null,
            "_view_module": "@jupyter-widgets/base",
            "_view_module_version": "1.2.0",
            "_view_name": "LayoutView",
            "align_content": null,
            "align_items": null,
            "align_self": null,
            "border": null,
            "bottom": null,
            "display": null,
            "flex": null,
            "flex_flow": null,
            "grid_area": null,
            "grid_auto_columns": null,
            "grid_auto_flow": null,
            "grid_auto_rows": null,
            "grid_column": null,
            "grid_gap": null,
            "grid_row": null,
            "grid_template_areas": null,
            "grid_template_columns": null,
            "grid_template_rows": null,
            "height": null,
            "justify_content": null,
            "justify_items": null,
            "left": null,
            "margin": null,
            "max_height": null,
            "max_width": null,
            "min_height": null,
            "min_width": null,
            "object_fit": null,
            "object_position": null,
            "order": null,
            "overflow": null,
            "overflow_x": null,
            "overflow_y": null,
            "padding": null,
            "right": null,
            "top": null,
            "visibility": null,
            "width": null
          }
        },
        "7c52fd22752c421693997a6e89b5357c": {
          "model_module": "@jupyter-widgets/controls",
          "model_name": "DescriptionStyleModel",
          "model_module_version": "1.5.0",
          "state": {
            "_model_module": "@jupyter-widgets/controls",
            "_model_module_version": "1.5.0",
            "_model_name": "DescriptionStyleModel",
            "_view_count": null,
            "_view_module": "@jupyter-widgets/base",
            "_view_module_version": "1.2.0",
            "_view_name": "StyleView",
            "description_width": ""
          }
        },
        "3f93e56ab8f34ae8a3066f354c9b01ec": {
          "model_module": "@jupyter-widgets/base",
          "model_name": "LayoutModel",
          "model_module_version": "1.2.0",
          "state": {
            "_model_module": "@jupyter-widgets/base",
            "_model_module_version": "1.2.0",
            "_model_name": "LayoutModel",
            "_view_count": null,
            "_view_module": "@jupyter-widgets/base",
            "_view_module_version": "1.2.0",
            "_view_name": "LayoutView",
            "align_content": null,
            "align_items": null,
            "align_self": null,
            "border": null,
            "bottom": null,
            "display": null,
            "flex": null,
            "flex_flow": null,
            "grid_area": null,
            "grid_auto_columns": null,
            "grid_auto_flow": null,
            "grid_auto_rows": null,
            "grid_column": null,
            "grid_gap": null,
            "grid_row": null,
            "grid_template_areas": null,
            "grid_template_columns": null,
            "grid_template_rows": null,
            "height": null,
            "justify_content": null,
            "justify_items": null,
            "left": null,
            "margin": null,
            "max_height": null,
            "max_width": null,
            "min_height": null,
            "min_width": null,
            "object_fit": null,
            "object_position": null,
            "order": null,
            "overflow": null,
            "overflow_x": null,
            "overflow_y": null,
            "padding": null,
            "right": null,
            "top": null,
            "visibility": null,
            "width": null
          }
        },
        "c4fe9b9a705b4d9cae866fcfcc50e44c": {
          "model_module": "@jupyter-widgets/controls",
          "model_name": "ProgressStyleModel",
          "model_module_version": "1.5.0",
          "state": {
            "_model_module": "@jupyter-widgets/controls",
            "_model_module_version": "1.5.0",
            "_model_name": "ProgressStyleModel",
            "_view_count": null,
            "_view_module": "@jupyter-widgets/base",
            "_view_module_version": "1.2.0",
            "_view_name": "StyleView",
            "bar_color": null,
            "description_width": ""
          }
        },
        "f1e51e20ccc947f99c730400df68ff6e": {
          "model_module": "@jupyter-widgets/base",
          "model_name": "LayoutModel",
          "model_module_version": "1.2.0",
          "state": {
            "_model_module": "@jupyter-widgets/base",
            "_model_module_version": "1.2.0",
            "_model_name": "LayoutModel",
            "_view_count": null,
            "_view_module": "@jupyter-widgets/base",
            "_view_module_version": "1.2.0",
            "_view_name": "LayoutView",
            "align_content": null,
            "align_items": null,
            "align_self": null,
            "border": null,
            "bottom": null,
            "display": null,
            "flex": null,
            "flex_flow": null,
            "grid_area": null,
            "grid_auto_columns": null,
            "grid_auto_flow": null,
            "grid_auto_rows": null,
            "grid_column": null,
            "grid_gap": null,
            "grid_row": null,
            "grid_template_areas": null,
            "grid_template_columns": null,
            "grid_template_rows": null,
            "height": null,
            "justify_content": null,
            "justify_items": null,
            "left": null,
            "margin": null,
            "max_height": null,
            "max_width": null,
            "min_height": null,
            "min_width": null,
            "object_fit": null,
            "object_position": null,
            "order": null,
            "overflow": null,
            "overflow_x": null,
            "overflow_y": null,
            "padding": null,
            "right": null,
            "top": null,
            "visibility": null,
            "width": null
          }
        },
        "4e96179a8f3847f2922417ea37b3eb04": {
          "model_module": "@jupyter-widgets/controls",
          "model_name": "DescriptionStyleModel",
          "model_module_version": "1.5.0",
          "state": {
            "_model_module": "@jupyter-widgets/controls",
            "_model_module_version": "1.5.0",
            "_model_name": "DescriptionStyleModel",
            "_view_count": null,
            "_view_module": "@jupyter-widgets/base",
            "_view_module_version": "1.2.0",
            "_view_name": "StyleView",
            "description_width": ""
          }
        },
        "bf6886fe81bd412eb7b4f67c3f9936ac": {
          "model_module": "@jupyter-widgets/controls",
          "model_name": "HBoxModel",
          "model_module_version": "1.5.0",
          "state": {
            "_dom_classes": [],
            "_model_module": "@jupyter-widgets/controls",
            "_model_module_version": "1.5.0",
            "_model_name": "HBoxModel",
            "_view_count": null,
            "_view_module": "@jupyter-widgets/controls",
            "_view_module_version": "1.5.0",
            "_view_name": "HBoxView",
            "box_style": "",
            "children": [
              "IPY_MODEL_6ef30a23963d45d2ac52c1fa1d2fd44d",
              "IPY_MODEL_c3eece523a894e08b3517bc28f2d6df4",
              "IPY_MODEL_9fa16fbb4ca84151a419df8318c8ecb6"
            ],
            "layout": "IPY_MODEL_dfa22d36794248b6abd9c8c17555f610"
          }
        },
        "6ef30a23963d45d2ac52c1fa1d2fd44d": {
          "model_module": "@jupyter-widgets/controls",
          "model_name": "HTMLModel",
          "model_module_version": "1.5.0",
          "state": {
            "_dom_classes": [],
            "_model_module": "@jupyter-widgets/controls",
            "_model_module_version": "1.5.0",
            "_model_name": "HTMLModel",
            "_view_count": null,
            "_view_module": "@jupyter-widgets/controls",
            "_view_module_version": "1.5.0",
            "_view_name": "HTMLView",
            "description": "",
            "description_tooltip": null,
            "layout": "IPY_MODEL_80ed66652eca41349d1d38346254876b",
            "placeholder": "​",
            "style": "IPY_MODEL_4c0ad958a658478e9154bd1024d21e5d",
            "value": "Generating cot split: 100%"
          }
        },
        "c3eece523a894e08b3517bc28f2d6df4": {
          "model_module": "@jupyter-widgets/controls",
          "model_name": "FloatProgressModel",
          "model_module_version": "1.5.0",
          "state": {
            "_dom_classes": [],
            "_model_module": "@jupyter-widgets/controls",
            "_model_module_version": "1.5.0",
            "_model_name": "FloatProgressModel",
            "_view_count": null,
            "_view_module": "@jupyter-widgets/controls",
            "_view_module_version": "1.5.0",
            "_view_name": "ProgressView",
            "bar_style": "success",
            "description": "",
            "description_tooltip": null,
            "layout": "IPY_MODEL_8877ae1a77cc4b6db8400d693df8b27e",
            "max": 19252,
            "min": 0,
            "orientation": "horizontal",
            "style": "IPY_MODEL_24eb0faa4d7944aaa89a8a05c05d90ac",
            "value": 19252
          }
        },
        "9fa16fbb4ca84151a419df8318c8ecb6": {
          "model_module": "@jupyter-widgets/controls",
          "model_name": "HTMLModel",
          "model_module_version": "1.5.0",
          "state": {
            "_dom_classes": [],
            "_model_module": "@jupyter-widgets/controls",
            "_model_module_version": "1.5.0",
            "_model_name": "HTMLModel",
            "_view_count": null,
            "_view_module": "@jupyter-widgets/controls",
            "_view_module_version": "1.5.0",
            "_view_name": "HTMLView",
            "description": "",
            "description_tooltip": null,
            "layout": "IPY_MODEL_3e07d35fdb484b1ba988a1514e899d92",
            "placeholder": "​",
            "style": "IPY_MODEL_7ff12c2191864cc69ff940051bb4639d",
            "value": " 19252/19252 [00:00&lt;00:00, 26276.05 examples/s]"
          }
        },
        "dfa22d36794248b6abd9c8c17555f610": {
          "model_module": "@jupyter-widgets/base",
          "model_name": "LayoutModel",
          "model_module_version": "1.2.0",
          "state": {
            "_model_module": "@jupyter-widgets/base",
            "_model_module_version": "1.2.0",
            "_model_name": "LayoutModel",
            "_view_count": null,
            "_view_module": "@jupyter-widgets/base",
            "_view_module_version": "1.2.0",
            "_view_name": "LayoutView",
            "align_content": null,
            "align_items": null,
            "align_self": null,
            "border": null,
            "bottom": null,
            "display": null,
            "flex": null,
            "flex_flow": null,
            "grid_area": null,
            "grid_auto_columns": null,
            "grid_auto_flow": null,
            "grid_auto_rows": null,
            "grid_column": null,
            "grid_gap": null,
            "grid_row": null,
            "grid_template_areas": null,
            "grid_template_columns": null,
            "grid_template_rows": null,
            "height": null,
            "justify_content": null,
            "justify_items": null,
            "left": null,
            "margin": null,
            "max_height": null,
            "max_width": null,
            "min_height": null,
            "min_width": null,
            "object_fit": null,
            "object_position": null,
            "order": null,
            "overflow": null,
            "overflow_x": null,
            "overflow_y": null,
            "padding": null,
            "right": null,
            "top": null,
            "visibility": null,
            "width": null
          }
        },
        "80ed66652eca41349d1d38346254876b": {
          "model_module": "@jupyter-widgets/base",
          "model_name": "LayoutModel",
          "model_module_version": "1.2.0",
          "state": {
            "_model_module": "@jupyter-widgets/base",
            "_model_module_version": "1.2.0",
            "_model_name": "LayoutModel",
            "_view_count": null,
            "_view_module": "@jupyter-widgets/base",
            "_view_module_version": "1.2.0",
            "_view_name": "LayoutView",
            "align_content": null,
            "align_items": null,
            "align_self": null,
            "border": null,
            "bottom": null,
            "display": null,
            "flex": null,
            "flex_flow": null,
            "grid_area": null,
            "grid_auto_columns": null,
            "grid_auto_flow": null,
            "grid_auto_rows": null,
            "grid_column": null,
            "grid_gap": null,
            "grid_row": null,
            "grid_template_areas": null,
            "grid_template_columns": null,
            "grid_template_rows": null,
            "height": null,
            "justify_content": null,
            "justify_items": null,
            "left": null,
            "margin": null,
            "max_height": null,
            "max_width": null,
            "min_height": null,
            "min_width": null,
            "object_fit": null,
            "object_position": null,
            "order": null,
            "overflow": null,
            "overflow_x": null,
            "overflow_y": null,
            "padding": null,
            "right": null,
            "top": null,
            "visibility": null,
            "width": null
          }
        },
        "4c0ad958a658478e9154bd1024d21e5d": {
          "model_module": "@jupyter-widgets/controls",
          "model_name": "DescriptionStyleModel",
          "model_module_version": "1.5.0",
          "state": {
            "_model_module": "@jupyter-widgets/controls",
            "_model_module_version": "1.5.0",
            "_model_name": "DescriptionStyleModel",
            "_view_count": null,
            "_view_module": "@jupyter-widgets/base",
            "_view_module_version": "1.2.0",
            "_view_name": "StyleView",
            "description_width": ""
          }
        },
        "8877ae1a77cc4b6db8400d693df8b27e": {
          "model_module": "@jupyter-widgets/base",
          "model_name": "LayoutModel",
          "model_module_version": "1.2.0",
          "state": {
            "_model_module": "@jupyter-widgets/base",
            "_model_module_version": "1.2.0",
            "_model_name": "LayoutModel",
            "_view_count": null,
            "_view_module": "@jupyter-widgets/base",
            "_view_module_version": "1.2.0",
            "_view_name": "LayoutView",
            "align_content": null,
            "align_items": null,
            "align_self": null,
            "border": null,
            "bottom": null,
            "display": null,
            "flex": null,
            "flex_flow": null,
            "grid_area": null,
            "grid_auto_columns": null,
            "grid_auto_flow": null,
            "grid_auto_rows": null,
            "grid_column": null,
            "grid_gap": null,
            "grid_row": null,
            "grid_template_areas": null,
            "grid_template_columns": null,
            "grid_template_rows": null,
            "height": null,
            "justify_content": null,
            "justify_items": null,
            "left": null,
            "margin": null,
            "max_height": null,
            "max_width": null,
            "min_height": null,
            "min_width": null,
            "object_fit": null,
            "object_position": null,
            "order": null,
            "overflow": null,
            "overflow_x": null,
            "overflow_y": null,
            "padding": null,
            "right": null,
            "top": null,
            "visibility": null,
            "width": null
          }
        },
        "24eb0faa4d7944aaa89a8a05c05d90ac": {
          "model_module": "@jupyter-widgets/controls",
          "model_name": "ProgressStyleModel",
          "model_module_version": "1.5.0",
          "state": {
            "_model_module": "@jupyter-widgets/controls",
            "_model_module_version": "1.5.0",
            "_model_name": "ProgressStyleModel",
            "_view_count": null,
            "_view_module": "@jupyter-widgets/base",
            "_view_module_version": "1.2.0",
            "_view_name": "StyleView",
            "bar_color": null,
            "description_width": ""
          }
        },
        "3e07d35fdb484b1ba988a1514e899d92": {
          "model_module": "@jupyter-widgets/base",
          "model_name": "LayoutModel",
          "model_module_version": "1.2.0",
          "state": {
            "_model_module": "@jupyter-widgets/base",
            "_model_module_version": "1.2.0",
            "_model_name": "LayoutModel",
            "_view_count": null,
            "_view_module": "@jupyter-widgets/base",
            "_view_module_version": "1.2.0",
            "_view_name": "LayoutView",
            "align_content": null,
            "align_items": null,
            "align_self": null,
            "border": null,
            "bottom": null,
            "display": null,
            "flex": null,
            "flex_flow": null,
            "grid_area": null,
            "grid_auto_columns": null,
            "grid_auto_flow": null,
            "grid_auto_rows": null,
            "grid_column": null,
            "grid_gap": null,
            "grid_row": null,
            "grid_template_areas": null,
            "grid_template_columns": null,
            "grid_template_rows": null,
            "height": null,
            "justify_content": null,
            "justify_items": null,
            "left": null,
            "margin": null,
            "max_height": null,
            "max_width": null,
            "min_height": null,
            "min_width": null,
            "object_fit": null,
            "object_position": null,
            "order": null,
            "overflow": null,
            "overflow_x": null,
            "overflow_y": null,
            "padding": null,
            "right": null,
            "top": null,
            "visibility": null,
            "width": null
          }
        },
        "7ff12c2191864cc69ff940051bb4639d": {
          "model_module": "@jupyter-widgets/controls",
          "model_name": "DescriptionStyleModel",
          "model_module_version": "1.5.0",
          "state": {
            "_model_module": "@jupyter-widgets/controls",
            "_model_module_version": "1.5.0",
            "_model_name": "DescriptionStyleModel",
            "_view_count": null,
            "_view_module": "@jupyter-widgets/base",
            "_view_module_version": "1.2.0",
            "_view_name": "StyleView",
            "description_width": ""
          }
        },
        "0472637794e04e5aba12e28eb2e00b4a": {
          "model_module": "@jupyter-widgets/controls",
          "model_name": "HBoxModel",
          "model_module_version": "1.5.0",
          "state": {
            "_dom_classes": [],
            "_model_module": "@jupyter-widgets/controls",
            "_model_module_version": "1.5.0",
            "_model_name": "HBoxModel",
            "_view_count": null,
            "_view_module": "@jupyter-widgets/controls",
            "_view_module_version": "1.5.0",
            "_view_name": "HBoxView",
            "box_style": "",
            "children": [
              "IPY_MODEL_dfbbe10f1d95473cad120423fdf3afa7",
              "IPY_MODEL_c5e8e30b19504bbca6b5d10bb13b06b2",
              "IPY_MODEL_97f3c1eb4e0049828f603fc7185f2188"
            ],
            "layout": "IPY_MODEL_432738fd380b42819af935f74f48754a"
          }
        },
        "dfbbe10f1d95473cad120423fdf3afa7": {
          "model_module": "@jupyter-widgets/controls",
          "model_name": "HTMLModel",
          "model_module_version": "1.5.0",
          "state": {
            "_dom_classes": [],
            "_model_module": "@jupyter-widgets/controls",
            "_model_module_version": "1.5.0",
            "_model_name": "HTMLModel",
            "_view_count": null,
            "_view_module": "@jupyter-widgets/controls",
            "_view_module_version": "1.5.0",
            "_view_name": "HTMLView",
            "description": "",
            "description_tooltip": null,
            "layout": "IPY_MODEL_57d01dcd19cc4f13b79f9a95ef41f88c",
            "placeholder": "​",
            "style": "IPY_MODEL_16238ab15a8e4665ad8b2f3138cedc7a",
            "value": "Generating train split: 100%"
          }
        },
        "c5e8e30b19504bbca6b5d10bb13b06b2": {
          "model_module": "@jupyter-widgets/controls",
          "model_name": "FloatProgressModel",
          "model_module_version": "1.5.0",
          "state": {
            "_dom_classes": [],
            "_model_module": "@jupyter-widgets/controls",
            "_model_module_version": "1.5.0",
            "_model_name": "FloatProgressModel",
            "_view_count": null,
            "_view_module": "@jupyter-widgets/controls",
            "_view_module_version": "1.5.0",
            "_view_name": "ProgressView",
            "bar_style": "success",
            "description": "",
            "description_tooltip": null,
            "layout": "IPY_MODEL_0878815037324f039d01e175ebfebf83",
            "max": 100000,
            "min": 0,
            "orientation": "horizontal",
            "style": "IPY_MODEL_ab445c0c1e2744eeac521967c61a286c",
            "value": 100000
          }
        },
        "97f3c1eb4e0049828f603fc7185f2188": {
          "model_module": "@jupyter-widgets/controls",
          "model_name": "HTMLModel",
          "model_module_version": "1.5.0",
          "state": {
            "_dom_classes": [],
            "_model_module": "@jupyter-widgets/controls",
            "_model_module_version": "1.5.0",
            "_model_name": "HTMLModel",
            "_view_count": null,
            "_view_module": "@jupyter-widgets/controls",
            "_view_module_version": "1.5.0",
            "_view_name": "HTMLView",
            "description": "",
            "description_tooltip": null,
            "layout": "IPY_MODEL_bf79ff403d5d4f83a61fb970d3d1c38f",
            "placeholder": "​",
            "style": "IPY_MODEL_15e0740762ee4e28990f46cabaae3c67",
            "value": " 100000/100000 [00:00&lt;00:00, 137294.84 examples/s]"
          }
        },
        "432738fd380b42819af935f74f48754a": {
          "model_module": "@jupyter-widgets/base",
          "model_name": "LayoutModel",
          "model_module_version": "1.2.0",
          "state": {
            "_model_module": "@jupyter-widgets/base",
            "_model_module_version": "1.2.0",
            "_model_name": "LayoutModel",
            "_view_count": null,
            "_view_module": "@jupyter-widgets/base",
            "_view_module_version": "1.2.0",
            "_view_name": "LayoutView",
            "align_content": null,
            "align_items": null,
            "align_self": null,
            "border": null,
            "bottom": null,
            "display": null,
            "flex": null,
            "flex_flow": null,
            "grid_area": null,
            "grid_auto_columns": null,
            "grid_auto_flow": null,
            "grid_auto_rows": null,
            "grid_column": null,
            "grid_gap": null,
            "grid_row": null,
            "grid_template_areas": null,
            "grid_template_columns": null,
            "grid_template_rows": null,
            "height": null,
            "justify_content": null,
            "justify_items": null,
            "left": null,
            "margin": null,
            "max_height": null,
            "max_width": null,
            "min_height": null,
            "min_width": null,
            "object_fit": null,
            "object_position": null,
            "order": null,
            "overflow": null,
            "overflow_x": null,
            "overflow_y": null,
            "padding": null,
            "right": null,
            "top": null,
            "visibility": null,
            "width": null
          }
        },
        "57d01dcd19cc4f13b79f9a95ef41f88c": {
          "model_module": "@jupyter-widgets/base",
          "model_name": "LayoutModel",
          "model_module_version": "1.2.0",
          "state": {
            "_model_module": "@jupyter-widgets/base",
            "_model_module_version": "1.2.0",
            "_model_name": "LayoutModel",
            "_view_count": null,
            "_view_module": "@jupyter-widgets/base",
            "_view_module_version": "1.2.0",
            "_view_name": "LayoutView",
            "align_content": null,
            "align_items": null,
            "align_self": null,
            "border": null,
            "bottom": null,
            "display": null,
            "flex": null,
            "flex_flow": null,
            "grid_area": null,
            "grid_auto_columns": null,
            "grid_auto_flow": null,
            "grid_auto_rows": null,
            "grid_column": null,
            "grid_gap": null,
            "grid_row": null,
            "grid_template_areas": null,
            "grid_template_columns": null,
            "grid_template_rows": null,
            "height": null,
            "justify_content": null,
            "justify_items": null,
            "left": null,
            "margin": null,
            "max_height": null,
            "max_width": null,
            "min_height": null,
            "min_width": null,
            "object_fit": null,
            "object_position": null,
            "order": null,
            "overflow": null,
            "overflow_x": null,
            "overflow_y": null,
            "padding": null,
            "right": null,
            "top": null,
            "visibility": null,
            "width": null
          }
        },
        "16238ab15a8e4665ad8b2f3138cedc7a": {
          "model_module": "@jupyter-widgets/controls",
          "model_name": "DescriptionStyleModel",
          "model_module_version": "1.5.0",
          "state": {
            "_model_module": "@jupyter-widgets/controls",
            "_model_module_version": "1.5.0",
            "_model_name": "DescriptionStyleModel",
            "_view_count": null,
            "_view_module": "@jupyter-widgets/base",
            "_view_module_version": "1.2.0",
            "_view_name": "StyleView",
            "description_width": ""
          }
        },
        "0878815037324f039d01e175ebfebf83": {
          "model_module": "@jupyter-widgets/base",
          "model_name": "LayoutModel",
          "model_module_version": "1.2.0",
          "state": {
            "_model_module": "@jupyter-widgets/base",
            "_model_module_version": "1.2.0",
            "_model_name": "LayoutModel",
            "_view_count": null,
            "_view_module": "@jupyter-widgets/base",
            "_view_module_version": "1.2.0",
            "_view_name": "LayoutView",
            "align_content": null,
            "align_items": null,
            "align_self": null,
            "border": null,
            "bottom": null,
            "display": null,
            "flex": null,
            "flex_flow": null,
            "grid_area": null,
            "grid_auto_columns": null,
            "grid_auto_flow": null,
            "grid_auto_rows": null,
            "grid_column": null,
            "grid_gap": null,
            "grid_row": null,
            "grid_template_areas": null,
            "grid_template_columns": null,
            "grid_template_rows": null,
            "height": null,
            "justify_content": null,
            "justify_items": null,
            "left": null,
            "margin": null,
            "max_height": null,
            "max_width": null,
            "min_height": null,
            "min_width": null,
            "object_fit": null,
            "object_position": null,
            "order": null,
            "overflow": null,
            "overflow_x": null,
            "overflow_y": null,
            "padding": null,
            "right": null,
            "top": null,
            "visibility": null,
            "width": null
          }
        },
        "ab445c0c1e2744eeac521967c61a286c": {
          "model_module": "@jupyter-widgets/controls",
          "model_name": "ProgressStyleModel",
          "model_module_version": "1.5.0",
          "state": {
            "_model_module": "@jupyter-widgets/controls",
            "_model_module_version": "1.5.0",
            "_model_name": "ProgressStyleModel",
            "_view_count": null,
            "_view_module": "@jupyter-widgets/base",
            "_view_module_version": "1.2.0",
            "_view_name": "StyleView",
            "bar_color": null,
            "description_width": ""
          }
        },
        "bf79ff403d5d4f83a61fb970d3d1c38f": {
          "model_module": "@jupyter-widgets/base",
          "model_name": "LayoutModel",
          "model_module_version": "1.2.0",
          "state": {
            "_model_module": "@jupyter-widgets/base",
            "_model_module_version": "1.2.0",
            "_model_name": "LayoutModel",
            "_view_count": null,
            "_view_module": "@jupyter-widgets/base",
            "_view_module_version": "1.2.0",
            "_view_name": "LayoutView",
            "align_content": null,
            "align_items": null,
            "align_self": null,
            "border": null,
            "bottom": null,
            "display": null,
            "flex": null,
            "flex_flow": null,
            "grid_area": null,
            "grid_auto_columns": null,
            "grid_auto_flow": null,
            "grid_auto_rows": null,
            "grid_column": null,
            "grid_gap": null,
            "grid_row": null,
            "grid_template_areas": null,
            "grid_template_columns": null,
            "grid_template_rows": null,
            "height": null,
            "justify_content": null,
            "justify_items": null,
            "left": null,
            "margin": null,
            "max_height": null,
            "max_width": null,
            "min_height": null,
            "min_width": null,
            "object_fit": null,
            "object_position": null,
            "order": null,
            "overflow": null,
            "overflow_x": null,
            "overflow_y": null,
            "padding": null,
            "right": null,
            "top": null,
            "visibility": null,
            "width": null
          }
        },
        "15e0740762ee4e28990f46cabaae3c67": {
          "model_module": "@jupyter-widgets/controls",
          "model_name": "DescriptionStyleModel",
          "model_module_version": "1.5.0",
          "state": {
            "_model_module": "@jupyter-widgets/controls",
            "_model_module_version": "1.5.0",
            "_model_name": "DescriptionStyleModel",
            "_view_count": null,
            "_view_module": "@jupyter-widgets/base",
            "_view_module_version": "1.2.0",
            "_view_name": "StyleView",
            "description_width": ""
          }
        },
        "0f743df3cef94251ba70735bfe8e1b8c": {
          "model_module": "@jupyter-widgets/controls",
          "model_name": "HBoxModel",
          "model_module_version": "1.5.0",
          "state": {
            "_dom_classes": [],
            "_model_module": "@jupyter-widgets/controls",
            "_model_module_version": "1.5.0",
            "_model_name": "HBoxModel",
            "_view_count": null,
            "_view_module": "@jupyter-widgets/controls",
            "_view_module_version": "1.5.0",
            "_view_name": "HBoxView",
            "box_style": "",
            "children": [
              "IPY_MODEL_6bfdd420212646e49d2ddfc76d018c1f",
              "IPY_MODEL_e6a46f631a2141f0a99195288f911df0",
              "IPY_MODEL_151c98712b0648e5a03a32685ecf31e6"
            ],
            "layout": "IPY_MODEL_bfe8be91fbd74a039272c85810643a9d"
          }
        },
        "6bfdd420212646e49d2ddfc76d018c1f": {
          "model_module": "@jupyter-widgets/controls",
          "model_name": "HTMLModel",
          "model_module_version": "1.5.0",
          "state": {
            "_dom_classes": [],
            "_model_module": "@jupyter-widgets/controls",
            "_model_module_version": "1.5.0",
            "_model_name": "HTMLModel",
            "_view_count": null,
            "_view_module": "@jupyter-widgets/controls",
            "_view_module_version": "1.5.0",
            "_view_name": "HTMLView",
            "description": "",
            "description_tooltip": null,
            "layout": "IPY_MODEL_82f51452d0a542428d2a353d87e333bb",
            "placeholder": "​",
            "style": "IPY_MODEL_425c93c781b54313abcd85ccea943eb7",
            "value": "Map: 100%"
          }
        },
        "e6a46f631a2141f0a99195288f911df0": {
          "model_module": "@jupyter-widgets/controls",
          "model_name": "FloatProgressModel",
          "model_module_version": "1.5.0",
          "state": {
            "_dom_classes": [],
            "_model_module": "@jupyter-widgets/controls",
            "_model_module_version": "1.5.0",
            "_model_name": "FloatProgressModel",
            "_view_count": null,
            "_view_module": "@jupyter-widgets/controls",
            "_view_module_version": "1.5.0",
            "_view_name": "ProgressView",
            "bar_style": "success",
            "description": "",
            "description_tooltip": null,
            "layout": "IPY_MODEL_a0dc3980d1ab44d987e3740b6f1d9152",
            "max": 19252,
            "min": 0,
            "orientation": "horizontal",
            "style": "IPY_MODEL_3ae1fa5dfc43401283150e8353b738f5",
            "value": 19252
          }
        },
        "151c98712b0648e5a03a32685ecf31e6": {
          "model_module": "@jupyter-widgets/controls",
          "model_name": "HTMLModel",
          "model_module_version": "1.5.0",
          "state": {
            "_dom_classes": [],
            "_model_module": "@jupyter-widgets/controls",
            "_model_module_version": "1.5.0",
            "_model_name": "HTMLModel",
            "_view_count": null,
            "_view_module": "@jupyter-widgets/controls",
            "_view_module_version": "1.5.0",
            "_view_name": "HTMLView",
            "description": "",
            "description_tooltip": null,
            "layout": "IPY_MODEL_97c4e066d59e4945ba90bae0d240a01a",
            "placeholder": "​",
            "style": "IPY_MODEL_767f22fca3ed43a2932f4b24f4eb5f85",
            "value": " 19252/19252 [00:01&lt;00:00, 13829.40 examples/s]"
          }
        },
        "bfe8be91fbd74a039272c85810643a9d": {
          "model_module": "@jupyter-widgets/base",
          "model_name": "LayoutModel",
          "model_module_version": "1.2.0",
          "state": {
            "_model_module": "@jupyter-widgets/base",
            "_model_module_version": "1.2.0",
            "_model_name": "LayoutModel",
            "_view_count": null,
            "_view_module": "@jupyter-widgets/base",
            "_view_module_version": "1.2.0",
            "_view_name": "LayoutView",
            "align_content": null,
            "align_items": null,
            "align_self": null,
            "border": null,
            "bottom": null,
            "display": null,
            "flex": null,
            "flex_flow": null,
            "grid_area": null,
            "grid_auto_columns": null,
            "grid_auto_flow": null,
            "grid_auto_rows": null,
            "grid_column": null,
            "grid_gap": null,
            "grid_row": null,
            "grid_template_areas": null,
            "grid_template_columns": null,
            "grid_template_rows": null,
            "height": null,
            "justify_content": null,
            "justify_items": null,
            "left": null,
            "margin": null,
            "max_height": null,
            "max_width": null,
            "min_height": null,
            "min_width": null,
            "object_fit": null,
            "object_position": null,
            "order": null,
            "overflow": null,
            "overflow_x": null,
            "overflow_y": null,
            "padding": null,
            "right": null,
            "top": null,
            "visibility": null,
            "width": null
          }
        },
        "82f51452d0a542428d2a353d87e333bb": {
          "model_module": "@jupyter-widgets/base",
          "model_name": "LayoutModel",
          "model_module_version": "1.2.0",
          "state": {
            "_model_module": "@jupyter-widgets/base",
            "_model_module_version": "1.2.0",
            "_model_name": "LayoutModel",
            "_view_count": null,
            "_view_module": "@jupyter-widgets/base",
            "_view_module_version": "1.2.0",
            "_view_name": "LayoutView",
            "align_content": null,
            "align_items": null,
            "align_self": null,
            "border": null,
            "bottom": null,
            "display": null,
            "flex": null,
            "flex_flow": null,
            "grid_area": null,
            "grid_auto_columns": null,
            "grid_auto_flow": null,
            "grid_auto_rows": null,
            "grid_column": null,
            "grid_gap": null,
            "grid_row": null,
            "grid_template_areas": null,
            "grid_template_columns": null,
            "grid_template_rows": null,
            "height": null,
            "justify_content": null,
            "justify_items": null,
            "left": null,
            "margin": null,
            "max_height": null,
            "max_width": null,
            "min_height": null,
            "min_width": null,
            "object_fit": null,
            "object_position": null,
            "order": null,
            "overflow": null,
            "overflow_x": null,
            "overflow_y": null,
            "padding": null,
            "right": null,
            "top": null,
            "visibility": null,
            "width": null
          }
        },
        "425c93c781b54313abcd85ccea943eb7": {
          "model_module": "@jupyter-widgets/controls",
          "model_name": "DescriptionStyleModel",
          "model_module_version": "1.5.0",
          "state": {
            "_model_module": "@jupyter-widgets/controls",
            "_model_module_version": "1.5.0",
            "_model_name": "DescriptionStyleModel",
            "_view_count": null,
            "_view_module": "@jupyter-widgets/base",
            "_view_module_version": "1.2.0",
            "_view_name": "StyleView",
            "description_width": ""
          }
        },
        "a0dc3980d1ab44d987e3740b6f1d9152": {
          "model_module": "@jupyter-widgets/base",
          "model_name": "LayoutModel",
          "model_module_version": "1.2.0",
          "state": {
            "_model_module": "@jupyter-widgets/base",
            "_model_module_version": "1.2.0",
            "_model_name": "LayoutModel",
            "_view_count": null,
            "_view_module": "@jupyter-widgets/base",
            "_view_module_version": "1.2.0",
            "_view_name": "LayoutView",
            "align_content": null,
            "align_items": null,
            "align_self": null,
            "border": null,
            "bottom": null,
            "display": null,
            "flex": null,
            "flex_flow": null,
            "grid_area": null,
            "grid_auto_columns": null,
            "grid_auto_flow": null,
            "grid_auto_rows": null,
            "grid_column": null,
            "grid_gap": null,
            "grid_row": null,
            "grid_template_areas": null,
            "grid_template_columns": null,
            "grid_template_rows": null,
            "height": null,
            "justify_content": null,
            "justify_items": null,
            "left": null,
            "margin": null,
            "max_height": null,
            "max_width": null,
            "min_height": null,
            "min_width": null,
            "object_fit": null,
            "object_position": null,
            "order": null,
            "overflow": null,
            "overflow_x": null,
            "overflow_y": null,
            "padding": null,
            "right": null,
            "top": null,
            "visibility": null,
            "width": null
          }
        },
        "3ae1fa5dfc43401283150e8353b738f5": {
          "model_module": "@jupyter-widgets/controls",
          "model_name": "ProgressStyleModel",
          "model_module_version": "1.5.0",
          "state": {
            "_model_module": "@jupyter-widgets/controls",
            "_model_module_version": "1.5.0",
            "_model_name": "ProgressStyleModel",
            "_view_count": null,
            "_view_module": "@jupyter-widgets/base",
            "_view_module_version": "1.2.0",
            "_view_name": "StyleView",
            "bar_color": null,
            "description_width": ""
          }
        },
        "97c4e066d59e4945ba90bae0d240a01a": {
          "model_module": "@jupyter-widgets/base",
          "model_name": "LayoutModel",
          "model_module_version": "1.2.0",
          "state": {
            "_model_module": "@jupyter-widgets/base",
            "_model_module_version": "1.2.0",
            "_model_name": "LayoutModel",
            "_view_count": null,
            "_view_module": "@jupyter-widgets/base",
            "_view_module_version": "1.2.0",
            "_view_name": "LayoutView",
            "align_content": null,
            "align_items": null,
            "align_self": null,
            "border": null,
            "bottom": null,
            "display": null,
            "flex": null,
            "flex_flow": null,
            "grid_area": null,
            "grid_auto_columns": null,
            "grid_auto_flow": null,
            "grid_auto_rows": null,
            "grid_column": null,
            "grid_gap": null,
            "grid_row": null,
            "grid_template_areas": null,
            "grid_template_columns": null,
            "grid_template_rows": null,
            "height": null,
            "justify_content": null,
            "justify_items": null,
            "left": null,
            "margin": null,
            "max_height": null,
            "max_width": null,
            "min_height": null,
            "min_width": null,
            "object_fit": null,
            "object_position": null,
            "order": null,
            "overflow": null,
            "overflow_x": null,
            "overflow_y": null,
            "padding": null,
            "right": null,
            "top": null,
            "visibility": null,
            "width": null
          }
        },
        "767f22fca3ed43a2932f4b24f4eb5f85": {
          "model_module": "@jupyter-widgets/controls",
          "model_name": "DescriptionStyleModel",
          "model_module_version": "1.5.0",
          "state": {
            "_model_module": "@jupyter-widgets/controls",
            "_model_module_version": "1.5.0",
            "_model_name": "DescriptionStyleModel",
            "_view_count": null,
            "_view_module": "@jupyter-widgets/base",
            "_view_module_version": "1.2.0",
            "_view_name": "StyleView",
            "description_width": ""
          }
        },
        "e288da716130428ca3d2e3b81157fa2f": {
          "model_module": "@jupyter-widgets/controls",
          "model_name": "HBoxModel",
          "model_module_version": "1.5.0",
          "state": {
            "_dom_classes": [],
            "_model_module": "@jupyter-widgets/controls",
            "_model_module_version": "1.5.0",
            "_model_name": "HBoxModel",
            "_view_count": null,
            "_view_module": "@jupyter-widgets/controls",
            "_view_module_version": "1.5.0",
            "_view_name": "HBoxView",
            "box_style": "",
            "children": [
              "IPY_MODEL_ab43f6201e07447ea5d923b0f0c1d60b",
              "IPY_MODEL_923e57eb73b04278a9d6d22dfac571da",
              "IPY_MODEL_92d4e7ca3b994253a8ca0bf87de4984e"
            ],
            "layout": "IPY_MODEL_08910361067540918f4cb82181108918"
          }
        },
        "ab43f6201e07447ea5d923b0f0c1d60b": {
          "model_module": "@jupyter-widgets/controls",
          "model_name": "HTMLModel",
          "model_module_version": "1.5.0",
          "state": {
            "_dom_classes": [],
            "_model_module": "@jupyter-widgets/controls",
            "_model_module_version": "1.5.0",
            "_model_name": "HTMLModel",
            "_view_count": null,
            "_view_module": "@jupyter-widgets/controls",
            "_view_module_version": "1.5.0",
            "_view_name": "HTMLView",
            "description": "",
            "description_tooltip": null,
            "layout": "IPY_MODEL_6eb62ad360204d6081c4122920a2eafc",
            "placeholder": "​",
            "style": "IPY_MODEL_7d42c76653c248f09a62af23790b575e",
            "value": "Unsloth: Standardizing formats (num_proc=12): 100%"
          }
        },
        "923e57eb73b04278a9d6d22dfac571da": {
          "model_module": "@jupyter-widgets/controls",
          "model_name": "FloatProgressModel",
          "model_module_version": "1.5.0",
          "state": {
            "_dom_classes": [],
            "_model_module": "@jupyter-widgets/controls",
            "_model_module_version": "1.5.0",
            "_model_name": "FloatProgressModel",
            "_view_count": null,
            "_view_module": "@jupyter-widgets/controls",
            "_view_module_version": "1.5.0",
            "_view_name": "ProgressView",
            "bar_style": "success",
            "description": "",
            "description_tooltip": null,
            "layout": "IPY_MODEL_d5efc463a8bd4f1e828fd77ba2e5f5b0",
            "max": 100000,
            "min": 0,
            "orientation": "horizontal",
            "style": "IPY_MODEL_bf459f31d8324480a3e6b4c921773d72",
            "value": 100000
          }
        },
        "92d4e7ca3b994253a8ca0bf87de4984e": {
          "model_module": "@jupyter-widgets/controls",
          "model_name": "HTMLModel",
          "model_module_version": "1.5.0",
          "state": {
            "_dom_classes": [],
            "_model_module": "@jupyter-widgets/controls",
            "_model_module_version": "1.5.0",
            "_model_name": "HTMLModel",
            "_view_count": null,
            "_view_module": "@jupyter-widgets/controls",
            "_view_module_version": "1.5.0",
            "_view_name": "HTMLView",
            "description": "",
            "description_tooltip": null,
            "layout": "IPY_MODEL_ab084f3da10b461697cebe6d6561b91f",
            "placeholder": "​",
            "style": "IPY_MODEL_977b86014b0241f5b0bebbf6cfcebdb3",
            "value": " 100000/100000 [00:01&lt;00:00, 128117.66 examples/s]"
          }
        },
        "08910361067540918f4cb82181108918": {
          "model_module": "@jupyter-widgets/base",
          "model_name": "LayoutModel",
          "model_module_version": "1.2.0",
          "state": {
            "_model_module": "@jupyter-widgets/base",
            "_model_module_version": "1.2.0",
            "_model_name": "LayoutModel",
            "_view_count": null,
            "_view_module": "@jupyter-widgets/base",
            "_view_module_version": "1.2.0",
            "_view_name": "LayoutView",
            "align_content": null,
            "align_items": null,
            "align_self": null,
            "border": null,
            "bottom": null,
            "display": null,
            "flex": null,
            "flex_flow": null,
            "grid_area": null,
            "grid_auto_columns": null,
            "grid_auto_flow": null,
            "grid_auto_rows": null,
            "grid_column": null,
            "grid_gap": null,
            "grid_row": null,
            "grid_template_areas": null,
            "grid_template_columns": null,
            "grid_template_rows": null,
            "height": null,
            "justify_content": null,
            "justify_items": null,
            "left": null,
            "margin": null,
            "max_height": null,
            "max_width": null,
            "min_height": null,
            "min_width": null,
            "object_fit": null,
            "object_position": null,
            "order": null,
            "overflow": null,
            "overflow_x": null,
            "overflow_y": null,
            "padding": null,
            "right": null,
            "top": null,
            "visibility": null,
            "width": null
          }
        },
        "6eb62ad360204d6081c4122920a2eafc": {
          "model_module": "@jupyter-widgets/base",
          "model_name": "LayoutModel",
          "model_module_version": "1.2.0",
          "state": {
            "_model_module": "@jupyter-widgets/base",
            "_model_module_version": "1.2.0",
            "_model_name": "LayoutModel",
            "_view_count": null,
            "_view_module": "@jupyter-widgets/base",
            "_view_module_version": "1.2.0",
            "_view_name": "LayoutView",
            "align_content": null,
            "align_items": null,
            "align_self": null,
            "border": null,
            "bottom": null,
            "display": null,
            "flex": null,
            "flex_flow": null,
            "grid_area": null,
            "grid_auto_columns": null,
            "grid_auto_flow": null,
            "grid_auto_rows": null,
            "grid_column": null,
            "grid_gap": null,
            "grid_row": null,
            "grid_template_areas": null,
            "grid_template_columns": null,
            "grid_template_rows": null,
            "height": null,
            "justify_content": null,
            "justify_items": null,
            "left": null,
            "margin": null,
            "max_height": null,
            "max_width": null,
            "min_height": null,
            "min_width": null,
            "object_fit": null,
            "object_position": null,
            "order": null,
            "overflow": null,
            "overflow_x": null,
            "overflow_y": null,
            "padding": null,
            "right": null,
            "top": null,
            "visibility": null,
            "width": null
          }
        },
        "7d42c76653c248f09a62af23790b575e": {
          "model_module": "@jupyter-widgets/controls",
          "model_name": "DescriptionStyleModel",
          "model_module_version": "1.5.0",
          "state": {
            "_model_module": "@jupyter-widgets/controls",
            "_model_module_version": "1.5.0",
            "_model_name": "DescriptionStyleModel",
            "_view_count": null,
            "_view_module": "@jupyter-widgets/base",
            "_view_module_version": "1.2.0",
            "_view_name": "StyleView",
            "description_width": ""
          }
        },
        "d5efc463a8bd4f1e828fd77ba2e5f5b0": {
          "model_module": "@jupyter-widgets/base",
          "model_name": "LayoutModel",
          "model_module_version": "1.2.0",
          "state": {
            "_model_module": "@jupyter-widgets/base",
            "_model_module_version": "1.2.0",
            "_model_name": "LayoutModel",
            "_view_count": null,
            "_view_module": "@jupyter-widgets/base",
            "_view_module_version": "1.2.0",
            "_view_name": "LayoutView",
            "align_content": null,
            "align_items": null,
            "align_self": null,
            "border": null,
            "bottom": null,
            "display": null,
            "flex": null,
            "flex_flow": null,
            "grid_area": null,
            "grid_auto_columns": null,
            "grid_auto_flow": null,
            "grid_auto_rows": null,
            "grid_column": null,
            "grid_gap": null,
            "grid_row": null,
            "grid_template_areas": null,
            "grid_template_columns": null,
            "grid_template_rows": null,
            "height": null,
            "justify_content": null,
            "justify_items": null,
            "left": null,
            "margin": null,
            "max_height": null,
            "max_width": null,
            "min_height": null,
            "min_width": null,
            "object_fit": null,
            "object_position": null,
            "order": null,
            "overflow": null,
            "overflow_x": null,
            "overflow_y": null,
            "padding": null,
            "right": null,
            "top": null,
            "visibility": null,
            "width": null
          }
        },
        "bf459f31d8324480a3e6b4c921773d72": {
          "model_module": "@jupyter-widgets/controls",
          "model_name": "ProgressStyleModel",
          "model_module_version": "1.5.0",
          "state": {
            "_model_module": "@jupyter-widgets/controls",
            "_model_module_version": "1.5.0",
            "_model_name": "ProgressStyleModel",
            "_view_count": null,
            "_view_module": "@jupyter-widgets/base",
            "_view_module_version": "1.2.0",
            "_view_name": "StyleView",
            "bar_color": null,
            "description_width": ""
          }
        },
        "ab084f3da10b461697cebe6d6561b91f": {
          "model_module": "@jupyter-widgets/base",
          "model_name": "LayoutModel",
          "model_module_version": "1.2.0",
          "state": {
            "_model_module": "@jupyter-widgets/base",
            "_model_module_version": "1.2.0",
            "_model_name": "LayoutModel",
            "_view_count": null,
            "_view_module": "@jupyter-widgets/base",
            "_view_module_version": "1.2.0",
            "_view_name": "LayoutView",
            "align_content": null,
            "align_items": null,
            "align_self": null,
            "border": null,
            "bottom": null,
            "display": null,
            "flex": null,
            "flex_flow": null,
            "grid_area": null,
            "grid_auto_columns": null,
            "grid_auto_flow": null,
            "grid_auto_rows": null,
            "grid_column": null,
            "grid_gap": null,
            "grid_row": null,
            "grid_template_areas": null,
            "grid_template_columns": null,
            "grid_template_rows": null,
            "height": null,
            "justify_content": null,
            "justify_items": null,
            "left": null,
            "margin": null,
            "max_height": null,
            "max_width": null,
            "min_height": null,
            "min_width": null,
            "object_fit": null,
            "object_position": null,
            "order": null,
            "overflow": null,
            "overflow_x": null,
            "overflow_y": null,
            "padding": null,
            "right": null,
            "top": null,
            "visibility": null,
            "width": null
          }
        },
        "977b86014b0241f5b0bebbf6cfcebdb3": {
          "model_module": "@jupyter-widgets/controls",
          "model_name": "DescriptionStyleModel",
          "model_module_version": "1.5.0",
          "state": {
            "_model_module": "@jupyter-widgets/controls",
            "_model_module_version": "1.5.0",
            "_model_name": "DescriptionStyleModel",
            "_view_count": null,
            "_view_module": "@jupyter-widgets/base",
            "_view_module_version": "1.2.0",
            "_view_name": "StyleView",
            "description_width": ""
          }
        },
        "9d6bcc8159a9472c85d1a2e5080222af": {
          "model_module": "@jupyter-widgets/controls",
          "model_name": "HBoxModel",
          "model_module_version": "1.5.0",
          "state": {
            "_dom_classes": [],
            "_model_module": "@jupyter-widgets/controls",
            "_model_module_version": "1.5.0",
            "_model_name": "HBoxModel",
            "_view_count": null,
            "_view_module": "@jupyter-widgets/controls",
            "_view_module_version": "1.5.0",
            "_view_name": "HBoxView",
            "box_style": "",
            "children": [
              "IPY_MODEL_96a6a682dec14e3a9d6a685a9b770fa5",
              "IPY_MODEL_9fc36426dec048c399eeb6905ab4c244",
              "IPY_MODEL_3ad6b9193d94443496d7f47441f49fbe"
            ],
            "layout": "IPY_MODEL_6399e0fdb32a40eb92210b5d4433709b"
          }
        },
        "96a6a682dec14e3a9d6a685a9b770fa5": {
          "model_module": "@jupyter-widgets/controls",
          "model_name": "HTMLModel",
          "model_module_version": "1.5.0",
          "state": {
            "_dom_classes": [],
            "_model_module": "@jupyter-widgets/controls",
            "_model_module_version": "1.5.0",
            "_model_name": "HTMLModel",
            "_view_count": null,
            "_view_module": "@jupyter-widgets/controls",
            "_view_module_version": "1.5.0",
            "_view_name": "HTMLView",
            "description": "",
            "description_tooltip": null,
            "layout": "IPY_MODEL_1acb568241c8425cb3b9b299e0439ca4",
            "placeholder": "​",
            "style": "IPY_MODEL_18906743fa7d451abb0ba796cc564b6c",
            "value": "Unsloth: Tokenizing [&quot;text&quot;] (num_proc=12): 100%"
          }
        },
        "9fc36426dec048c399eeb6905ab4c244": {
          "model_module": "@jupyter-widgets/controls",
          "model_name": "FloatProgressModel",
          "model_module_version": "1.5.0",
          "state": {
            "_dom_classes": [],
            "_model_module": "@jupyter-widgets/controls",
            "_model_module_version": "1.5.0",
            "_model_name": "FloatProgressModel",
            "_view_count": null,
            "_view_module": "@jupyter-widgets/controls",
            "_view_module_version": "1.5.0",
            "_view_name": "ProgressView",
            "bar_style": "success",
            "description": "",
            "description_tooltip": null,
            "layout": "IPY_MODEL_8d9fc3e0f5664196917ae3060bd4a0a1",
            "max": 24065,
            "min": 0,
            "orientation": "horizontal",
            "style": "IPY_MODEL_445c713a6aa84521985db0a79d3b02b0",
            "value": 24065
          }
        },
        "3ad6b9193d94443496d7f47441f49fbe": {
          "model_module": "@jupyter-widgets/controls",
          "model_name": "HTMLModel",
          "model_module_version": "1.5.0",
          "state": {
            "_dom_classes": [],
            "_model_module": "@jupyter-widgets/controls",
            "_model_module_version": "1.5.0",
            "_model_name": "HTMLModel",
            "_view_count": null,
            "_view_module": "@jupyter-widgets/controls",
            "_view_module_version": "1.5.0",
            "_view_name": "HTMLView",
            "description": "",
            "description_tooltip": null,
            "layout": "IPY_MODEL_2ad245ebffb1425694858a2e16a94dae",
            "placeholder": "​",
            "style": "IPY_MODEL_1e0b678a5c974068856a2e2db4ad6bb7",
            "value": " 24065/24065 [00:51&lt;00:00, 624.70 examples/s]"
          }
        },
        "6399e0fdb32a40eb92210b5d4433709b": {
          "model_module": "@jupyter-widgets/base",
          "model_name": "LayoutModel",
          "model_module_version": "1.2.0",
          "state": {
            "_model_module": "@jupyter-widgets/base",
            "_model_module_version": "1.2.0",
            "_model_name": "LayoutModel",
            "_view_count": null,
            "_view_module": "@jupyter-widgets/base",
            "_view_module_version": "1.2.0",
            "_view_name": "LayoutView",
            "align_content": null,
            "align_items": null,
            "align_self": null,
            "border": null,
            "bottom": null,
            "display": null,
            "flex": null,
            "flex_flow": null,
            "grid_area": null,
            "grid_auto_columns": null,
            "grid_auto_flow": null,
            "grid_auto_rows": null,
            "grid_column": null,
            "grid_gap": null,
            "grid_row": null,
            "grid_template_areas": null,
            "grid_template_columns": null,
            "grid_template_rows": null,
            "height": null,
            "justify_content": null,
            "justify_items": null,
            "left": null,
            "margin": null,
            "max_height": null,
            "max_width": null,
            "min_height": null,
            "min_width": null,
            "object_fit": null,
            "object_position": null,
            "order": null,
            "overflow": null,
            "overflow_x": null,
            "overflow_y": null,
            "padding": null,
            "right": null,
            "top": null,
            "visibility": null,
            "width": null
          }
        },
        "1acb568241c8425cb3b9b299e0439ca4": {
          "model_module": "@jupyter-widgets/base",
          "model_name": "LayoutModel",
          "model_module_version": "1.2.0",
          "state": {
            "_model_module": "@jupyter-widgets/base",
            "_model_module_version": "1.2.0",
            "_model_name": "LayoutModel",
            "_view_count": null,
            "_view_module": "@jupyter-widgets/base",
            "_view_module_version": "1.2.0",
            "_view_name": "LayoutView",
            "align_content": null,
            "align_items": null,
            "align_self": null,
            "border": null,
            "bottom": null,
            "display": null,
            "flex": null,
            "flex_flow": null,
            "grid_area": null,
            "grid_auto_columns": null,
            "grid_auto_flow": null,
            "grid_auto_rows": null,
            "grid_column": null,
            "grid_gap": null,
            "grid_row": null,
            "grid_template_areas": null,
            "grid_template_columns": null,
            "grid_template_rows": null,
            "height": null,
            "justify_content": null,
            "justify_items": null,
            "left": null,
            "margin": null,
            "max_height": null,
            "max_width": null,
            "min_height": null,
            "min_width": null,
            "object_fit": null,
            "object_position": null,
            "order": null,
            "overflow": null,
            "overflow_x": null,
            "overflow_y": null,
            "padding": null,
            "right": null,
            "top": null,
            "visibility": null,
            "width": null
          }
        },
        "18906743fa7d451abb0ba796cc564b6c": {
          "model_module": "@jupyter-widgets/controls",
          "model_name": "DescriptionStyleModel",
          "model_module_version": "1.5.0",
          "state": {
            "_model_module": "@jupyter-widgets/controls",
            "_model_module_version": "1.5.0",
            "_model_name": "DescriptionStyleModel",
            "_view_count": null,
            "_view_module": "@jupyter-widgets/base",
            "_view_module_version": "1.2.0",
            "_view_name": "StyleView",
            "description_width": ""
          }
        },
        "8d9fc3e0f5664196917ae3060bd4a0a1": {
          "model_module": "@jupyter-widgets/base",
          "model_name": "LayoutModel",
          "model_module_version": "1.2.0",
          "state": {
            "_model_module": "@jupyter-widgets/base",
            "_model_module_version": "1.2.0",
            "_model_name": "LayoutModel",
            "_view_count": null,
            "_view_module": "@jupyter-widgets/base",
            "_view_module_version": "1.2.0",
            "_view_name": "LayoutView",
            "align_content": null,
            "align_items": null,
            "align_self": null,
            "border": null,
            "bottom": null,
            "display": null,
            "flex": null,
            "flex_flow": null,
            "grid_area": null,
            "grid_auto_columns": null,
            "grid_auto_flow": null,
            "grid_auto_rows": null,
            "grid_column": null,
            "grid_gap": null,
            "grid_row": null,
            "grid_template_areas": null,
            "grid_template_columns": null,
            "grid_template_rows": null,
            "height": null,
            "justify_content": null,
            "justify_items": null,
            "left": null,
            "margin": null,
            "max_height": null,
            "max_width": null,
            "min_height": null,
            "min_width": null,
            "object_fit": null,
            "object_position": null,
            "order": null,
            "overflow": null,
            "overflow_x": null,
            "overflow_y": null,
            "padding": null,
            "right": null,
            "top": null,
            "visibility": null,
            "width": null
          }
        },
        "445c713a6aa84521985db0a79d3b02b0": {
          "model_module": "@jupyter-widgets/controls",
          "model_name": "ProgressStyleModel",
          "model_module_version": "1.5.0",
          "state": {
            "_model_module": "@jupyter-widgets/controls",
            "_model_module_version": "1.5.0",
            "_model_name": "ProgressStyleModel",
            "_view_count": null,
            "_view_module": "@jupyter-widgets/base",
            "_view_module_version": "1.2.0",
            "_view_name": "StyleView",
            "bar_color": null,
            "description_width": ""
          }
        },
        "2ad245ebffb1425694858a2e16a94dae": {
          "model_module": "@jupyter-widgets/base",
          "model_name": "LayoutModel",
          "model_module_version": "1.2.0",
          "state": {
            "_model_module": "@jupyter-widgets/base",
            "_model_module_version": "1.2.0",
            "_model_name": "LayoutModel",
            "_view_count": null,
            "_view_module": "@jupyter-widgets/base",
            "_view_module_version": "1.2.0",
            "_view_name": "LayoutView",
            "align_content": null,
            "align_items": null,
            "align_self": null,
            "border": null,
            "bottom": null,
            "display": null,
            "flex": null,
            "flex_flow": null,
            "grid_area": null,
            "grid_auto_columns": null,
            "grid_auto_flow": null,
            "grid_auto_rows": null,
            "grid_column": null,
            "grid_gap": null,
            "grid_row": null,
            "grid_template_areas": null,
            "grid_template_columns": null,
            "grid_template_rows": null,
            "height": null,
            "justify_content": null,
            "justify_items": null,
            "left": null,
            "margin": null,
            "max_height": null,
            "max_width": null,
            "min_height": null,
            "min_width": null,
            "object_fit": null,
            "object_position": null,
            "order": null,
            "overflow": null,
            "overflow_x": null,
            "overflow_y": null,
            "padding": null,
            "right": null,
            "top": null,
            "visibility": null,
            "width": null
          }
        },
        "1e0b678a5c974068856a2e2db4ad6bb7": {
          "model_module": "@jupyter-widgets/controls",
          "model_name": "DescriptionStyleModel",
          "model_module_version": "1.5.0",
          "state": {
            "_model_module": "@jupyter-widgets/controls",
            "_model_module_version": "1.5.0",
            "_model_name": "DescriptionStyleModel",
            "_view_count": null,
            "_view_module": "@jupyter-widgets/base",
            "_view_module_version": "1.2.0",
            "_view_name": "StyleView",
            "description_width": ""
          }
        },
        "2346d3ebbb3a4e98a20efdf4bb5d2877": {
          "model_module": "@jupyter-widgets/controls",
          "model_name": "HBoxModel",
          "model_module_version": "1.5.0",
          "state": {
            "_dom_classes": [],
            "_model_module": "@jupyter-widgets/controls",
            "_model_module_version": "1.5.0",
            "_model_name": "HBoxModel",
            "_view_count": null,
            "_view_module": "@jupyter-widgets/controls",
            "_view_module_version": "1.5.0",
            "_view_name": "HBoxView",
            "box_style": "",
            "children": [
              "IPY_MODEL_2287576e28534b5a8ddd1ab78962992a",
              "IPY_MODEL_9fc11e2f05524bdbbb8952baecaf930d",
              "IPY_MODEL_a57448c04d854a698af3b37bb0a283e4"
            ],
            "layout": "IPY_MODEL_d97f9c4bf2f8407e992f21be643d0a9f"
          }
        },
        "2287576e28534b5a8ddd1ab78962992a": {
          "model_module": "@jupyter-widgets/controls",
          "model_name": "HTMLModel",
          "model_module_version": "1.5.0",
          "state": {
            "_dom_classes": [],
            "_model_module": "@jupyter-widgets/controls",
            "_model_module_version": "1.5.0",
            "_model_name": "HTMLModel",
            "_view_count": null,
            "_view_module": "@jupyter-widgets/controls",
            "_view_module_version": "1.5.0",
            "_view_name": "HTMLView",
            "description": "",
            "description_tooltip": null,
            "layout": "IPY_MODEL_488b0417543d4f089b149f07c0a00488",
            "placeholder": "​",
            "style": "IPY_MODEL_d7bce00677d94f9ba4c697207cfdfc89",
            "value": "Loading checkpoint shards: 100%"
          }
        },
        "9fc11e2f05524bdbbb8952baecaf930d": {
          "model_module": "@jupyter-widgets/controls",
          "model_name": "FloatProgressModel",
          "model_module_version": "1.5.0",
          "state": {
            "_dom_classes": [],
            "_model_module": "@jupyter-widgets/controls",
            "_model_module_version": "1.5.0",
            "_model_name": "FloatProgressModel",
            "_view_count": null,
            "_view_module": "@jupyter-widgets/controls",
            "_view_module_version": "1.5.0",
            "_view_name": "ProgressView",
            "bar_style": "success",
            "description": "",
            "description_tooltip": null,
            "layout": "IPY_MODEL_bc9107cfc1c14aaeac2c3acc6d8a0dfe",
            "max": 3,
            "min": 0,
            "orientation": "horizontal",
            "style": "IPY_MODEL_5b4f9a0d39c54c1a9c69664006280158",
            "value": 3
          }
        },
        "a57448c04d854a698af3b37bb0a283e4": {
          "model_module": "@jupyter-widgets/controls",
          "model_name": "HTMLModel",
          "model_module_version": "1.5.0",
          "state": {
            "_dom_classes": [],
            "_model_module": "@jupyter-widgets/controls",
            "_model_module_version": "1.5.0",
            "_model_name": "HTMLModel",
            "_view_count": null,
            "_view_module": "@jupyter-widgets/controls",
            "_view_module_version": "1.5.0",
            "_view_name": "HTMLView",
            "description": "",
            "description_tooltip": null,
            "layout": "IPY_MODEL_69ac141a05894f7285a0d6cec0edb90e",
            "placeholder": "​",
            "style": "IPY_MODEL_f5cc0f866f674dc98455e4f2d172af26",
            "value": " 3/3 [00:04&lt;00:00,  1.18s/it]"
          }
        },
        "d97f9c4bf2f8407e992f21be643d0a9f": {
          "model_module": "@jupyter-widgets/base",
          "model_name": "LayoutModel",
          "model_module_version": "1.2.0",
          "state": {
            "_model_module": "@jupyter-widgets/base",
            "_model_module_version": "1.2.0",
            "_model_name": "LayoutModel",
            "_view_count": null,
            "_view_module": "@jupyter-widgets/base",
            "_view_module_version": "1.2.0",
            "_view_name": "LayoutView",
            "align_content": null,
            "align_items": null,
            "align_self": null,
            "border": null,
            "bottom": null,
            "display": null,
            "flex": null,
            "flex_flow": null,
            "grid_area": null,
            "grid_auto_columns": null,
            "grid_auto_flow": null,
            "grid_auto_rows": null,
            "grid_column": null,
            "grid_gap": null,
            "grid_row": null,
            "grid_template_areas": null,
            "grid_template_columns": null,
            "grid_template_rows": null,
            "height": null,
            "justify_content": null,
            "justify_items": null,
            "left": null,
            "margin": null,
            "max_height": null,
            "max_width": null,
            "min_height": null,
            "min_width": null,
            "object_fit": null,
            "object_position": null,
            "order": null,
            "overflow": null,
            "overflow_x": null,
            "overflow_y": null,
            "padding": null,
            "right": null,
            "top": null,
            "visibility": null,
            "width": null
          }
        },
        "488b0417543d4f089b149f07c0a00488": {
          "model_module": "@jupyter-widgets/base",
          "model_name": "LayoutModel",
          "model_module_version": "1.2.0",
          "state": {
            "_model_module": "@jupyter-widgets/base",
            "_model_module_version": "1.2.0",
            "_model_name": "LayoutModel",
            "_view_count": null,
            "_view_module": "@jupyter-widgets/base",
            "_view_module_version": "1.2.0",
            "_view_name": "LayoutView",
            "align_content": null,
            "align_items": null,
            "align_self": null,
            "border": null,
            "bottom": null,
            "display": null,
            "flex": null,
            "flex_flow": null,
            "grid_area": null,
            "grid_auto_columns": null,
            "grid_auto_flow": null,
            "grid_auto_rows": null,
            "grid_column": null,
            "grid_gap": null,
            "grid_row": null,
            "grid_template_areas": null,
            "grid_template_columns": null,
            "grid_template_rows": null,
            "height": null,
            "justify_content": null,
            "justify_items": null,
            "left": null,
            "margin": null,
            "max_height": null,
            "max_width": null,
            "min_height": null,
            "min_width": null,
            "object_fit": null,
            "object_position": null,
            "order": null,
            "overflow": null,
            "overflow_x": null,
            "overflow_y": null,
            "padding": null,
            "right": null,
            "top": null,
            "visibility": null,
            "width": null
          }
        },
        "d7bce00677d94f9ba4c697207cfdfc89": {
          "model_module": "@jupyter-widgets/controls",
          "model_name": "DescriptionStyleModel",
          "model_module_version": "1.5.0",
          "state": {
            "_model_module": "@jupyter-widgets/controls",
            "_model_module_version": "1.5.0",
            "_model_name": "DescriptionStyleModel",
            "_view_count": null,
            "_view_module": "@jupyter-widgets/base",
            "_view_module_version": "1.2.0",
            "_view_name": "StyleView",
            "description_width": ""
          }
        },
        "bc9107cfc1c14aaeac2c3acc6d8a0dfe": {
          "model_module": "@jupyter-widgets/base",
          "model_name": "LayoutModel",
          "model_module_version": "1.2.0",
          "state": {
            "_model_module": "@jupyter-widgets/base",
            "_model_module_version": "1.2.0",
            "_model_name": "LayoutModel",
            "_view_count": null,
            "_view_module": "@jupyter-widgets/base",
            "_view_module_version": "1.2.0",
            "_view_name": "LayoutView",
            "align_content": null,
            "align_items": null,
            "align_self": null,
            "border": null,
            "bottom": null,
            "display": null,
            "flex": null,
            "flex_flow": null,
            "grid_area": null,
            "grid_auto_columns": null,
            "grid_auto_flow": null,
            "grid_auto_rows": null,
            "grid_column": null,
            "grid_gap": null,
            "grid_row": null,
            "grid_template_areas": null,
            "grid_template_columns": null,
            "grid_template_rows": null,
            "height": null,
            "justify_content": null,
            "justify_items": null,
            "left": null,
            "margin": null,
            "max_height": null,
            "max_width": null,
            "min_height": null,
            "min_width": null,
            "object_fit": null,
            "object_position": null,
            "order": null,
            "overflow": null,
            "overflow_x": null,
            "overflow_y": null,
            "padding": null,
            "right": null,
            "top": null,
            "visibility": null,
            "width": null
          }
        },
        "5b4f9a0d39c54c1a9c69664006280158": {
          "model_module": "@jupyter-widgets/controls",
          "model_name": "ProgressStyleModel",
          "model_module_version": "1.5.0",
          "state": {
            "_model_module": "@jupyter-widgets/controls",
            "_model_module_version": "1.5.0",
            "_model_name": "ProgressStyleModel",
            "_view_count": null,
            "_view_module": "@jupyter-widgets/base",
            "_view_module_version": "1.2.0",
            "_view_name": "StyleView",
            "bar_color": null,
            "description_width": ""
          }
        },
        "69ac141a05894f7285a0d6cec0edb90e": {
          "model_module": "@jupyter-widgets/base",
          "model_name": "LayoutModel",
          "model_module_version": "1.2.0",
          "state": {
            "_model_module": "@jupyter-widgets/base",
            "_model_module_version": "1.2.0",
            "_model_name": "LayoutModel",
            "_view_count": null,
            "_view_module": "@jupyter-widgets/base",
            "_view_module_version": "1.2.0",
            "_view_name": "LayoutView",
            "align_content": null,
            "align_items": null,
            "align_self": null,
            "border": null,
            "bottom": null,
            "display": null,
            "flex": null,
            "flex_flow": null,
            "grid_area": null,
            "grid_auto_columns": null,
            "grid_auto_flow": null,
            "grid_auto_rows": null,
            "grid_column": null,
            "grid_gap": null,
            "grid_row": null,
            "grid_template_areas": null,
            "grid_template_columns": null,
            "grid_template_rows": null,
            "height": null,
            "justify_content": null,
            "justify_items": null,
            "left": null,
            "margin": null,
            "max_height": null,
            "max_width": null,
            "min_height": null,
            "min_width": null,
            "object_fit": null,
            "object_position": null,
            "order": null,
            "overflow": null,
            "overflow_x": null,
            "overflow_y": null,
            "padding": null,
            "right": null,
            "top": null,
            "visibility": null,
            "width": null
          }
        },
        "f5cc0f866f674dc98455e4f2d172af26": {
          "model_module": "@jupyter-widgets/controls",
          "model_name": "DescriptionStyleModel",
          "model_module_version": "1.5.0",
          "state": {
            "_model_module": "@jupyter-widgets/controls",
            "_model_module_version": "1.5.0",
            "_model_name": "DescriptionStyleModel",
            "_view_count": null,
            "_view_module": "@jupyter-widgets/base",
            "_view_module_version": "1.2.0",
            "_view_name": "StyleView",
            "description_width": ""
          }
        }
      }
    }
  },
  "nbformat": 4,
  "nbformat_minor": 0
}